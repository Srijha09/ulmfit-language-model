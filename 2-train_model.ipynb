{
 "cells": [
  {
   "cell_type": "markdown",
   "metadata": {},
   "source": [
    "### Train model\n",
    "\n",
    "Dataset \n",
    "16840 entries of business news\n",
    "\n",
    "in 5 categories by how negative/positive for given entity\n",
    "\n",
    "Entity is a company name, with given location within text. Can be several entities in single article.\n",
    "\n",
    "headline is also given."
   ]
  },
  {
   "cell_type": "code",
   "execution_count": null,
   "metadata": {},
   "outputs": [],
   "source": [
    "import json\n",
    "import ast\n",
    "import pandas as pd\n",
    "import html\n",
    "import numpy as np\n",
    "from sklearn.model_selection import train_test_split\n",
    "\n",
    "import sys\n",
    "sys.path.append(\"../fastaiDL/fastai/courses/dl2\")\n",
    "from fastai.text import *"
   ]
  },
  {
   "cell_type": "code",
   "execution_count": 2,
   "metadata": {},
   "outputs": [
    {
     "name": "stdout",
     "output_type": "stream",
     "text": [
      "0.6\n"
     ]
    }
   ],
   "source": [
    "import fastai\n",
    "print(getattr(fastai, '__version__', 0.6))"
   ]
  },
  {
   "cell_type": "code",
   "execution_count": 3,
   "metadata": {},
   "outputs": [],
   "source": [
    "import warnings\n",
    "warnings.filterwarnings('ignore')"
   ]
  },
  {
   "cell_type": "code",
   "execution_count": 4,
   "metadata": {},
   "outputs": [],
   "source": [
    "DATA = 'data/'\n",
    "file = 'polarity_data.js' # business news\n",
    "datafile = DATA+file\n",
    "\n",
    "LM_PATH=Path('work/lm/')\n",
    "LM_PATH.mkdir(exist_ok=True)\n",
    "CLAS_PATH=Path('work/clas/')\n",
    "CLAS_PATH.mkdir(exist_ok=True)\n",
    "PATH=Path('.')\n",
    "CLASSES = ['veryneg', 'neg', 'neut', 'pos', 'very pos']\n",
    "\n",
    "#tags\n",
    "XBOB = ' xbob ' # beginning-of-body tag\n",
    "#ENTBEG = 'xentb '  # beginning-of-entity in text\n",
    "#ENTEND = ' xente'  # end of entity in text\n",
    "ENT =  'ENTITY '   # replace target entity in the text\n",
    "\n",
    "# '_entity_' ended up as 3 tokens '_', 'entity', '_'"
   ]
  },
  {
   "cell_type": "markdown",
   "metadata": {},
   "source": [
    "with open(datafile, encoding='utf-8') as data_file:\n",
    "    data = ast.literal_eval(data_file.read())\n",
    "df = pd.DataFrame.from_dict(data, orient='columns')"
   ]
  },
  {
   "cell_type": "raw",
   "metadata": {},
   "source": [
    "# extract headline start and end\n",
    "df = pd.concat( [df, df['headline'].apply(pd.Series)], axis=1)"
   ]
  },
  {
   "cell_type": "markdown",
   "metadata": {},
   "source": [
    "### Randomize"
   ]
  },
  {
   "cell_type": "raw",
   "metadata": {},
   "source": [
    "np.random.seed(1)\n",
    "texts_idx = np.random.permutation(len(df))\n",
    "df = df.iloc[texts_idx]"
   ]
  },
  {
   "cell_type": "markdown",
   "metadata": {},
   "source": [
    "### LM tokenize"
   ]
  },
  {
   "cell_type": "code",
   "execution_count": 5,
   "metadata": {},
   "outputs": [],
   "source": [
    "clas_file = 15718 # by maxsize, see filename in PATH CLAS_PATH if need\n",
    "lm_file = 14840\n",
    "\n",
    "trainfile =   'train'+str(lm_file)+'.csv'\n",
    "testfile  = 'test_of'+str(lm_file)+'.csv'\n",
    "\n",
    "chunksize=24000\n",
    "BOS = 'xbos'  # beginning-of-sentence tag\n",
    "FLD = 'xfld'  # data field tag"
   ]
  },
  {
   "cell_type": "code",
   "execution_count": 6,
   "metadata": {},
   "outputs": [],
   "source": [
    "df_train = pd.read_csv(LM_PATH/trainfile, header=None, chunksize=chunksize)\n",
    "df_validate = pd.read_csv(LM_PATH/testfile, header=None, chunksize=chunksize)"
   ]
  },
  {
   "cell_type": "code",
   "execution_count": 7,
   "metadata": {},
   "outputs": [],
   "source": [
    "import re, html\n",
    "re1 = re.compile(r'  +')\n",
    "\n",
    "def fixup(x):\n",
    "    x = x.replace('#39;', \"'\").replace('amp;', '&').replace('#146;', \"'\").replace(\n",
    "        #'nbsp;', ' ').replace('#36;', '$').replace('\\\\n', \"\\n\").replace('quot;', \"'\").replace(\n",
    "        # '\\n' replaced with ' '\n",
    "        'nbsp;', ' ').replace('#36;', '$').replace('\\\\n', ' ').replace('quot;', \"'\").replace(\n",
    "        '<br />', \"\\n\").replace('\\\\\"', '\"').replace('<unk>','u_n').replace(' @.@ ','.').replace(\n",
    "        ' @-@ ','-').replace('\\\\', ' \\\\ ')\n",
    "    return re1.sub(' ', html.unescape(x))"
   ]
  },
  {
   "cell_type": "code",
   "execution_count": 8,
   "metadata": {},
   "outputs": [],
   "source": [
    "def get_texts(df, n_lbls=1):\n",
    "    labels = df.iloc[:,range(n_lbls)].values.astype(np.int64)\n",
    "    texts = f'\\n{BOS} {FLD} 1 ' + df[n_lbls].astype(str)\n",
    "    for i in range(n_lbls+1, len(df.columns)): texts += f' {FLD} {i-n_lbls} ' + df[i].astype(str)\n",
    "    texts = list(texts.apply(fixup).values)\n",
    "\n",
    "    tok = Tokenizer().proc_all_mp(partition_by_cores(texts))\n",
    "    return tok, list(labels)"
   ]
  },
  {
   "cell_type": "code",
   "execution_count": 9,
   "metadata": {},
   "outputs": [],
   "source": [
    "def get_all(df, n_lbls):\n",
    "    tok, labels = [], []\n",
    "    for i, r in enumerate(df):\n",
    "        print(i)\n",
    "        tok_, labels_ = get_texts(r, n_lbls)\n",
    "        tok += tok_;\n",
    "        labels += labels_\n",
    "    return tok, labels"
   ]
  },
  {
   "cell_type": "code",
   "execution_count": 10,
   "metadata": {},
   "outputs": [
    {
     "name": "stdout",
     "output_type": "stream",
     "text": [
      "0\n",
      "0\n"
     ]
    }
   ],
   "source": [
    "tok_train, trn_labels = get_all(df_train, 1)\n",
    "tok_validate, val_labels = get_all(df_validate, 1)"
   ]
  },
  {
   "cell_type": "code",
   "execution_count": 11,
   "metadata": {},
   "outputs": [],
   "source": [
    "np.save(LM_PATH/'tmp'/'tok_train.npy', tok_train)\n",
    "np.save(LM_PATH/'tmp'/'tok_validate.npy', tok_validate)"
   ]
  },
  {
   "cell_type": "code",
   "execution_count": 12,
   "metadata": {},
   "outputs": [],
   "source": [
    "tok_train = np.load(LM_PATH/'tmp'/'tok_train.npy')\n",
    "tok_validate = np.load(LM_PATH/'tmp'/'tok_validate.npy')"
   ]
  },
  {
   "cell_type": "code",
   "execution_count": 13,
   "metadata": {},
   "outputs": [
    {
     "data": {
      "text/plain": [
       "[('the', 349664),\n",
       " (',', 294419),\n",
       " ('.', 287418),\n",
       " ('\\n', 182449),\n",
       " ('to', 181482),\n",
       " ('of', 153664),\n",
       " ('and', 144620),\n",
       " ('in', 143840),\n",
       " ('a', 134955),\n",
       " ('-', 79642),\n",
       " ('t_up', 77125),\n",
       " ('for', 66610),\n",
       " ('that', 60775),\n",
       " ('on', 59742),\n",
       " ('$', 53449),\n",
       " ('is', 53366),\n",
       " ('it', 48670),\n",
       " ('\"', 46549),\n",
       " ('its', 46457),\n",
       " ('with', 43788),\n",
       " (\"'s\", 41296),\n",
       " ('said', 41261),\n",
       " ('company', 39228),\n",
       " ('as', 37325),\n",
       " ('by', 36956)]"
      ]
     },
     "execution_count": 13,
     "metadata": {},
     "output_type": "execute_result"
    }
   ],
   "source": [
    "freq = Counter(p for o in tok_train for p in o)\n",
    "freq.most_common(25)"
   ]
  },
  {
   "cell_type": "code",
   "execution_count": 14,
   "metadata": {},
   "outputs": [],
   "source": [
    "max_vocab = 60000\n",
    "min_freq = 2"
   ]
  },
  {
   "cell_type": "code",
   "execution_count": 15,
   "metadata": {},
   "outputs": [],
   "source": [
    "itos = [o for o,c in freq.most_common(max_vocab) if c>min_freq]\n",
    "itos.insert(0, '_pad_')\n",
    "itos.insert(0, '_unk_')\n",
    "\n",
    "#itos.insert(0, '_pad_')\n",
    "itos.insert(0, '<unk>')\n",
    "\n",
    "# WAS it <unk> in the data, not _unk_?"
   ]
  },
  {
   "cell_type": "code",
   "execution_count": 16,
   "metadata": {},
   "outputs": [],
   "source": [
    "# insert for ENTITY (target entity)\n",
    "itos.insert(0, 'ENTITY')"
   ]
  },
  {
   "cell_type": "code",
   "execution_count": 17,
   "metadata": {},
   "outputs": [
    {
     "data": {
      "text/plain": [
       "34915"
      ]
     },
     "execution_count": 17,
     "metadata": {},
     "output_type": "execute_result"
    }
   ],
   "source": [
    "stoi = collections.defaultdict(lambda:0, {v:k for k,v in enumerate(itos)})\n",
    "len(itos)"
   ]
  },
  {
   "cell_type": "code",
   "execution_count": 18,
   "metadata": {},
   "outputs": [],
   "source": [
    "train_lm = np.array([[stoi[o] for o in p] for p in tok_train])\n",
    "validate_lm = np.array([[stoi[o] for o in p] for p in tok_validate])"
   ]
  },
  {
   "cell_type": "code",
   "execution_count": 19,
   "metadata": {},
   "outputs": [],
   "source": [
    "np.save(LM_PATH/'tmp'/'trn_ids.npy', train_lm)\n",
    "np.save(LM_PATH/'tmp'/'val_ids.npy', validate_lm)\n",
    "pickle.dump(itos, open(LM_PATH/'tmp'/'itos.pkl', 'wb'))"
   ]
  },
  {
   "cell_type": "code",
   "execution_count": 20,
   "metadata": {},
   "outputs": [],
   "source": [
    "# EXTRA\n",
    "# STORE THIS! Needed for prediction\n",
    "pickle.dump(itos, open(LM_PATH/'tmp'/'itosMax.pkl', 'wb'))"
   ]
  },
  {
   "cell_type": "code",
   "execution_count": 24,
   "metadata": {},
   "outputs": [],
   "source": [
    "train_lm = np.load(LM_PATH/'tmp'/'trn_ids.npy')\n",
    "validate_lm = np.load(LM_PATH/'tmp'/'val_ids.npy')\n",
    "itos = pickle.load(open(LM_PATH/'tmp'/'itos.pkl', 'rb'))"
   ]
  },
  {
   "cell_type": "code",
   "execution_count": 25,
   "metadata": {},
   "outputs": [
    {
     "data": {
      "text/plain": [
       "(34915, 14840)"
      ]
     },
     "execution_count": 25,
     "metadata": {},
     "output_type": "execute_result"
    }
   ],
   "source": [
    "vocsize=len(itos)\n",
    "vocsize,len(train_lm)"
   ]
  },
  {
   "cell_type": "code",
   "execution_count": 26,
   "metadata": {},
   "outputs": [
    {
     "data": {
      "text/plain": [
       "14840"
      ]
     },
     "execution_count": 26,
     "metadata": {},
     "output_type": "execute_result"
    }
   ],
   "source": [
    "len(tok_train)"
   ]
  },
  {
   "cell_type": "markdown",
   "metadata": {},
   "source": [
    "### Wikitext-103 conversion"
   ]
  },
  {
   "cell_type": "markdown",
   "metadata": {},
   "source": [
    "Our source LM is the wikitext103 LM created by Stephen Merity @ Salesforce research. Link to dataset The language model for wikitext103 (AWD LSTM) has been pre-trained and the weights can be downloaded here: Link. Our target LM is the IMDB LM. "
   ]
  },
  {
   "cell_type": "code",
   "execution_count": 27,
   "metadata": {},
   "outputs": [],
   "source": [
    "# ! wget -nH -r -np -P {PATH} http://files.fast.ai/models/wt103/"
   ]
  },
  {
   "cell_type": "markdown",
   "metadata": {},
   "source": [
    "The pre-trained LM weights have an embedding size of 400, 1150 hidden units and just 3 layers. We need to match these values with the target IMDB LM so that the weights can be loaded up."
   ]
  },
  {
   "cell_type": "code",
   "execution_count": 28,
   "metadata": {},
   "outputs": [],
   "source": [
    "emb_size,nhiddenu,nlayers = 400,1150,3"
   ]
  },
  {
   "cell_type": "code",
   "execution_count": 29,
   "metadata": {},
   "outputs": [
    {
     "data": {
      "text/plain": [
       "PosixPath('.')"
      ]
     },
     "execution_count": 29,
     "metadata": {},
     "output_type": "execute_result"
    }
   ],
   "source": [
    "PATH=Path('.')\n",
    "PATH"
   ]
  },
  {
   "cell_type": "code",
   "execution_count": 30,
   "metadata": {},
   "outputs": [],
   "source": [
    "PRE_PATH = PATH/'models'/'wt103'\n",
    "PRE_LM_PATH = PRE_PATH/'fwd_wt103.h5'"
   ]
  },
  {
   "cell_type": "code",
   "execution_count": 31,
   "metadata": {},
   "outputs": [],
   "source": [
    "#PRE_PATH = 'models/wt103'\n",
    "#PRE_LM_PATH = 'models/wt103/fwd_wt103.h5'"
   ]
  },
  {
   "cell_type": "code",
   "execution_count": 32,
   "metadata": {},
   "outputs": [
    {
     "data": {
      "text/plain": [
       "PosixPath('models/wt103/fwd_wt103.h5')"
      ]
     },
     "execution_count": 32,
     "metadata": {},
     "output_type": "execute_result"
    }
   ],
   "source": [
    "PRE_LM_PATH"
   ]
  },
  {
   "cell_type": "code",
   "execution_count": 33,
   "metadata": {},
   "outputs": [],
   "source": [
    "wgts = torch.load(PRE_LM_PATH, map_location=lambda storage, loc: storage)"
   ]
  },
  {
   "cell_type": "markdown",
   "metadata": {},
   "source": [
    "We calculate the mean of the layer0 encoder weights. This can be used to assign weights to unknown tokens when we transfer to target IMDB LM."
   ]
  },
  {
   "cell_type": "code",
   "execution_count": 34,
   "metadata": {},
   "outputs": [],
   "source": [
    "enc_wgts = to_np(wgts['0.encoder.weight'])\n",
    "row_m = enc_wgts.mean(0)"
   ]
  },
  {
   "cell_type": "code",
   "execution_count": 35,
   "metadata": {},
   "outputs": [],
   "source": [
    "itos2 = pickle.load((PRE_PATH/'itos_wt103.pkl').open('rb'))\n",
    "stoi2 = collections.defaultdict(lambda:-1, {v:k for k,v in enumerate(itos2)})"
   ]
  },
  {
   "cell_type": "markdown",
   "metadata": {},
   "source": [
    "Before we try to transfer the knowledge from wikitext to the IMDB LM, we match up the vocab words and their indexes. We use the defaultdict container once again, to assign mean weights to unknown IMDB tokens that do not exist in wikitext103."
   ]
  },
  {
   "cell_type": "code",
   "execution_count": 36,
   "metadata": {},
   "outputs": [],
   "source": [
    "new_w = np.zeros((vocsize, emb_size), dtype=np.float32)\n",
    "for i,w in enumerate(itos):\n",
    "    r = stoi2[w]\n",
    "    new_w[i] = enc_wgts[r] if r>=0 else row_m"
   ]
  },
  {
   "cell_type": "markdown",
   "metadata": {},
   "source": [
    "We now overwrite the weights into the wgts odict. The decoder module, which we will explore in detail is also loaded with the same weights due to an idea called weight tying."
   ]
  },
  {
   "cell_type": "code",
   "execution_count": 37,
   "metadata": {},
   "outputs": [],
   "source": [
    "wgts['0.encoder.weight'] = T(new_w)\n",
    "wgts['0.encoder_with_dropout.embed.weight'] = T(np.copy(new_w))\n",
    "wgts['1.decoder.weight'] = T(np.copy(new_w))"
   ]
  },
  {
   "cell_type": "code",
   "execution_count": 38,
   "metadata": {},
   "outputs": [
    {
     "data": {
      "text/plain": [
       "torch.cuda.FloatTensor"
      ]
     },
     "execution_count": 38,
     "metadata": {},
     "output_type": "execute_result"
    }
   ],
   "source": [
    "# only extra print info\n",
    "# Signature: T(a, half=False, cuda=True)\n",
    "# Docstring: Convert numpy array into a pytorch tensor\n",
    "\n",
    "a = wgts['0.encoder.weight']\n",
    "type(a)"
   ]
  },
  {
   "cell_type": "markdown",
   "metadata": {},
   "source": [
    "### Language model"
   ]
  },
  {
   "cell_type": "code",
   "execution_count": 39,
   "metadata": {},
   "outputs": [],
   "source": [
    "wd=1e-7 #weight decay\n",
    "bptt=70 # back propagation through time\n",
    "# was 52 but out of GPU mem\n",
    "# with 32 seems to use 7,36 GB \n",
    "# bs=32\n",
    "#bs = 25\n",
    "#bs = 52 # batch size\n",
    "bs=72\n",
    "bs=100\n",
    "bs=32\n",
    "optim_fn = partial(optim.Adam, betas=(0.8, 0.99))"
   ]
  },
  {
   "cell_type": "markdown",
   "metadata": {},
   "source": [
    "The goal of the LM is to learn to predict a word/token given a preceeding set of words(tokens). We take all the movie reviews in both the 90k training set and 10k validation set and concatenate them to form long strings of tokens. In fastai, we use the LanguageModelLoader to create a data loader which makes it easy to create and use bptt sized mini batches. The LanguageModelLoader takes a concatenated string of tokens and returns a loader.\n",
    "\n",
    "We have a special modeldata object class for LMs called LanguageModelData to which we can pass the training and validation loaders and get in return the model itself.\n"
   ]
  },
  {
   "cell_type": "code",
   "execution_count": 40,
   "metadata": {},
   "outputs": [],
   "source": [
    "train_dataloader = LanguageModelLoader(np.concatenate(train_lm), bs, bptt)\n",
    "validate_dataloader = LanguageModelLoader(np.concatenate(validate_lm), bs, bptt)\n",
    "model = LanguageModelData(PATH, 1, vocsize, train_dataloader, validate_dataloader, bs=bs, bptt=bptt)"
   ]
  },
  {
   "cell_type": "markdown",
   "metadata": {},
   "source": [
    "We setup the dropouts for the model - these values have been chosen after experimentation. If you need to update them for custom LMs, you can change the weighting factor (0.7 here) based on the amount of data you have. For more data, you can reduce dropout factor and for small datasets, you can reduce overfitting by choosing a higher dropout factor. No other dropout value requires tuning"
   ]
  },
  {
   "cell_type": "code",
   "execution_count": 41,
   "metadata": {},
   "outputs": [],
   "source": [
    "# dropouts\n",
    "#drops = np.array([0.25, 0.1, 0.2, 0.02, 0.15])*0.7\n",
    "drops = np.array([0.25, 0.1, 0.2, 0.02, 0.15])*0.8"
   ]
  },
  {
   "cell_type": "markdown",
   "metadata": {},
   "source": [
    "We first tune the last embedding layer so that the missing tokens initialized with mean weights get tuned properly. So we freeze everything except the last layer.\n",
    "\n",
    "We also keep track of the *accuracy* metric."
   ]
  },
  {
   "cell_type": "code",
   "execution_count": 42,
   "metadata": {},
   "outputs": [],
   "source": [
    "learner= model.get_model(optim_fn, emb_size, nhiddenu, nlayers, \n",
    "    dropouti=drops[0], dropout=drops[1], wdrop=drops[2], dropoute=drops[3], dropouth=drops[4])\n",
    "\n",
    "learner.metrics = [accuracy]\n",
    "learner.freeze_to(-1)"
   ]
  },
  {
   "cell_type": "code",
   "execution_count": 43,
   "metadata": {},
   "outputs": [],
   "source": [
    "learner.model.load_state_dict(wgts)"
   ]
  },
  {
   "cell_type": "markdown",
   "metadata": {},
   "source": [
    "We set learning rates and fit our OWN LM. We first run one epoch to tune the last layer which contains the embedding weights. This should help the missing tokens in the wikitext103 learn better weights."
   ]
  },
  {
   "cell_type": "code",
   "execution_count": 44,
   "metadata": {},
   "outputs": [],
   "source": [
    "lr=1e-3\n",
    "lrs = lr"
   ]
  },
  {
   "cell_type": "code",
   "execution_count": 45,
   "metadata": {},
   "outputs": [],
   "source": [
    "bs=140\n",
    "# LM 140 is ok, 200 is oom (full length LM-articles)\n",
    "# bs 140, 8k truncated 6659 MB -> up to 6965 when proceeding\n",
    "\n",
    "# expected\n",
    "# learner.fit  0.317314\n",
    "# lr_find 0.355"
   ]
  },
  {
   "cell_type": "code",
   "execution_count": 46,
   "metadata": {},
   "outputs": [
    {
     "data": {
      "application/vnd.jupyter.widget-view+json": {
       "model_id": "c17d1d3718974ec782792ecaa7fe2ff9",
       "version_major": 2,
       "version_minor": 0
      },
      "text/plain": [
       "HBox(children=(IntProgress(value=0, description='Epoch', max=1), HTML(value='')))"
      ]
     },
     "metadata": {},
     "output_type": "display_data"
    },
    {
     "name": "stdout",
     "output_type": "stream",
     "text": [
      "epoch      trn_loss   val_loss   accuracy                     \n",
      "    0      4.453638   4.120457   0.300652  \n",
      "\n"
     ]
    },
    {
     "data": {
      "text/plain": [
       "[array([4.12046]), 0.3006517675098957]"
      ]
     },
     "execution_count": 46,
     "metadata": {},
     "output_type": "execute_result"
    }
   ],
   "source": [
    "learner.fit(lrs/2, 1, wds=wd, use_clr=(32,2), cycle_len=1)"
   ]
  },
  {
   "cell_type": "markdown",
   "metadata": {},
   "source": [
    "Note that we print out accuracy and keep track of how often we end up predicting the target word correctly. While this is a good metric to check, it is not part of our loss function as it can get quite bumpy. We only minimize cross-entropy loss in the LM.\n",
    "\n",
    "The exponent of the cross-entropy loss is called the perplexity of the LM. (low perplexity is better).\n"
   ]
  },
  {
   "cell_type": "code",
   "execution_count": 61,
   "metadata": {},
   "outputs": [],
   "source": [
    "learner.save('lm_last-ent_ft')"
   ]
  },
  {
   "cell_type": "code",
   "execution_count": 62,
   "metadata": {},
   "outputs": [],
   "source": [
    "learner.load('lm_last-ent_ft')"
   ]
  },
  {
   "cell_type": "code",
   "execution_count": 63,
   "metadata": {},
   "outputs": [],
   "source": [
    "learner.unfreeze()"
   ]
  },
  {
   "cell_type": "code",
   "execution_count": 64,
   "metadata": {},
   "outputs": [],
   "source": [
    "#bs=140"
   ]
  },
  {
   "cell_type": "code",
   "execution_count": 65,
   "metadata": {},
   "outputs": [
    {
     "data": {
      "application/vnd.jupyter.widget-view+json": {
       "model_id": "5ab07eea092242e49eda821e3cc2e4a8",
       "version_major": 2,
       "version_minor": 0
      },
      "text/plain": [
       "HBox(children=(IntProgress(value=0, description='Epoch', max=1), HTML(value='')))"
      ]
     },
     "metadata": {},
     "output_type": "display_data"
    },
    {
     "name": "stdout",
     "output_type": "stream",
     "text": [
      "epoch      trn_loss   val_loss   accuracy                     \n",
      "    0      4.095493   3.788278   0.338212  \n",
      "\n"
     ]
    }
   ],
   "source": [
    "learner.lr_find(start_lr=lrs/10, end_lr=lrs*10, linear=True)"
   ]
  },
  {
   "cell_type": "code",
   "execution_count": 66,
   "metadata": {},
   "outputs": [
    {
     "data": {
      "image/png": "[encoded data removed]",
      "text/plain": [
       "<Figure size 432x288 with 1 Axes>"
      ]
     },
     "metadata": {},
     "output_type": "display_data"
    }
   ],
   "source": [
    "learner.sched.plot()"
   ]
  },
  {
   "cell_type": "code",
   "execution_count": 67,
   "metadata": {},
   "outputs": [
    {
     "data": {
      "text/plain": [
       "0.001"
      ]
     },
     "execution_count": 67,
     "metadata": {},
     "output_type": "execute_result"
    }
   ],
   "source": [
    "lrs"
   ]
  },
  {
   "cell_type": "code",
   "execution_count": 68,
   "metadata": {},
   "outputs": [
    {
     "data": {
      "application/vnd.jupyter.widget-view+json": {
       "model_id": "9403bc36731446749bb525e696aca9bb",
       "version_major": 2,
       "version_minor": 0
      },
      "text/plain": [
       "HBox(children=(IntProgress(value=0, description='Epoch', max=20), HTML(value='')))"
      ]
     },
     "metadata": {},
     "output_type": "display_data"
    },
    {
     "name": "stdout",
     "output_type": "stream",
     "text": [
      "epoch      trn_loss   val_loss   accuracy                     \n",
      "    0      3.635672   3.312772   0.395224  \n",
      "    1      3.220798   2.92392    0.449953                     \n",
      "    2      2.997155   2.690247   0.488311                     \n",
      "    3      2.810141   2.549778   0.513016                     \n",
      "    4      2.687036   2.458257   0.530001                     \n",
      "    5      2.626963   2.389082   0.544225                     \n",
      "    6      2.553965   2.338485   0.554421                     \n",
      "    7      2.611864   2.292894   0.561937                     \n",
      "    8      2.440274   2.256401   0.569852                     \n",
      "    9      2.43019    2.224718   0.576048                     \n",
      "    10     2.392038   2.202989   0.580578                     \n",
      "    11     2.383107   2.172906   0.58659                      \n",
      "    12     2.276034   2.15677    0.591451                     \n",
      "    13     2.305274   2.136978   0.594777                     \n",
      "    14     2.228293   2.121025   0.598528                     \n",
      "    15     2.219782   2.103678   0.602048                     \n",
      "    16     2.157073   2.091512   0.604977                     \n",
      "    17     2.217391   2.084229   0.606461                     \n",
      "    18     2.161222   2.07643    0.609006                     \n",
      "    19     2.193371   2.069207   0.610115                     \n",
      "\n"
     ]
    },
    {
     "data": {
      "text/plain": [
       "[array([2.06921]), 0.6101147709810227]"
      ]
     },
     "execution_count": 68,
     "metadata": {},
     "output_type": "execute_result"
    }
   ],
   "source": [
    "bs=140\n",
    "lrs =1e-3\n",
    "learner.fit(lrs, n_cycle=1, wds=wd, use_clr=(20,10), cycle_len=20)"
   ]
  },
  {
   "cell_type": "code",
   "execution_count": 165,
   "metadata": {},
   "outputs": [
    {
     "data": {
      "application/vnd.jupyter.widget-view+json": {
       "model_id": "c75f2ec6a4d14d3e95e562ced563e218",
       "version_major": 2,
       "version_minor": 0
      },
      "text/plain": [
       "HBox(children=(IntProgress(value=0, description='Epoch', max=20), HTML(value='')))"
      ]
     },
     "metadata": {},
     "output_type": "display_data"
    },
    {
     "name": "stdout",
     "output_type": "stream",
     "text": [
      "epoch      trn_loss   val_loss   accuracy                     \n",
      "    0      3.451486   3.219849   0.406877  \n",
      "    1      3.476988   3.22243    0.406604                     \n",
      "    2      3.365643   3.12433    0.421181                     \n",
      "    3      3.204469   3.02028    0.436237                     \n",
      "    4      3.136014   2.944028   0.448716                     \n",
      "    5      3.074043   2.873266   0.461102                     \n",
      "    6      2.972078   2.798478   0.473559                     \n",
      "    7      2.865905   2.739218   0.483731                     \n",
      "    8      2.770412   2.683193   0.493587                     \n",
      "    9      2.79299    2.627315   0.503411                     \n",
      "    10     2.651105   2.577286   0.51316                      \n",
      "    11     2.57571    2.531726   0.521849                     \n",
      "    12     2.517409   2.488049   0.529755                     \n",
      "    13     2.456295   2.446648   0.538016                     \n",
      "    14     2.480263   2.408098   0.545173                     \n",
      "    15     2.385134   2.367422   0.553632                     \n",
      "    16     2.368415   2.336312   0.559832                     \n",
      "    17     2.238819   2.305802   0.565981                     \n",
      "    18     2.313814   2.280693   0.570566                     \n",
      "    19     2.218202   2.262762   0.574868                     \n"
     ]
    },
    {
     "data": {
      "text/plain": [
       "[array([2.26276]), 0.5748678171737294]"
      ]
     },
     "execution_count": 165,
     "metadata": {},
     "output_type": "execute_result"
    }
   ],
   "source": [
    "# after splitting entities, first main try, .59+ is goal, data randomized, entities not marked in LM\n",
    "# 20 reaches 0.57 and still increasing fast 0.57 to 0.574\n",
    "# batchsize 200 worked for 4k truncated\n",
    "bs=140 \n",
    "lrs =5e-3\n",
    "learner.fit(lrs, n_cycle=1, wds=wd, use_clr=(20,10), cycle_len=20)"
   ]
  },
  {
   "cell_type": "code",
   "execution_count": null,
   "metadata": {},
   "outputs": [],
   "source": [
    "# after splitting entities, first main try, .59+ is goal\n",
    "lrs =5e-3\n",
    "learner.fit(lrs, n_cycle=1, wds=wd, use_clr=(20,10), cycle_len=20)"
   ]
  },
  {
   "cell_type": "code",
   "execution_count": 82,
   "metadata": {},
   "outputs": [
    {
     "data": {
      "application/vnd.jupyter.widget-view+json": {
       "model_id": "402e6f179b7440a885f527f5988a0eb2",
       "version_major": 2,
       "version_minor": 0
      },
      "text/plain": [
       "HBox(children=(IntProgress(value=0, description='Epoch', max=15), HTML(value='')))"
      ]
     },
     "metadata": {},
     "output_type": "display_data"
    },
    {
     "name": "stdout",
     "output_type": "stream",
     "text": [
      "epoch      trn_loss   val_loss   accuracy                     \n",
      "    0      3.574274   3.2758     0.399256  \n",
      "    1      3.500602   3.235741   0.404575                     \n",
      "    2      3.353847   3.093312   0.425605                     \n",
      "    3      3.221653   2.985482   0.442458                     \n",
      "    4      3.124829   2.893923   0.456953                     \n",
      "    5      3.026518   2.815494   0.469902                     \n",
      "    6      2.926473   2.736441   0.483996                     \n",
      "    7      2.852153   2.670463   0.496062                     \n",
      "    8      2.799434   2.600488   0.507748                     \n",
      "    9      2.706199   2.541887   0.518628                     \n",
      "    10     2.633005   2.487245   0.528666                     \n",
      "    11     2.568277   2.439431   0.538178                     \n",
      "    12     2.492155   2.39227    0.547058                     \n",
      "    13     2.427679   2.358953   0.554006                     \n",
      "    14     2.39076    2.329921   0.560096                     \n",
      "\n"
     ]
    },
    {
     "data": {
      "text/plain": [
       "[array([2.32992]), 0.5600963007129652]"
      ]
     },
     "execution_count": 82,
     "metadata": {},
     "output_type": "execute_result"
    }
   ],
   "source": [
    "# trunc 4k, maybe not good, repeating same data instead of new\n",
    ".learner.fit(lrs, n_cycle=1, wds=wd, use_clr=(20,10), cycle_len=15)"
   ]
  },
  {
   "cell_type": "code",
   "execution_count": 69,
   "metadata": {},
   "outputs": [],
   "source": [
    "learner.save('lm1-full-noent-061')"
   ]
  },
  {
   "cell_type": "code",
   "execution_count": 70,
   "metadata": {},
   "outputs": [],
   "source": [
    "learner.save_encoder('lm1-full-noent061_enc')"
   ]
  },
  {
   "cell_type": "markdown",
   "metadata": {},
   "source": [
    "We save the trained model weights and separately save the encoder part of the LM model as well. This will serve as our backbone in the classification task model."
   ]
  },
  {
   "cell_type": "code",
   "execution_count": 83,
   "metadata": {},
   "outputs": [],
   "source": [
    "#learner.save('lm1-trunc4k12k-ent')"
   ]
  },
  {
   "cell_type": "code",
   "execution_count": 84,
   "metadata": {},
   "outputs": [],
   "source": [
    "#learner.save_encoder('lm1-trunc4k12k-ent_enc')"
   ]
  },
  {
   "cell_type": "code",
   "execution_count": 71,
   "metadata": {},
   "outputs": [
    {
     "data": {
      "text/plain": [
       "Text(0,0.5,'Accuracy')"
      ]
     },
     "execution_count": 71,
     "metadata": {},
     "output_type": "execute_result"
    },
    {
     "data": {
      "image/png": "[encoded data removed]",
      "text/plain": [
       "<Figure size 576x864 with 2 Axes>"
      ]
     },
     "metadata": {},
     "output_type": "display_data"
    }
   ],
   "source": [
    "epochs = len(learner.sched.val_losses)\n",
    "fig,ax = plt.subplots(2,1,figsize=(8,12))\n",
    "ax[0].plot(list(range(epochs)),learner.sched.val_losses, label='Validation loss')\n",
    "ax[0].plot(list(range(epochs)),[learner.sched.losses[i] for i in range(epochs)], label='Training loss')\n",
    "ax[0].set_xlabel('Epoch')\n",
    "ax[0].set_ylabel('Loss')\n",
    "ax[0].legend(loc='upper right')\n",
    "\n",
    "ax[1].plot(list(range(epochs)),learner.sched.rec_metrics)\n",
    "ax[1].set_xlabel('Epoch')\n",
    "ax[1].set_ylabel('Accuracy')"
   ]
  },
  {
   "cell_type": "code",
   "execution_count": 57,
   "metadata": {},
   "outputs": [
    {
     "data": {
      "image/png": "[encoded data removed]",
      "text/plain": [
       "<Figure size 432x288 with 1 Axes>"
      ]
     },
     "metadata": {},
     "output_type": "display_data"
    }
   ],
   "source": [
    "learner.sched.plot_loss()"
   ]
  },
  {
   "cell_type": "markdown",
   "metadata": {},
   "source": [
    "### Classifier Tokens"
   ]
  },
  {
   "cell_type": "markdown",
   "metadata": {},
   "source": [
    "The classifier model is basically a linear layer custom head on top of the LM backbone. Setting up the classifier data is similar to the LM data setup except that we cannot use the unsup movie reviews this time.\n"
   ]
  },
  {
   "cell_type": "markdown",
   "metadata": {},
   "source": [
    "trainsize = 12000\n",
    "devsize = 3000\n",
    "trainfile = 'train'+str(trainsize)+'.csv'\n",
    "devfile = 'test'+str(devsize)+'.csv'\n",
    "\n"
   ]
  },
  {
   "cell_type": "code",
   "execution_count": 11,
   "metadata": {},
   "outputs": [],
   "source": [
    "# extra if start here\n",
    "chunksize=24000\n",
    "BOS = 'xbos'  # beginning-of-sentence tag\n",
    "FLD = 'xfld'  # data field tag"
   ]
  },
  {
   "cell_type": "code",
   "execution_count": 10,
   "metadata": {},
   "outputs": [],
   "source": [
    "# fix for filename to save\n",
    "trainsize = 15718"
   ]
  },
  {
   "cell_type": "code",
   "execution_count": 11,
   "metadata": {},
   "outputs": [],
   "source": [
    "# clasfile len = 15718\n",
    "trainfile = 'train15718entity.csv'\n",
    "devfile = 'test_of15718entity.csv'\n",
    "\n",
    "df_train = pd.read_csv(CLAS_PATH/trainfile, header=None, chunksize=chunksize)\n",
    "df_validate = pd.read_csv(CLAS_PATH/devfile, header=None, chunksize=chunksize)"
   ]
  },
  {
   "cell_type": "code",
   "execution_count": 12,
   "metadata": {},
   "outputs": [
    {
     "data": {
      "text/plain": [
       "<pandas.io.parsers.TextFileReader at 0x7f412b4300b8>"
      ]
     },
     "execution_count": 12,
     "metadata": {},
     "output_type": "execute_result"
    }
   ],
   "source": [
    "df_train"
   ]
  },
  {
   "cell_type": "code",
   "execution_count": 13,
   "metadata": {},
   "outputs": [
    {
     "name": "stdout",
     "output_type": "stream",
     "text": [
      "0\n",
      "0\n"
     ]
    }
   ],
   "source": [
    "tok_train, train_labels = get_all(df_train, 1)\n",
    "tok_validate, validate_labels = get_all(df_validate, 1)"
   ]
  },
  {
   "cell_type": "code",
   "execution_count": 14,
   "metadata": {},
   "outputs": [],
   "source": [
    "(CLAS_PATH/'tmp').mkdir(exist_ok=True)\n",
    "\n",
    "np.save(CLAS_PATH/'tmp'/'tok_trn.npy', tok_train)\n",
    "np.save(CLAS_PATH/'tmp'/'tok_val.npy', tok_validate)\n",
    "\n",
    "np.save(CLAS_PATH/'tmp'/'trn_labels.npy', train_labels)\n",
    "np.save(CLAS_PATH/'tmp'/'val_labels.npy', validate_labels)"
   ]
  },
  {
   "cell_type": "code",
   "execution_count": 15,
   "metadata": {},
   "outputs": [],
   "source": [
    "tok_train = np.load(CLAS_PATH/'tmp'/'tok_trn.npy')\n",
    "tok_validate = np.load(CLAS_PATH/'tmp'/'tok_val.npy')"
   ]
  },
  {
   "cell_type": "code",
   "execution_count": 16,
   "metadata": {},
   "outputs": [
    {
     "data": {
      "text/plain": [
       "34915"
      ]
     },
     "execution_count": 16,
     "metadata": {},
     "output_type": "execute_result"
    }
   ],
   "source": [
    "itos = pickle.load((LM_PATH/'tmp'/'itos.pkl').open('rb'))\n",
    "stoi = collections.defaultdict(lambda:0, {v:k for k,v in enumerate(itos)})\n",
    "len(itos)"
   ]
  },
  {
   "cell_type": "code",
   "execution_count": 17,
   "metadata": {},
   "outputs": [],
   "source": [
    "train_clas = np.array([[stoi[o] for o in p] for p in tok_train])\n",
    "validate_clas = np.array([[stoi[o] for o in p] for p in tok_validate])"
   ]
  },
  {
   "cell_type": "code",
   "execution_count": 18,
   "metadata": {},
   "outputs": [],
   "source": [
    "np.save(CLAS_PATH/'tmp'/'trn_ids.npy', train_clas)\n",
    "np.save(CLAS_PATH/'tmp'/'val_ids.npy', validate_clas)"
   ]
  },
  {
   "cell_type": "code",
   "execution_count": 19,
   "metadata": {},
   "outputs": [
    {
     "data": {
      "text/plain": [
       "list"
      ]
     },
     "execution_count": 19,
     "metadata": {},
     "output_type": "execute_result"
    }
   ],
   "source": [
    "type(train_labels)"
   ]
  },
  {
   "cell_type": "code",
   "execution_count": 20,
   "metadata": {},
   "outputs": [
    {
     "data": {
      "text/plain": [
       "[array([3]), array([0]), array([0]), array([1])]"
      ]
     },
     "execution_count": 20,
     "metadata": {},
     "output_type": "execute_result"
    }
   ],
   "source": [
    "train_labels[0:4]"
   ]
  },
  {
   "cell_type": "code",
   "execution_count": 21,
   "metadata": {},
   "outputs": [
    {
     "data": {
      "text/plain": [
       "array([[<matplotlib.axes._subplots.AxesSubplot object at 0x7f41025a6fd0>]], dtype=object)"
      ]
     },
     "execution_count": 21,
     "metadata": {},
     "output_type": "execute_result"
    },
    {
     "data": {
      "image/png": "[encoded data removed]",
      "text/plain": [
       "<Figure size 432x288 with 1 Axes>"
      ]
     },
     "metadata": {},
     "output_type": "display_data"
    }
   ],
   "source": [
    "#train_labels\n",
    "#hist(train_labels\n",
    "\n",
    "histog = pd.DataFrame({'labels': train_labels})\n",
    "# unpack\n",
    "histog['labels'] = histog.apply(lambda row: row['labels'][0], axis=1)\n",
    "histog.hist(column='labels')"
   ]
  },
  {
   "cell_type": "markdown",
   "metadata": {},
   "source": [
    "### Create classifier"
   ]
  },
  {
   "cell_type": "code",
   "execution_count": 22,
   "metadata": {},
   "outputs": [],
   "source": [
    "train_clas = np.load(CLAS_PATH/'tmp'/'trn_ids.npy')\n",
    "validate_clas = np.load(CLAS_PATH/'tmp'/'val_ids.npy')"
   ]
  },
  {
   "cell_type": "code",
   "execution_count": 23,
   "metadata": {},
   "outputs": [],
   "source": [
    "train_labels = np.squeeze(np.load(CLAS_PATH/'tmp'/'trn_labels.npy'))\n",
    "validate_labels = np.squeeze(np.load(CLAS_PATH/'tmp'/'val_labels.npy'))"
   ]
  },
  {
   "cell_type": "markdown",
   "metadata": {},
   "source": [
    "#### optional - turn into BINARY CLASSIFICATION"
   ]
  },
  {
   "cell_type": "code",
   "execution_count": 68,
   "metadata": {},
   "outputs": [],
   "source": [
    "# negative vs positive + neutra  \n",
    "# 0 and 1 -> 0\n",
    "# 2,3 and 4 -> 1\n",
    "\n",
    "binary_train_labels = [0 if (x==0 or x==1) else 1 for x in train_labels]\n",
    "binary_validate_labels = [0 if (x==0 or x==1) else 1 for x in validate_labels]\n",
    "\n",
    "# remember to do same for test set."
   ]
  },
  {
   "cell_type": "code",
   "execution_count": null,
   "metadata": {},
   "outputs": [],
   "source": [
    "binary_train_labels"
   ]
  },
  {
   "cell_type": "markdown",
   "metadata": {},
   "source": [
    "#### Optional - truncate documents"
   ]
  },
  {
   "cell_type": "code",
   "execution_count": 24,
   "metadata": {},
   "outputs": [],
   "source": [
    "trun_len = 80  #words\n",
    "trun_len = 200\n",
    "\n",
    "for i in range(len(train_clas)):\n",
    "    train_clas[i] = train_clas[i][0:trun_len]\n",
    "    \n",
    "for i in range(len(validate_clas)):\n",
    "    validate_clas[i] = validate_clas[i][0:trun_len]\n",
    "    \n",
    "assert len(train_clas[0]) == trun_len\n",
    "assert len(validate_clas[0]) == trun_len"
   ]
  },
  {
   "cell_type": "code",
   "execution_count": 25,
   "metadata": {},
   "outputs": [],
   "source": [
    "bptt,emb_size,nhiddenu,nlayers = 70,400,1150,3\n",
    "vocsize = len(itos)\n",
    "optim_fn = partial(optim.Adam, betas=(0.8, 0.99))\n",
    "#bs = 26\n",
    "#bs = 32  # 7175 MB memory usage on business news data at final training, this with 13k length articles\n",
    "# 32 too high\n",
    "bs = 14"
   ]
  },
  {
   "cell_type": "code",
   "execution_count": 26,
   "metadata": {},
   "outputs": [],
   "source": [
    "bs=12\n",
    "bs=25"
   ]
  },
  {
   "cell_type": "code",
   "execution_count": 27,
   "metadata": {},
   "outputs": [],
   "source": [
    "min_lbl = train_labels.min()\n",
    "train_labels -= min_lbl\n",
    "validate_labels -= min_lbl\n",
    "c=int(train_labels.max())+1"
   ]
  },
  {
   "cell_type": "markdown",
   "metadata": {},
   "source": [
    "In the classifier, unlike LM, we need to read a movie review at a time and learn to predict the it's sentiment as pos/neg. We do not deal with equal bptt size batches, so we have to pad the sequences to the same length in each batch. To create batches of similar sized movie reviews, we use a sortish sampler method invented by @Smerity and @jekbradbury\n",
    "\n",
    "The sortishSampler cuts down the overall number of padding tokens the classifier ends up seeing.\n"
   ]
  },
  {
   "cell_type": "code",
   "execution_count": 28,
   "metadata": {},
   "outputs": [],
   "source": [
    "train_ds = TextDataset(train_clas, train_labels)\n",
    "validate_ds = TextDataset(validate_clas, validate_labels)\n",
    "train_samp = SortishSampler(train_clas, key=lambda x: len(train_clas[x]), bs=bs//2)\n",
    "validate_samp = SortSampler(validate_clas, key=lambda x: len(validate_clas[x]))\n",
    "train_dl = DataLoader(train_ds, bs//2, transpose=True, num_workers=1, pad_idx=1, sampler=train_samp)\n",
    "validate_dl = DataLoader(validate_ds, bs, transpose=True, num_workers=1, pad_idx=1, sampler=validate_samp)\n",
    "model = ModelData(PATH, train_dl, validate_dl)"
   ]
  },
  {
   "cell_type": "code",
   "execution_count": 29,
   "metadata": {},
   "outputs": [
    {
     "data": {
      "text/plain": [
       "array([3, 0, 0, 1, 4, 3, 3, 1, 3, 0])"
      ]
     },
     "execution_count": 29,
     "metadata": {},
     "output_type": "execute_result"
    }
   ],
   "source": [
    "train_labels[0:10]"
   ]
  },
  {
   "cell_type": "code",
   "execution_count": 30,
   "metadata": {},
   "outputs": [],
   "source": [
    "dps = np.array([0.4, 0.5, 0.05, 0.3, 0.1])"
   ]
  },
  {
   "cell_type": "code",
   "execution_count": 31,
   "metadata": {},
   "outputs": [],
   "source": [
    "m = get_rnn_classifier(bptt, 20*70, c, vocsize, emb_sz=emb_size, n_hid=nhiddenu, n_layers=nlayers, pad_token=1,\n",
    "          layers=[emb_size*3, 50, c], drops=[dps[4], 0.1],\n",
    "          dropouti=dps[0], wdrop=dps[1], dropoute=dps[2], dropouth=dps[3])"
   ]
  },
  {
   "cell_type": "code",
   "execution_count": 32,
   "metadata": {},
   "outputs": [],
   "source": [
    "optim_fn = partial(optim.Adam, betas=(0.7, 0.99))"
   ]
  },
  {
   "cell_type": "code",
   "execution_count": 33,
   "metadata": {},
   "outputs": [],
   "source": [
    "learn = RNN_Learner(model, TextModel(to_gpu(m)), opt_fn=optim_fn)\n",
    "learn.reg_fn = partial(seq2seq_reg, alpha=2, beta=1)\n",
    "learn.clip=25.\n",
    "learn.metrics = [accuracy]"
   ]
  },
  {
   "cell_type": "code",
   "execution_count": 34,
   "metadata": {},
   "outputs": [],
   "source": [
    "lr=3e-3\n",
    "lrm = 2.6\n",
    "lrs = np.array([lr/(lrm**4), lr/(lrm**3), lr/(lrm**2), lr/lrm, lr])\n",
    "\n",
    "# THESE NOT USED, NEXT OVERWRITES"
   ]
  },
  {
   "cell_type": "code",
   "execution_count": 35,
   "metadata": {},
   "outputs": [],
   "source": [
    "lrs=np.array([1e-4,1e-4,1e-4,1e-3,1e-2])"
   ]
  },
  {
   "cell_type": "code",
   "execution_count": 36,
   "metadata": {},
   "outputs": [],
   "source": [
    "wd = 1e-7\n",
    "wd = 0\n",
    "# WEIGHT DECAY stays ALWAYS 0 this way!\n",
    "\n",
    "#learn.load_encoder('lm1-12k-ent_enc')\n",
    "#learn.load_encoder('lm1-full-noent061_enc')\n"
   ]
  },
  {
   "cell_type": "code",
   "execution_count": 83,
   "metadata": {},
   "outputs": [],
   "source": [
    "learn.freeze_to(-1)"
   ]
  },
  {
   "cell_type": "code",
   "execution_count": 84,
   "metadata": {},
   "outputs": [
    {
     "data": {
      "application/vnd.jupyter.widget-view+json": {
       "model_id": "70f8b9002598431188dd55f88abb61dc",
       "version_major": 2,
       "version_minor": 0
      },
      "text/plain": [
       "HBox(children=(IntProgress(value=0, description='Epoch', max=1), HTML(value='')))"
      ]
     },
     "metadata": {},
     "output_type": "display_data"
    },
    {
     "name": "stdout",
     "output_type": "stream",
     "text": [
      " 78%|███████▊  | 1020/1310 [02:18<00:39,  7.35it/s, loss=5.6] "
     ]
    },
    {
     "data": {
      "image/png": "[encoded data removed]",
      "text/plain": [
       "<Figure size 432x288 with 1 Axes>"
      ]
     },
     "metadata": {},
     "output_type": "display_data"
    }
   ],
   "source": [
    "learn.lr_find(lrs/1000)\n",
    "learn.sched.plot()"
   ]
  },
  {
   "cell_type": "code",
   "execution_count": 85,
   "metadata": {},
   "outputs": [
    {
     "data": {
      "text/plain": [
       "array([0.0001, 0.0001, 0.0001, 0.001 , 0.01  ])"
      ]
     },
     "execution_count": 85,
     "metadata": {},
     "output_type": "execute_result"
    }
   ],
   "source": [
    "lrs"
   ]
  },
  {
   "cell_type": "code",
   "execution_count": 86,
   "metadata": {},
   "outputs": [
    {
     "data": {
      "application/vnd.jupyter.widget-view+json": {
       "model_id": "1fec50982fd04b6298b9b8bb9ebf9815",
       "version_major": 2,
       "version_minor": 0
      },
      "text/plain": [
       "HBox(children=(IntProgress(value=0, description='Epoch', max=1), HTML(value='')))"
      ]
     },
     "metadata": {},
     "output_type": "display_data"
    },
    {
     "name": "stdout",
     "output_type": "stream",
     "text": [
      "epoch      trn_loss   val_loss   accuracy                     \n",
      "    0      1.431822   1.436869   0.315     \n"
     ]
    },
    {
     "data": {
      "text/plain": [
       "[array([1.43687]), 0.31499999957159164]"
      ]
     },
     "execution_count": 86,
     "metadata": {},
     "output_type": "execute_result"
    }
   ],
   "source": [
    "learn.fit(lrs, 1, wds=wd, cycle_len=1, use_clr=(8,3))"
   ]
  },
  {
   "cell_type": "code",
   "execution_count": 87,
   "metadata": {},
   "outputs": [],
   "source": [
    "learn.save('clas_0'+'_trainsize_'+str(trainsize))"
   ]
  },
  {
   "cell_type": "code",
   "execution_count": 88,
   "metadata": {},
   "outputs": [],
   "source": [
    "learn.load('clas_0'+'_trainsize_'+str(trainsize))"
   ]
  },
  {
   "cell_type": "code",
   "execution_count": 89,
   "metadata": {},
   "outputs": [],
   "source": [
    "learn.freeze_to(-2)"
   ]
  },
  {
   "cell_type": "code",
   "execution_count": 90,
   "metadata": {},
   "outputs": [
    {
     "data": {
      "application/vnd.jupyter.widget-view+json": {
       "model_id": "33560bf650da4f2082d393b7e6a51c3f",
       "version_major": 2,
       "version_minor": 0
      },
      "text/plain": [
       "HBox(children=(IntProgress(value=0, description='Epoch', max=1), HTML(value='')))"
      ]
     },
     "metadata": {},
     "output_type": "display_data"
    },
    {
     "name": "stdout",
     "output_type": "stream",
     "text": [
      "epoch      trn_loss   val_loss   accuracy                     \n",
      "    0      1.415951   1.438869   0.315     \n"
     ]
    },
    {
     "data": {
      "text/plain": [
       "[array([1.43887]), 0.31499999957159164]"
      ]
     },
     "execution_count": 90,
     "metadata": {},
     "output_type": "execute_result"
    }
   ],
   "source": [
    "learn.fit(lrs, 1, wds=wd, cycle_len=1, use_clr=(8,3))"
   ]
  },
  {
   "cell_type": "code",
   "execution_count": 91,
   "metadata": {},
   "outputs": [],
   "source": [
    "learn.save('clas_1'+'_trainsize_'+str(trainsize))"
   ]
  },
  {
   "cell_type": "code",
   "execution_count": 37,
   "metadata": {},
   "outputs": [],
   "source": [
    "learn.load('clas_1'+'_trainsize_'+str(trainsize))"
   ]
  },
  {
   "cell_type": "code",
   "execution_count": 38,
   "metadata": {},
   "outputs": [],
   "source": [
    "learn.unfreeze()"
   ]
  },
  {
   "cell_type": "code",
   "execution_count": 94,
   "metadata": {},
   "outputs": [
    {
     "data": {
      "application/vnd.jupyter.widget-view+json": {
       "model_id": "bd33b012d8ea4f4cb2f5cbf93bba31eb",
       "version_major": 2,
       "version_minor": 0
      },
      "text/plain": [
       "HBox(children=(IntProgress(value=0, description='Epoch', max=1), HTML(value='')))"
      ]
     },
     "metadata": {},
     "output_type": "display_data"
    },
    {
     "name": "stdout",
     "output_type": "stream",
     "text": [
      " 79%|███████▉  | 1032/1310 [04:31<01:13,  3.80it/s, loss=5.04]"
     ]
    },
    {
     "data": {
      "image/png": "[encoded data removed]",
      "text/plain": [
       "<Figure size 432x288 with 1 Axes>"
      ]
     },
     "metadata": {},
     "output_type": "display_data"
    }
   ],
   "source": [
    "learn.lr_find(lrs/1000)\n",
    "learn.sched.plot()"
   ]
  },
  {
   "cell_type": "code",
   "execution_count": 39,
   "metadata": {},
   "outputs": [
    {
     "data": {
      "application/vnd.jupyter.widget-view+json": {
       "model_id": "51013540fc9e43f6b555d1ad7ae270e3",
       "version_major": 2,
       "version_minor": 0
      },
      "text/plain": [
       "HBox(children=(IntProgress(value=0, description='Epoch', max=20), HTML(value='')))"
      ]
     },
     "metadata": {},
     "output_type": "display_data"
    },
    {
     "name": "stdout",
     "output_type": "stream",
     "text": [
      "epoch      trn_loss   val_loss   accuracy                     \n",
      "    0      1.025954   1.017071   0.5575    \n",
      "    1      0.888767   0.772047   0.6595                        \n",
      "    2      0.721386   0.673798   0.7315                        \n",
      "    3      0.589075   0.677841   0.748                         \n",
      "    4      0.483754   0.478499   0.8225                        \n",
      "    5      0.476519   0.428138   0.845                         \n",
      "    6      0.405554   0.462406   0.851                         \n",
      "    7      0.324407   0.379418   0.8835                        \n",
      "    8      0.319293   0.378683   0.871                         \n",
      "    9      0.37745    0.3294     0.892                         \n",
      "    10     0.321874   0.388887   0.8675                        \n",
      "    11     0.333175   0.338951   0.8815                        \n",
      "    12     0.230425   0.320582   0.8955                        \n",
      "    13     0.268168   0.326834   0.894                         \n",
      "    14     0.267637   0.330666   0.889                         \n",
      "    15     0.223525   0.322936   0.895                         \n",
      "    16     0.237719   0.312673   0.8995                        \n",
      "    17     0.173687   0.318363   0.893                         \n",
      "    18     0.172206   0.313613   0.9015                        \n",
      "    19     0.185096   0.319949   0.9035                        \n",
      "\n"
     ]
    },
    {
     "data": {
      "text/plain": [
       "[array([0.31995]), 0.903499997407198]"
      ]
     },
     "execution_count": 39,
     "metadata": {},
     "output_type": "execute_result"
    }
   ],
   "source": [
    "# 1.11 noENT on LM, ENT on clas\n",
    "wd=1e-7 #1e-6?\n",
    "bs=200  # try with truncated 200 words\n",
    "lrs=np.array([1e-4,1e-4,1e-4,1e-3,1e-2])*1 \n",
    "#lrs=np.array([1e-4,1e-4,1e-4,1e-3,1e-2])*2 ?\n",
    "learn.fit(lrs, n_cycle=1, wds=wd, cycle_len=20, use_clr=(10,20))"
   ]
  },
  {
   "cell_type": "code",
   "execution_count": 112,
   "metadata": {},
   "outputs": [
    {
     "data": {
      "application/vnd.jupyter.widget-view+json": {
       "model_id": "dc795580a83d4ca3ad7f4a899811ee78",
       "version_major": 2,
       "version_minor": 0
      },
      "text/plain": [
       "HBox(children=(IntProgress(value=0, description='Epoch', max=20), HTML(value='')))"
      ]
     },
     "metadata": {},
     "output_type": "display_data"
    },
    {
     "name": "stdout",
     "output_type": "stream",
     "text": [
      "epoch      trn_loss   val_loss   accuracy                     \n",
      "    0      1.080745   1.154619   0.468     \n",
      "    1      0.912616   0.827696   0.6725                        \n",
      "    2      0.803956   0.725042   0.7115                        \n",
      "    3      0.660619   0.666951   0.7435                        \n",
      "    4      0.629606   0.552529   0.7945                        \n",
      "    5      0.595529   0.518047   0.812                         \n",
      "    6      0.480156   0.519156   0.8205                        \n",
      "    7      0.48899    0.514283   0.8215                        \n",
      "    8      0.365413   0.487099   0.83                          \n",
      "    9      0.4077     0.450899   0.8265                        \n",
      "    10     0.350877   0.443739   0.8295                        \n",
      "    11     0.395255   0.444448   0.8315                        \n",
      "    12     0.302502   0.432657   0.837                         \n",
      "    13     0.317949   0.464915   0.833                         \n",
      "    14     0.307394   0.449634   0.8355                        \n",
      "    15     0.300865   0.50981    0.828                         \n",
      "    16     0.272787   0.448975   0.836                         \n",
      "    17     0.269424   0.444318   0.8275                        \n",
      "    18     0.270619   0.454351   0.835                         \n",
      "    19     0.273345   0.453143   0.826                         \n"
     ]
    },
    {
     "data": {
      "text/plain": [
       "[array([0.45314]), 0.8260000012814999]"
      ]
     },
     "execution_count": 112,
     "metadata": {},
     "output_type": "execute_result"
    }
   ],
   "source": [
    "# was wrong, not ENT after all in clas data!\n",
    "# 1.11 noENT on LM, ENT on clas\n",
    ".\n",
    "wd=1e-7 #1e-6?\n",
    "bs=200  # try with truncated 200 words\n",
    "lrs=np.array([1e-4,1e-4,1e-4,1e-3,1e-2])*1 \n",
    "#lrs=np.array([1e-4,1e-4,1e-4,1e-3,1e-2])*2 ?\n",
    "learn.fit(lrs, n_cycle=1, wds=wd, cycle_len=20, use_clr=(10,20))"
   ]
  },
  {
   "cell_type": "code",
   "execution_count": 95,
   "metadata": {},
   "outputs": [
    {
     "data": {
      "application/vnd.jupyter.widget-view+json": {
       "model_id": "270ac3eda48e48b48e0df782dc4a0f90",
       "version_major": 2,
       "version_minor": 0
      },
      "text/plain": [
       "HBox(children=(IntProgress(value=0, description='Epoch', max=20), HTML(value='')))"
      ]
     },
     "metadata": {},
     "output_type": "display_data"
    },
    {
     "name": "stdout",
     "output_type": "stream",
     "text": [
      "epoch      trn_loss   val_loss   accuracy                      \n",
      "    0      0.901914   0.737277   0.707     \n",
      "    1      0.843598   0.689649   0.742                         \n",
      "    2      0.785138   0.650254   0.7515                        \n",
      "    3      0.820657   0.626869   0.7535                        \n",
      "    4      0.766361   0.607883   0.773                         \n",
      "    5      0.715389   0.583788   0.784                         \n",
      "    6      0.781313   0.562963   0.7895                        \n",
      "    7      0.755657   0.559893   0.787                         \n",
      "    8      0.714867   0.550014   0.7935                        \n",
      "    9      0.693643   0.525307   0.804                         \n",
      "    10     0.705955   0.525282   0.804                         \n",
      "    11     0.671646   0.515538   0.8095                        \n",
      "    12     0.670022   0.50731    0.8145                        \n",
      "    13     0.678187   0.530717   0.8155                        \n",
      "    14     0.658997   0.502076   0.817                         \n",
      "    15     0.650093   0.515668   0.8115                        \n",
      "    16     0.667668   0.49834    0.8205                        \n",
      "    17     0.608823   0.504686   0.816                         \n",
      "    18     0.646065   0.48398    0.8215                        \n",
      "    19     0.651114   0.491967   0.8215                        \n"
     ]
    },
    {
     "data": {
      "text/plain": [
       "[array([0.49197]), 0.821500001102686]"
      ]
     },
     "execution_count": 95,
     "metadata": {},
     "output_type": "execute_result"
    }
   ],
   "source": [
    "# 31.10 ENT on LM, ENT on clas\n",
    "wd=1e-7 #1e-6?\n",
    "bs=200  # try with truncated 200 words\n",
    "lrs=np.array([1e-4,1e-4,1e-4,1e-3,1e-2])*1 \n",
    "#lrs=np.array([1e-4,1e-4,1e-4,1e-3,1e-2])*2 ?\n",
    "learn.fit(lrs, n_cycle=1, wds=wd, cycle_len=20, use_clr=(10,20))"
   ]
  },
  {
   "cell_type": "code",
   "execution_count": 246,
   "metadata": {},
   "outputs": [
    {
     "data": {
      "application/vnd.jupyter.widget-view+json": {
       "model_id": "0b42a28f1dd64b23a2f2859218899166",
       "version_major": 2,
       "version_minor": 0
      },
      "text/plain": [
       "HBox(children=(IntProgress(value=0, description='Epoch', max=40), HTML(value='')))"
      ]
     },
     "metadata": {},
     "output_type": "display_data"
    },
    {
     "name": "stdout",
     "output_type": "stream",
     "text": [
      "epoch      trn_loss   val_loss   accuracy                      \n",
      "    0      0.863732   0.673801   0.726333  \n",
      "    1      0.859651   0.676968   0.738333                     \n",
      "    2      0.778679   0.613633   0.757333                      \n",
      "    3      0.805469   0.589531   0.770333                      \n",
      "    4      0.771135   0.583629   0.777                         \n",
      "    5      0.690103   0.547105   0.788333                     \n",
      "    6      0.668815   0.543315   0.785333                      \n",
      "    7      0.64111    0.514515   0.805                         \n",
      "    8      0.678837   0.516527   0.797667                      \n",
      "    9      0.617058   0.486839   0.818                         \n",
      "    10     0.590986   0.491506   0.818667                      \n",
      "    11     0.573794   0.46893    0.821333                      \n",
      "    12     0.560596   0.472524   0.827333                      \n",
      "    13     0.538717   0.509057   0.819667                      \n",
      "    14     0.564312   0.462762   0.830667                      \n",
      "    15     0.509481   0.472528   0.824                         \n",
      "    16     0.482257   0.456902   0.84                          \n",
      "    17     0.497391   0.45432    0.834667                      \n",
      "    18     0.455137   0.455425   0.841                         \n",
      "    19     0.456449   0.453677   0.842667                      \n",
      "    20     0.421485   0.457388   0.842                         \n",
      "    21     0.425155   0.439947   0.846667                      \n",
      "    22     0.423556   0.445944   0.845667                      \n",
      "    23     0.438487   0.448922   0.845667                      \n",
      "    24     0.391038   0.439213   0.848                         \n",
      "    25     0.409661   0.449376   0.845333                     \n",
      "    26     0.406825   0.450119   0.849                         \n",
      "    27     0.401583   0.461765   0.845667                      \n",
      "    28     0.376793   0.454938   0.848333                      \n",
      "    29     0.388907   0.432229   0.853333                      \n",
      "    30     0.347631   0.445655   0.851333                      \n",
      "    31     0.326592   0.46281    0.852                         \n",
      "    32     0.33616    0.437167   0.85                          \n",
      "    33     0.352244   0.442012   0.857                         \n",
      "    34     0.338883   0.446027   0.853667                      \n",
      "    35     0.297821   0.447373   0.853                         \n",
      "    36     0.338237   0.453068   0.851667                      \n",
      "    37     0.34669    0.456658   0.854667                      \n",
      "    38     0.327242   0.444479   0.852667                      \n",
      "    39     0.283071   0.446997   0.854333                     \n"
     ]
    },
    {
     "data": {
      "text/plain": [
       "[array([0.447]), 0.8543333311875662]"
      ]
     },
     "execution_count": 246,
     "metadata": {},
     "output_type": "execute_result"
    }
   ],
   "source": [
    "# 25.10, split entities, randomized, LM has not ENT-tag. CLAS data does have.\n",
    "# no trunc on LM\n",
    "\n",
    "# 16 epoch reaches 0.84, #33 is max 0.857\n",
    "wd=1e-7 #1e-6?\n",
    "bs=200\n",
    "lrs=np.array([1e-4,1e-4,1e-4,1e-3,1e-2])*1 \n",
    "#lrs=np.array([1e-4,1e-4,1e-4,1e-3,1e-2])*2 ?\n",
    "learn.fit(lrs, n_cycle=1, wds=wd, cycle_len=40, use_clr=(10,40))\n"
   ]
  },
  {
   "cell_type": "code",
   "execution_count": 96,
   "metadata": {},
   "outputs": [
    {
     "data": {
      "image/png": "[encoded data removed]",
      "text/plain": [
       "<Figure size 432x288 with 1 Axes>"
      ]
     },
     "metadata": {},
     "output_type": "display_data"
    }
   ],
   "source": [
    "learn.sched.plot_lr()"
   ]
  },
  {
   "cell_type": "code",
   "execution_count": 203,
   "metadata": {},
   "outputs": [
    {
     "data": {
      "application/vnd.jupyter.widget-view+json": {
       "model_id": "7c049ca57ce7440b9efb7cbd1f3bd7e4",
       "version_major": 2,
       "version_minor": 0
      },
      "text/plain": [
       "HBox(children=(IntProgress(value=0, description='Epoch', max=50), HTML(value='')))"
      ]
     },
     "metadata": {},
     "output_type": "display_data"
    },
    {
     "name": "stdout",
     "output_type": "stream",
     "text": [
      "epoch      trn_loss   val_loss   accuracy                    \n",
      "    0      0.894836   0.727825   0.725     \n",
      "    1      0.867559   0.724577   0.707                       \n",
      "    2      0.874823   0.818662   0.7375                      \n",
      "    3      0.810144   2.448367   0.743                       \n",
      "    4      0.724066   0.737688   0.748                       \n",
      "    5      0.738162   0.709561   0.7605                      \n",
      "    6      0.649582   0.564669   0.7895                      \n",
      "    7      0.648562   0.559181   0.796                       \n",
      "    8      0.576893   0.545653   0.7945                      \n",
      "    9      0.586251   0.553139   0.807                       \n",
      "    10     0.566973   0.5306     0.8135                      \n",
      "    11     0.58191    0.54444    0.8195                      \n",
      "    12     0.509779   0.53532    0.819                       \n",
      "    13     0.481554   0.522785   0.8245                      \n",
      "    14     0.482669   0.586675   0.82                        \n",
      "    15     0.495074   0.551627   0.8165                      \n",
      "    16     0.454293   0.629963   0.829                       \n",
      "    17     0.414201   0.523589   0.825                       \n",
      "    18     0.411066   0.522083   0.835                       \n",
      "    19     0.389517   0.530466   0.8275                      \n",
      "    20     0.402478   0.504084   0.838                       \n",
      "    21     0.402106   0.512166   0.841                       \n",
      "    22     0.377341   0.506326   0.8285                      \n",
      "    23     0.365389   0.505241   0.8425                      \n",
      "    24     0.305999   0.53103    0.845                       \n",
      "    25     0.352485   0.506474   0.836                       \n",
      "    26     0.325986   0.532253   0.8295                      \n",
      "    27     0.281626   0.559055   0.8355                      \n",
      "    28     0.299721   0.666151   0.844                       \n",
      "    29     0.329575   0.52342    0.8405                      \n",
      "    30     0.250905   0.556687   0.8445                      \n",
      "    31     0.324334   0.5738     0.8465                      \n",
      "    32     0.278031   0.551263   0.8565                      \n",
      "    33     0.286023   0.565723   0.843                       \n",
      "    34     0.261455   0.556461   0.8425                      \n",
      "    35     0.236961   0.571934   0.842                       \n",
      "    36     0.214262   0.584887   0.8425                      \n",
      "    37     0.247358   0.601739   0.8465                      \n",
      "    38     0.231991   0.582968   0.8435                      \n",
      "    39     0.225189   0.572713   0.8385                      \n",
      "    40     0.236481   0.600274   0.845                       \n",
      "    41     0.260849   0.585878   0.8465                      \n",
      "    42     0.218946   0.605059   0.846                       \n",
      "    43     0.195728   0.597881   0.851                       \n",
      "    44     0.2069     0.605019   0.851                       \n",
      "    45     0.185254   0.599619   0.8525                      \n",
      "    46     0.165702   0.595408   0.8545                      \n",
      "    47     0.177576   0.578982   0.849                       \n",
      "    48     0.193969   0.592404   0.8485                      \n",
      "    49     0.205786   0.591041   0.85                        \n"
     ]
    },
    {
     "data": {
      "text/plain": [
       "[array([0.59104]), 0.8499999923110009]"
      ]
     },
     "execution_count": 203,
     "metadata": {},
     "output_type": "execute_result"
    }
   ],
   "source": [
    "# 1cycle\n",
    "# - maximum lr from test\n",
    "# - minimum as 1/10 of max\n",
    "# - raising of lr to be chosen\n",
    "# - often big bs and higher lr preferred\n",
    "\n",
    "# - momentum, possible to use cyclical momentum\n",
    "# Short runs with momentum values of 0.99, 0.97, 0.95, and 0.9 will quickly show the best value for momentum\n",
    "# lower end: 0.8 or 0.85 (performance is almost independent of the minimum momentum value)\n",
    "\n",
    "wd=1e-7 #1e-6?\n",
    "bs=200\n",
    "lrs=np.array([1e-4,1e-4,1e-4,1e-3,1e-2])*1.2 # higher!\n",
    "#lrs=np.array([1e-4,1e-4,1e-4,1e-3,1e-2])*2 ?\n",
    "learn.fit(lrs, n_cycle=1, wds=wd, cycle_len=50, use_clr=(10,40))"
   ]
  },
  {
   "cell_type": "code",
   "execution_count": null,
   "metadata": {},
   "outputs": [],
   "source": [
    "learn.fit(lrs, n_cycle=4, wds=wd, cycle_len=10, use_clr=(32,10))"
   ]
  },
  {
   "cell_type": "code",
   "execution_count": null,
   "metadata": {},
   "outputs": [],
   "source": [
    "# Best 0.85\n",
    "wd=1e-7\n",
    "bs=82\n",
    "learn.fit(lrs, n_cycle=2, wds=wd, cycle_len=10, use_clr=(32,10))\n",
    "learn.fit(lrs, n_cycle=2, wds=wd, cycle_len=10, use_clr=(32,10)) # .8425\n",
    "lrs=np.array([1e-4,1e-4,1e-4,1e-3,1e-2])*0.3\n",
    "learn.fit(lrs, n_cycle=1, wds=wd, cycle_len=10, use_clr=(32,10))\n",
    "learn.fit(lrs, n_cycle=1, wds=wd, cycle_len=10, use_clr=(32,10))\n",
    "bs = 100\n",
    "learn.fit(lrs, n_cycle=1, wds=wd, cycle_len=10, use_clr=(32,10)) #.85"
   ]
  },
  {
   "cell_type": "code",
   "execution_count": 178,
   "metadata": {},
   "outputs": [],
   "source": [
    "# bs 150 works, bs 200 works. 250 takes 6067 MB, 280 takes 6715 MB, 300=7,4GB, OBS later 300 gives 8095MB !! \n",
    "# variation"
   ]
  },
  {
   "cell_type": "code",
   "execution_count": null,
   "metadata": {},
   "outputs": [],
   "source": [
    "# clr_beta_ ratio 10 for high-low lr, 15% of epochs left for after, max and min momentum.\n",
    "# learn.fit(0.8, 1, cycle_len=95, use_clr_beta=(10, 13.68, 0.95, 0.85), wds=1e-4)\n",
    "wd = 0\n",
    "learn.fit(lrs, 1, wds=wd, cycle_len=15, use_clr_beta=(10, 15, 0.95, 0.85)) # add 0.95, 0.85 to use_clr_beta"
   ]
  },
  {
   "cell_type": "code",
   "execution_count": 40,
   "metadata": {},
   "outputs": [],
   "source": [
    "learn.save('clas_2_Classifier'+'_fullLM_'+'full')"
   ]
  },
  {
   "cell_type": "code",
   "execution_count": 41,
   "metadata": {},
   "outputs": [],
   "source": [
    "learn.load('clas_2_Classifier'+'_fullLM_'+'full')"
   ]
  },
  {
   "cell_type": "code",
   "execution_count": null,
   "metadata": {},
   "outputs": [],
   "source": [
    ".learn.save('clas_2_Classifier'+'_ent_trainsize_'+str(trainsize)+'')"
   ]
  },
  {
   "cell_type": "code",
   "execution_count": 42,
   "metadata": {},
   "outputs": [
    {
     "data": {
      "image/png": "[encoded data removed]",
      "text/plain": [
       "<Figure size 432x288 with 1 Axes>"
      ]
     },
     "metadata": {},
     "output_type": "display_data"
    }
   ],
   "source": [
    "learn.sched.plot_loss()"
   ]
  },
  {
   "cell_type": "code",
   "execution_count": 43,
   "metadata": {},
   "outputs": [
    {
     "data": {
      "text/plain": [
       "26200"
      ]
     },
     "execution_count": 43,
     "metadata": {},
     "output_type": "execute_result"
    }
   ],
   "source": [
    "learn.sched.nb"
   ]
  },
  {
   "cell_type": "code",
   "execution_count": null,
   "metadata": {},
   "outputs": [],
   "source": []
  },
  {
   "cell_type": "code",
   "execution_count": null,
   "metadata": {},
   "outputs": [],
   "source": []
  },
  {
   "cell_type": "code",
   "execution_count": null,
   "metadata": {},
   "outputs": [],
   "source": []
  },
  {
   "cell_type": "markdown",
   "metadata": {},
   "source": [
    "### Predict test set"
   ]
  },
  {
   "cell_type": "code",
   "execution_count": 44,
   "metadata": {},
   "outputs": [],
   "source": [
    "targetfile = 'final_test.csv'\n",
    "targetfile = 'final_test15718entity.csv'\n",
    "bs = 14\n",
    "bs = 200"
   ]
  },
  {
   "cell_type": "code",
   "execution_count": 45,
   "metadata": {},
   "outputs": [
    {
     "name": "stdout",
     "output_type": "stream",
     "text": [
      "0\n"
     ]
    }
   ],
   "source": [
    "chunksize=24000\n",
    "BOS = 'xbos'  # beginning-of-sentence tag\n",
    "FLD = 'xfld'  # data field tag\n",
    "df_test = pd.read_csv(CLAS_PATH/targetfile, header=None, chunksize=chunksize)\n",
    "\n",
    "# tokenize\n",
    "tokens_test, test_labels = get_all(df_test, 1)\n",
    "\n",
    "(CLAS_PATH/'tmp').mkdir(exist_ok=True)\n",
    "np.save(CLAS_PATH/'tmp'/'tok_test.npy', tokens_test)\n",
    "np.save(CLAS_PATH/'tmp'/'test_labels.npy', test_labels)"
   ]
  },
  {
   "cell_type": "code",
   "execution_count": 46,
   "metadata": {},
   "outputs": [
    {
     "data": {
      "text/plain": [
       "(2000, 2000)"
      ]
     },
     "execution_count": 46,
     "metadata": {},
     "output_type": "execute_result"
    }
   ],
   "source": [
    "# saving and loading changes from list to np.ndarray\n",
    "tokens_test = np.load(CLAS_PATH/'tmp'/'tok_test.npy')\n",
    "len(tokens_test), len(test_labels)"
   ]
  },
  {
   "cell_type": "code",
   "execution_count": 47,
   "metadata": {},
   "outputs": [],
   "source": [
    "# change strings to integers\n",
    "test_clas = np.array([[stoi[o] for o in p] for p in tokens_test])\n",
    "test_clas = np.expand_dims(test_clas, axis=1)\n",
    "np.save(CLAS_PATH/'tmp'/'test_ids.npy', test_clas)"
   ]
  },
  {
   "cell_type": "code",
   "execution_count": 48,
   "metadata": {},
   "outputs": [],
   "source": [
    "test_clas = np.load(CLAS_PATH/'tmp'/'test_ids.npy')\n",
    "test_clas = np.squeeze(test_clas) \n",
    "test_labels = np.squeeze(np.load(CLAS_PATH/'tmp'/'test_labels.npy'))\n",
    "n_class=int(test_labels.max())+1"
   ]
  },
  {
   "cell_type": "code",
   "execution_count": 50,
   "metadata": {},
   "outputs": [],
   "source": [
    "#build TextDataSet\n",
    "test_dataset = TextDataset(test_clas, test_labels)\n",
    "\n",
    "# build sortSampler - mixes labels and items, doesnt work\n",
    "#test_sampler = SortSampler(test_clas, key=lambda x: len(test_clas[x]))\n",
    "\n",
    "# build DataLoader\n",
    "# shuffle mixes labels wrongly\n",
    "#test_loader = DataLoader(test_dataset, bs, transpose=True, num_workers=1, pad_idx=1, sampler=test_sampler)\n",
    "test_loader = DataLoader(test_dataset, bs, transpose=True, num_workers=1, pad_idx=1, \n",
    "                         sampler=None, shuffle=False)\n",
    "\n",
    "# build TextData\n",
    "# TextData or fastai.nlp were not used when training mdoel\n",
    "from fastai.nlp import TextData\n",
    "md = TextData(PATH, None, test_loader)"
   ]
  },
  {
   "cell_type": "code",
   "execution_count": 52,
   "metadata": {},
   "outputs": [],
   "source": [
    "bs = 150 # out of memory\n",
    "bs = 100 # maybe ok from empty?, but oom after training\n",
    "bs = 35 # continue after training: 6,1GB usage\n",
    "\n",
    "bptt,em_sz,nhiddenu,nlayers = 70,400,1150,3\n",
    "vocsize = len(itos)\n",
    "optim_fn = partial(optim.Adam, betas=(0.8, 0.99))\n",
    "\n",
    "model = get_rnn_classifier(bptt, 20*70, n_class, vocsize, emb_sz=em_sz, n_hid=nhiddenu, n_layers=nlayers, pad_token=1,\n",
    "          layers=[em_sz*3, 50, n_class], drops=[dps[4], 0.1],\n",
    "          dropouti=dps[0], wdrop=dps[1], dropoute=dps[2], dropouth=dps[3])\n",
    "\n",
    "#model.eval  - automatically called?\n",
    "\n",
    "learner = RNN_Learner(\n",
    "    data=md,\n",
    "    models=TextModel(to_gpu(model)),    \n",
    "    opt_fn=optim_fn\n",
    ")"
   ]
  },
  {
   "cell_type": "code",
   "execution_count": 53,
   "metadata": {},
   "outputs": [],
   "source": [
    "preds_dist, true_labels = learner.predict_with_targs()"
   ]
  },
  {
   "cell_type": "code",
   "execution_count": null,
   "metadata": {},
   "outputs": [],
   "source": []
  },
  {
   "cell_type": "markdown",
   "metadata": {},
   "source": [
    "### Plot Training"
   ]
  },
  {
   "cell_type": "code",
   "execution_count": 54,
   "metadata": {},
   "outputs": [],
   "source": [
    "%matplotlib inline\n",
    "%reload_ext autoreload\n",
    "%autoreload 2"
   ]
  },
  {
   "cell_type": "code",
   "execution_count": 55,
   "metadata": {},
   "outputs": [
    {
     "data": {
      "image/png": "[encoded data removed]",
      "text/plain": [
       "<Figure size 432x288 with 1 Axes>"
      ]
     },
     "metadata": {},
     "output_type": "display_data"
    }
   ],
   "source": [
    "learn.sched.plot_lr()"
   ]
  },
  {
   "cell_type": "code",
   "execution_count": 57,
   "metadata": {},
   "outputs": [],
   "source": [
    "# points from individual losess along the way. \n",
    "epochs = 20\n",
    "points = list(range(epochs, len(learn.sched.losses), int(len(learn.sched.losses)/epochs)))"
   ]
  },
  {
   "cell_type": "code",
   "execution_count": 58,
   "metadata": {},
   "outputs": [],
   "source": [
    "\n",
    "\n",
    "p_val_losses = learn.sched.val_losses\n",
    "#p_losses = [learn.sched.losses[i] for i in range(epochs,150)]\n",
    "p_losses = [learn.sched.losses[i] for i in points ]\n",
    "p_rec_metrics = learn.sched.rec_metrics"
   ]
  },
  {
   "cell_type": "code",
   "execution_count": 59,
   "metadata": {},
   "outputs": [
    {
     "data": {
      "text/plain": [
       "20"
      ]
     },
     "execution_count": 59,
     "metadata": {},
     "output_type": "execute_result"
    }
   ],
   "source": [
    "len(learn.sched.val_losses)"
   ]
  },
  {
   "cell_type": "code",
   "execution_count": 60,
   "metadata": {},
   "outputs": [
    {
     "data": {
      "text/plain": [
       "<fastai.sgdr.CircularLR at 0x7f41137d76d8>"
      ]
     },
     "execution_count": 60,
     "metadata": {},
     "output_type": "execute_result"
    }
   ],
   "source": [
    "learn.sched"
   ]
  },
  {
   "cell_type": "code",
   "execution_count": 61,
   "metadata": {},
   "outputs": [
    {
     "data": {
      "text/plain": [
       "Text(0,0.5,'Accuracy')"
      ]
     },
     "execution_count": 61,
     "metadata": {},
     "output_type": "execute_result"
    },
    {
     "data": {
      "image/png": "[encoded data removed]",
      "text/plain": [
       "<Figure size 576x864 with 2 Axes>"
      ]
     },
     "metadata": {},
     "output_type": "display_data"
    }
   ],
   "source": [
    "epochs = 20\n",
    "\n",
    "# Losses\n",
    "fig,ax = plt.subplots(2,1,figsize=(8,12))\n",
    "ax[0].plot(list(range(epochs)),learn.sched.val_losses, label='Validation loss')\n",
    "ax[0].plot(list(range(epochs)),[learn.sched.losses[i] for i in range(epochs)], label='Training loss')\n",
    "ax[0].set_xlabel('Epoch')\n",
    "ax[0].set_ylabel('Loss')\n",
    "ax[0].legend(loc='upper right')\n",
    "\n",
    "# Accuracy\n",
    "ax[1].plot(list(range(epochs)),learn.sched.rec_metrics)\n",
    "ax[1].set_xlabel('Epoch')\n",
    "ax[1].set_ylabel('Accuracy')\n"
   ]
  },
  {
   "cell_type": "code",
   "execution_count": 166,
   "metadata": {},
   "outputs": [
    {
     "data": {
      "text/plain": [
       "Text(0,0.5,'Accuracy')"
      ]
     },
     "execution_count": 166,
     "metadata": {},
     "output_type": "execute_result"
    },
    {
     "data": {
      "image/png": "[encoded data removed]",
      "text/plain": [
       "<Figure size 576x864 with 2 Axes>"
      ]
     },
     "metadata": {},
     "output_type": "display_data"
    }
   ],
   "source": [
    "epochs = 15\n",
    "\n",
    "# Losses\n",
    "fig,ax = plt.subplots(2,1,figsize=(8,12))\n",
    "ax[0].plot(list(range(epochs)),learn.sched.val_losses, label='Validation loss')\n",
    "ax[0].plot(list(range(epochs)),[learn.sched.losses[i] for i in range(epochs)], label='Training loss')\n",
    "ax[0].set_xlabel('Epoch')\n",
    "ax[0].set_ylabel('Loss')\n",
    "ax[0].legend(loc='upper right')\n",
    "\n",
    "# Accuracy\n",
    "ax[1].plot(list(range(epochs)),learn.sched.rec_metrics)\n",
    "ax[1].set_xlabel('Epoch')\n",
    "ax[1].set_ylabel('Accuracy')\n"
   ]
  },
  {
   "cell_type": "code",
   "execution_count": 95,
   "metadata": {},
   "outputs": [],
   "source": [
    "epochs = 15\n",
    "xvalidate_loss = learn.sched.val_losses\n",
    "xtrain_loss = [learn.sched.losses[i] for i in range(epochs)]\n",
    "xaccuracy = learn.sched.rec_metrics"
   ]
  },
  {
   "cell_type": "code",
   "execution_count": 96,
   "metadata": {},
   "outputs": [
    {
     "data": {
      "text/plain": [
       "8000"
      ]
     },
     "execution_count": 96,
     "metadata": {},
     "output_type": "execute_result"
    }
   ],
   "source": [
    "trainsize"
   ]
  },
  {
   "cell_type": "code",
   "execution_count": 97,
   "metadata": {},
   "outputs": [],
   "source": [
    "results[trainsize]= pd.DataFrame({'val': xvalidate_loss, 'train':xtrain_loss, 'acc':xaccuracy})"
   ]
  },
  {
   "cell_type": "code",
   "execution_count": 161,
   "metadata": {},
   "outputs": [],
   "source": [
    "#results1000 = pd.DataFrame({'val': xvalidate_loss, 'train':xtrain_loss, 'acc':xaccuracy})"
   ]
  },
  {
   "cell_type": "markdown",
   "metadata": {},
   "source": [
    "### Results with different sized training data"
   ]
  },
  {
   "cell_type": "code",
   "execution_count": 98,
   "metadata": {},
   "outputs": [
    {
     "data": {
      "text/html": [
       "<div>\n",
       "<style scoped>\n",
       "    .dataframe tbody tr th:only-of-type {\n",
       "        vertical-align: middle;\n",
       "    }\n",
       "\n",
       "    .dataframe tbody tr th {\n",
       "        vertical-align: top;\n",
       "    }\n",
       "\n",
       "    .dataframe thead th {\n",
       "        text-align: right;\n",
       "    }\n",
       "</style>\n",
       "<table border=\"1\" class=\"dataframe\">\n",
       "  <thead>\n",
       "    <tr style=\"text-align: right;\">\n",
       "      <th></th>\n",
       "      <th>val</th>\n",
       "      <th>train</th>\n",
       "      <th>acc</th>\n",
       "    </tr>\n",
       "  </thead>\n",
       "  <tbody>\n",
       "    <tr>\n",
       "      <th>0</th>\n",
       "      <td>[4.82410333840549]</td>\n",
       "      <td>0.499924</td>\n",
       "      <td>0.6485</td>\n",
       "    </tr>\n",
       "    <tr>\n",
       "      <th>1</th>\n",
       "      <td>[0.9181957594454289]</td>\n",
       "      <td>0.592864</td>\n",
       "      <td>0.7395</td>\n",
       "    </tr>\n",
       "    <tr>\n",
       "      <th>2</th>\n",
       "      <td>[1.155655806310475]</td>\n",
       "      <td>0.605727</td>\n",
       "      <td>0.7775</td>\n",
       "    </tr>\n",
       "    <tr>\n",
       "      <th>3</th>\n",
       "      <td>[0.8125892618820071]</td>\n",
       "      <td>0.634543</td>\n",
       "      <td>0.8100</td>\n",
       "    </tr>\n",
       "    <tr>\n",
       "      <th>4</th>\n",
       "      <td>[5.843671057600528]</td>\n",
       "      <td>0.614488</td>\n",
       "      <td>0.7745</td>\n",
       "    </tr>\n",
       "    <tr>\n",
       "      <th>5</th>\n",
       "      <td>[6.287118505634368]</td>\n",
       "      <td>0.622923</td>\n",
       "      <td>0.7820</td>\n",
       "    </tr>\n",
       "    <tr>\n",
       "      <th>6</th>\n",
       "      <td>[12.47612617594935]</td>\n",
       "      <td>0.648743</td>\n",
       "      <td>0.7910</td>\n",
       "    </tr>\n",
       "    <tr>\n",
       "      <th>7</th>\n",
       "      <td>[111.34638942733035]</td>\n",
       "      <td>0.660557</td>\n",
       "      <td>0.7775</td>\n",
       "    </tr>\n",
       "    <tr>\n",
       "      <th>8</th>\n",
       "      <td>[1.3332453550454229]</td>\n",
       "      <td>0.660923</td>\n",
       "      <td>0.8205</td>\n",
       "    </tr>\n",
       "    <tr>\n",
       "      <th>9</th>\n",
       "      <td>[7.197082749731838]</td>\n",
       "      <td>0.652427</td>\n",
       "      <td>0.8255</td>\n",
       "    </tr>\n",
       "    <tr>\n",
       "      <th>10</th>\n",
       "      <td>[183.9017787543712]</td>\n",
       "      <td>0.664865</td>\n",
       "      <td>0.8140</td>\n",
       "    </tr>\n",
       "    <tr>\n",
       "      <th>11</th>\n",
       "      <td>[3.341987658651546]</td>\n",
       "      <td>0.738382</td>\n",
       "      <td>0.8195</td>\n",
       "    </tr>\n",
       "    <tr>\n",
       "      <th>12</th>\n",
       "      <td>[29.879887756768614]</td>\n",
       "      <td>0.726256</td>\n",
       "      <td>0.8280</td>\n",
       "    </tr>\n",
       "    <tr>\n",
       "      <th>13</th>\n",
       "      <td>[2.2274074643151835]</td>\n",
       "      <td>0.740831</td>\n",
       "      <td>0.8325</td>\n",
       "    </tr>\n",
       "    <tr>\n",
       "      <th>14</th>\n",
       "      <td>[7.722132334040012]</td>\n",
       "      <td>0.724308</td>\n",
       "      <td>0.8095</td>\n",
       "    </tr>\n",
       "  </tbody>\n",
       "</table>\n",
       "</div>"
      ],
      "text/plain": [
       "                     val     train     acc\n",
       "0     [4.82410333840549]  0.499924  0.6485\n",
       "1   [0.9181957594454289]  0.592864  0.7395\n",
       "2    [1.155655806310475]  0.605727  0.7775\n",
       "3   [0.8125892618820071]  0.634543  0.8100\n",
       "4    [5.843671057600528]  0.614488  0.7745\n",
       "5    [6.287118505634368]  0.622923  0.7820\n",
       "6    [12.47612617594935]  0.648743  0.7910\n",
       "7   [111.34638942733035]  0.660557  0.7775\n",
       "8   [1.3332453550454229]  0.660923  0.8205\n",
       "9    [7.197082749731838]  0.652427  0.8255\n",
       "10   [183.9017787543712]  0.664865  0.8140\n",
       "11   [3.341987658651546]  0.738382  0.8195\n",
       "12  [29.879887756768614]  0.726256  0.8280\n",
       "13  [2.2274074643151835]  0.740831  0.8325\n",
       "14   [7.722132334040012]  0.724308  0.8095"
      ]
     },
     "execution_count": 98,
     "metadata": {},
     "output_type": "execute_result"
    }
   ],
   "source": [
    "results[8000]"
   ]
  },
  {
   "cell_type": "code",
   "execution_count": 93,
   "metadata": {},
   "outputs": [],
   "source": [
    "# Load\n",
    "results = np.load('resultsx.npy').item()"
   ]
  },
  {
   "cell_type": "raw",
   "metadata": {},
   "source": [
    "# while 200 labeled items give 0.5850, 300 give 0.6 acuracy. 1,5% increase with 100 more data.\n",
    "# 100 gave 0.54\n",
    "# \n",
    "# 500 0.625\n",
    "\n",
    "#dict\n",
    "results = {}\n",
    "\n",
    "results['100']= results100\n",
    "#results['200']= results200\n",
    "results['300']= results300\n",
    "results['500']= results500\n"
   ]
  },
  {
   "cell_type": "code",
   "execution_count": 100,
   "metadata": {},
   "outputs": [],
   "source": [
    "#dictionary = {'hello':'world'}\n",
    "np.save('resultsx1.npy', results) "
   ]
  },
  {
   "cell_type": "code",
   "execution_count": null,
   "metadata": {},
   "outputs": [],
   "source": [
    "results100.to_csv('results100.csv')"
   ]
  },
  {
   "cell_type": "code",
   "execution_count": 155,
   "metadata": {},
   "outputs": [],
   "source": [
    "results100 = pd.read_csv('results100.csv')"
   ]
  },
  {
   "cell_type": "code",
   "execution_count": 149,
   "metadata": {},
   "outputs": [
    {
     "data": {
      "text/html": [
       "<div>\n",
       "<style scoped>\n",
       "    .dataframe tbody tr th:only-of-type {\n",
       "        vertical-align: middle;\n",
       "    }\n",
       "\n",
       "    .dataframe tbody tr th {\n",
       "        vertical-align: top;\n",
       "    }\n",
       "\n",
       "    .dataframe thead th {\n",
       "        text-align: right;\n",
       "    }\n",
       "</style>\n",
       "<table border=\"1\" class=\"dataframe\">\n",
       "  <thead>\n",
       "    <tr style=\"text-align: right;\">\n",
       "      <th></th>\n",
       "      <th>val</th>\n",
       "      <th>train</th>\n",
       "      <th>acc</th>\n",
       "    </tr>\n",
       "  </thead>\n",
       "  <tbody>\n",
       "    <tr>\n",
       "      <th>0</th>\n",
       "      <td>[0.9872420721650124]</td>\n",
       "      <td>0.863131</td>\n",
       "      <td>0.6270</td>\n",
       "    </tr>\n",
       "    <tr>\n",
       "      <th>1</th>\n",
       "      <td>[1.0959983005225657]</td>\n",
       "      <td>0.711867</td>\n",
       "      <td>0.5940</td>\n",
       "    </tr>\n",
       "    <tr>\n",
       "      <th>2</th>\n",
       "      <td>[1.1319324245899915]</td>\n",
       "      <td>0.657229</td>\n",
       "      <td>0.6450</td>\n",
       "    </tr>\n",
       "    <tr>\n",
       "      <th>3</th>\n",
       "      <td>[1.0007186770141125]</td>\n",
       "      <td>0.718754</td>\n",
       "      <td>0.6755</td>\n",
       "    </tr>\n",
       "    <tr>\n",
       "      <th>4</th>\n",
       "      <td>[0.9728661698848009]</td>\n",
       "      <td>0.791027</td>\n",
       "      <td>0.6680</td>\n",
       "    </tr>\n",
       "    <tr>\n",
       "      <th>5</th>\n",
       "      <td>[1.0017748506218196]</td>\n",
       "      <td>0.814120</td>\n",
       "      <td>0.6905</td>\n",
       "    </tr>\n",
       "    <tr>\n",
       "      <th>6</th>\n",
       "      <td>[0.9709802632331848]</td>\n",
       "      <td>0.852151</td>\n",
       "      <td>0.6965</td>\n",
       "    </tr>\n",
       "    <tr>\n",
       "      <th>7</th>\n",
       "      <td>[0.9872805901020766]</td>\n",
       "      <td>0.830495</td>\n",
       "      <td>0.6780</td>\n",
       "    </tr>\n",
       "    <tr>\n",
       "      <th>8</th>\n",
       "      <td>[1.007214888587594]</td>\n",
       "      <td>0.840957</td>\n",
       "      <td>0.6870</td>\n",
       "    </tr>\n",
       "    <tr>\n",
       "      <th>9</th>\n",
       "      <td>[1.0563348397463561]</td>\n",
       "      <td>0.891591</td>\n",
       "      <td>0.6785</td>\n",
       "    </tr>\n",
       "    <tr>\n",
       "      <th>10</th>\n",
       "      <td>[1.0370394280478359]</td>\n",
       "      <td>0.874175</td>\n",
       "      <td>0.7070</td>\n",
       "    </tr>\n",
       "    <tr>\n",
       "      <th>11</th>\n",
       "      <td>[1.054195993117988]</td>\n",
       "      <td>0.927292</td>\n",
       "      <td>0.7170</td>\n",
       "    </tr>\n",
       "    <tr>\n",
       "      <th>12</th>\n",
       "      <td>[0.9998700297549367]</td>\n",
       "      <td>0.951997</td>\n",
       "      <td>0.7215</td>\n",
       "    </tr>\n",
       "    <tr>\n",
       "      <th>13</th>\n",
       "      <td>[1.0190723473578691]</td>\n",
       "      <td>0.952755</td>\n",
       "      <td>0.7135</td>\n",
       "    </tr>\n",
       "    <tr>\n",
       "      <th>14</th>\n",
       "      <td>[1.0098433435857297]</td>\n",
       "      <td>0.968196</td>\n",
       "      <td>0.7225</td>\n",
       "    </tr>\n",
       "  </tbody>\n",
       "</table>\n",
       "</div>"
      ],
      "text/plain": [
       "                     val     train     acc\n",
       "0   [0.9872420721650124]  0.863131  0.6270\n",
       "1   [1.0959983005225657]  0.711867  0.5940\n",
       "2   [1.1319324245899915]  0.657229  0.6450\n",
       "3   [1.0007186770141125]  0.718754  0.6755\n",
       "4   [0.9728661698848009]  0.791027  0.6680\n",
       "5   [1.0017748506218196]  0.814120  0.6905\n",
       "6   [0.9709802632331848]  0.852151  0.6965\n",
       "7   [0.9872805901020766]  0.830495  0.6780\n",
       "8    [1.007214888587594]  0.840957  0.6870\n",
       "9   [1.0563348397463561]  0.891591  0.6785\n",
       "10  [1.0370394280478359]  0.874175  0.7070\n",
       "11   [1.054195993117988]  0.927292  0.7170\n",
       "12  [0.9998700297549367]  0.951997  0.7215\n",
       "13  [1.0190723473578691]  0.952755  0.7135\n",
       "14  [1.0098433435857297]  0.968196  0.7225"
      ]
     },
     "execution_count": 149,
     "metadata": {},
     "output_type": "execute_result"
    }
   ],
   "source": [
    "results1000 = pd.DataFrame({'val': xvalidate_loss, 'train':xtrain_loss, 'acc':xaccuracy})\n",
    "results1000"
   ]
  },
  {
   "cell_type": "code",
   "execution_count": 102,
   "metadata": {},
   "outputs": [
    {
     "data": {
      "text/html": [
       "<div>\n",
       "<style scoped>\n",
       "    .dataframe tbody tr th:only-of-type {\n",
       "        vertical-align: middle;\n",
       "    }\n",
       "\n",
       "    .dataframe tbody tr th {\n",
       "        vertical-align: top;\n",
       "    }\n",
       "\n",
       "    .dataframe thead th {\n",
       "        text-align: right;\n",
       "    }\n",
       "</style>\n",
       "<table border=\"1\" class=\"dataframe\">\n",
       "  <thead>\n",
       "    <tr style=\"text-align: right;\">\n",
       "      <th></th>\n",
       "      <th>val</th>\n",
       "      <th>train</th>\n",
       "      <th>acc</th>\n",
       "    </tr>\n",
       "  </thead>\n",
       "  <tbody>\n",
       "    <tr>\n",
       "      <th>0</th>\n",
       "      <td>[1.0498955637216567]</td>\n",
       "      <td>1.034174</td>\n",
       "      <td>0.5725</td>\n",
       "    </tr>\n",
       "    <tr>\n",
       "      <th>1</th>\n",
       "      <td>[1.1106152303516865]</td>\n",
       "      <td>0.917990</td>\n",
       "      <td>0.5845</td>\n",
       "    </tr>\n",
       "    <tr>\n",
       "      <th>2</th>\n",
       "      <td>[1.108517288863659]</td>\n",
       "      <td>0.972473</td>\n",
       "      <td>0.6020</td>\n",
       "    </tr>\n",
       "    <tr>\n",
       "      <th>3</th>\n",
       "      <td>[1.197882125020027]</td>\n",
       "      <td>0.933784</td>\n",
       "      <td>0.5960</td>\n",
       "    </tr>\n",
       "    <tr>\n",
       "      <th>4</th>\n",
       "      <td>[2.1856168991476297]</td>\n",
       "      <td>0.848695</td>\n",
       "      <td>0.5845</td>\n",
       "    </tr>\n",
       "    <tr>\n",
       "      <th>5</th>\n",
       "      <td>[3.929511443644762]</td>\n",
       "      <td>0.880784</td>\n",
       "      <td>0.5810</td>\n",
       "    </tr>\n",
       "    <tr>\n",
       "      <th>6</th>\n",
       "      <td>[1.5566950822472572]</td>\n",
       "      <td>0.871992</td>\n",
       "      <td>0.5965</td>\n",
       "    </tr>\n",
       "    <tr>\n",
       "      <th>7</th>\n",
       "      <td>[2.5267729723006487]</td>\n",
       "      <td>0.914394</td>\n",
       "      <td>0.6080</td>\n",
       "    </tr>\n",
       "    <tr>\n",
       "      <th>8</th>\n",
       "      <td>[4.981768222734332]</td>\n",
       "      <td>1.000357</td>\n",
       "      <td>0.6215</td>\n",
       "    </tr>\n",
       "    <tr>\n",
       "      <th>9</th>\n",
       "      <td>[5.416245001584292]</td>\n",
       "      <td>0.948081</td>\n",
       "      <td>0.6080</td>\n",
       "    </tr>\n",
       "    <tr>\n",
       "      <th>10</th>\n",
       "      <td>[4.4219001570642]</td>\n",
       "      <td>0.963638</td>\n",
       "      <td>0.6015</td>\n",
       "    </tr>\n",
       "    <tr>\n",
       "      <th>11</th>\n",
       "      <td>[4.377095339268446]</td>\n",
       "      <td>0.993501</td>\n",
       "      <td>0.6130</td>\n",
       "    </tr>\n",
       "    <tr>\n",
       "      <th>12</th>\n",
       "      <td>[5.09209756077826]</td>\n",
       "      <td>0.970043</td>\n",
       "      <td>0.6250</td>\n",
       "    </tr>\n",
       "    <tr>\n",
       "      <th>13</th>\n",
       "      <td>[3.804072525113821]</td>\n",
       "      <td>0.962595</td>\n",
       "      <td>0.6210</td>\n",
       "    </tr>\n",
       "    <tr>\n",
       "      <th>14</th>\n",
       "      <td>[5.591898477390409]</td>\n",
       "      <td>0.937253</td>\n",
       "      <td>0.6145</td>\n",
       "    </tr>\n",
       "  </tbody>\n",
       "</table>\n",
       "</div>"
      ],
      "text/plain": [
       "                     val     train     acc\n",
       "0   [1.0498955637216567]  1.034174  0.5725\n",
       "1   [1.1106152303516865]  0.917990  0.5845\n",
       "2    [1.108517288863659]  0.972473  0.6020\n",
       "3    [1.197882125020027]  0.933784  0.5960\n",
       "4   [2.1856168991476297]  0.848695  0.5845\n",
       "5    [3.929511443644762]  0.880784  0.5810\n",
       "6   [1.5566950822472572]  0.871992  0.5965\n",
       "7   [2.5267729723006487]  0.914394  0.6080\n",
       "8    [4.981768222734332]  1.000357  0.6215\n",
       "9    [5.416245001584292]  0.948081  0.6080\n",
       "10     [4.4219001570642]  0.963638  0.6015\n",
       "11   [4.377095339268446]  0.993501  0.6130\n",
       "12    [5.09209756077826]  0.970043  0.6250\n",
       "13   [3.804072525113821]  0.962595  0.6210\n",
       "14   [5.591898477390409]  0.937253  0.6145"
      ]
     },
     "execution_count": 102,
     "metadata": {},
     "output_type": "execute_result"
    }
   ],
   "source": [
    "results500 = pd.DataFrame({'val': xvalidate_loss, 'train':xtrain_loss, 'acc':xaccuracy})\n",
    "results500"
   ]
  },
  {
   "cell_type": "code",
   "execution_count": 55,
   "metadata": {},
   "outputs": [
    {
     "data": {
      "text/html": [
       "<div>\n",
       "<style scoped>\n",
       "    .dataframe tbody tr th:only-of-type {\n",
       "        vertical-align: middle;\n",
       "    }\n",
       "\n",
       "    .dataframe tbody tr th {\n",
       "        vertical-align: top;\n",
       "    }\n",
       "\n",
       "    .dataframe thead th {\n",
       "        text-align: right;\n",
       "    }\n",
       "</style>\n",
       "<table border=\"1\" class=\"dataframe\">\n",
       "  <thead>\n",
       "    <tr style=\"text-align: right;\">\n",
       "      <th></th>\n",
       "      <th>val</th>\n",
       "      <th>train</th>\n",
       "      <th>acc</th>\n",
       "    </tr>\n",
       "  </thead>\n",
       "  <tbody>\n",
       "    <tr>\n",
       "      <th>0</th>\n",
       "      <td>[1.148422669172287]</td>\n",
       "      <td>1.120210</td>\n",
       "      <td>0.5775</td>\n",
       "    </tr>\n",
       "    <tr>\n",
       "      <th>1</th>\n",
       "      <td>[1.2495238498449326]</td>\n",
       "      <td>0.912188</td>\n",
       "      <td>0.5135</td>\n",
       "    </tr>\n",
       "    <tr>\n",
       "      <th>2</th>\n",
       "      <td>[1.3291830311119557]</td>\n",
       "      <td>0.922584</td>\n",
       "      <td>0.5190</td>\n",
       "    </tr>\n",
       "    <tr>\n",
       "      <th>3</th>\n",
       "      <td>[1.2065900976359845]</td>\n",
       "      <td>0.835061</td>\n",
       "      <td>0.5440</td>\n",
       "    </tr>\n",
       "    <tr>\n",
       "      <th>4</th>\n",
       "      <td>[1.298182210713625]</td>\n",
       "      <td>0.897600</td>\n",
       "      <td>0.5600</td>\n",
       "    </tr>\n",
       "    <tr>\n",
       "      <th>5</th>\n",
       "      <td>[1.3334138369262218]</td>\n",
       "      <td>0.852542</td>\n",
       "      <td>0.5685</td>\n",
       "    </tr>\n",
       "    <tr>\n",
       "      <th>6</th>\n",
       "      <td>[1.4095449968278408]</td>\n",
       "      <td>0.891998</td>\n",
       "      <td>0.5610</td>\n",
       "    </tr>\n",
       "    <tr>\n",
       "      <th>7</th>\n",
       "      <td>[1.5145190207064152]</td>\n",
       "      <td>0.857893</td>\n",
       "      <td>0.5980</td>\n",
       "    </tr>\n",
       "    <tr>\n",
       "      <th>8</th>\n",
       "      <td>[1.417078743264079]</td>\n",
       "      <td>0.832469</td>\n",
       "      <td>0.6000</td>\n",
       "    </tr>\n",
       "    <tr>\n",
       "      <th>9</th>\n",
       "      <td>[1.4897609430849552]</td>\n",
       "      <td>0.833281</td>\n",
       "      <td>0.5930</td>\n",
       "    </tr>\n",
       "    <tr>\n",
       "      <th>10</th>\n",
       "      <td>[1.5607994010448456]</td>\n",
       "      <td>0.838134</td>\n",
       "      <td>0.6005</td>\n",
       "    </tr>\n",
       "    <tr>\n",
       "      <th>11</th>\n",
       "      <td>[1.7070065824985503]</td>\n",
       "      <td>0.868666</td>\n",
       "      <td>0.5945</td>\n",
       "    </tr>\n",
       "    <tr>\n",
       "      <th>12</th>\n",
       "      <td>[1.640056502968073]</td>\n",
       "      <td>0.871638</td>\n",
       "      <td>0.5885</td>\n",
       "    </tr>\n",
       "    <tr>\n",
       "      <th>13</th>\n",
       "      <td>[1.5934658929109573]</td>\n",
       "      <td>0.901595</td>\n",
       "      <td>0.5940</td>\n",
       "    </tr>\n",
       "    <tr>\n",
       "      <th>14</th>\n",
       "      <td>[1.6655278148800134]</td>\n",
       "      <td>0.927699</td>\n",
       "      <td>0.5920</td>\n",
       "    </tr>\n",
       "  </tbody>\n",
       "</table>\n",
       "</div>"
      ],
      "text/plain": [
       "                     val     train     acc\n",
       "0    [1.148422669172287]  1.120210  0.5775\n",
       "1   [1.2495238498449326]  0.912188  0.5135\n",
       "2   [1.3291830311119557]  0.922584  0.5190\n",
       "3   [1.2065900976359845]  0.835061  0.5440\n",
       "4    [1.298182210713625]  0.897600  0.5600\n",
       "5   [1.3334138369262218]  0.852542  0.5685\n",
       "6   [1.4095449968278408]  0.891998  0.5610\n",
       "7   [1.5145190207064152]  0.857893  0.5980\n",
       "8    [1.417078743264079]  0.832469  0.6000\n",
       "9   [1.4897609430849552]  0.833281  0.5930\n",
       "10  [1.5607994010448456]  0.838134  0.6005\n",
       "11  [1.7070065824985503]  0.868666  0.5945\n",
       "12   [1.640056502968073]  0.871638  0.5885\n",
       "13  [1.5934658929109573]  0.901595  0.5940\n",
       "14  [1.6655278148800134]  0.927699  0.5920"
      ]
     },
     "execution_count": 55,
     "metadata": {},
     "output_type": "execute_result"
    }
   ],
   "source": [
    "results300 = pd.DataFrame({'val': xvalidate_loss, 'train':xtrain_loss, 'acc':xaccuracy})\n",
    "results300"
   ]
  },
  {
   "cell_type": "code",
   "execution_count": 89,
   "metadata": {},
   "outputs": [
    {
     "data": {
      "text/html": [
       "<div>\n",
       "<style scoped>\n",
       "    .dataframe tbody tr th:only-of-type {\n",
       "        vertical-align: middle;\n",
       "    }\n",
       "\n",
       "    .dataframe tbody tr th {\n",
       "        vertical-align: top;\n",
       "    }\n",
       "\n",
       "    .dataframe thead th {\n",
       "        text-align: right;\n",
       "    }\n",
       "</style>\n",
       "<table border=\"1\" class=\"dataframe\">\n",
       "  <thead>\n",
       "    <tr style=\"text-align: right;\">\n",
       "      <th></th>\n",
       "      <th>val</th>\n",
       "      <th>train</th>\n",
       "      <th>acc</th>\n",
       "    </tr>\n",
       "  </thead>\n",
       "  <tbody>\n",
       "    <tr>\n",
       "      <th>0</th>\n",
       "      <td>[1.195070844143629]</td>\n",
       "      <td>1.041893</td>\n",
       "      <td>0.5360</td>\n",
       "    </tr>\n",
       "    <tr>\n",
       "      <th>1</th>\n",
       "      <td>[1.3940935591161252]</td>\n",
       "      <td>1.094646</td>\n",
       "      <td>0.5690</td>\n",
       "    </tr>\n",
       "    <tr>\n",
       "      <th>2</th>\n",
       "      <td>[1.4975435910969972]</td>\n",
       "      <td>0.992466</td>\n",
       "      <td>0.5460</td>\n",
       "    </tr>\n",
       "    <tr>\n",
       "      <th>3</th>\n",
       "      <td>[1.3699843916893006]</td>\n",
       "      <td>0.969821</td>\n",
       "      <td>0.5745</td>\n",
       "    </tr>\n",
       "    <tr>\n",
       "      <th>4</th>\n",
       "      <td>[1.4847442761063576]</td>\n",
       "      <td>0.998617</td>\n",
       "      <td>0.5510</td>\n",
       "    </tr>\n",
       "    <tr>\n",
       "      <th>5</th>\n",
       "      <td>[1.6594213886260987]</td>\n",
       "      <td>0.936941</td>\n",
       "      <td>0.5570</td>\n",
       "    </tr>\n",
       "    <tr>\n",
       "      <th>6</th>\n",
       "      <td>[1.7852485501468183]</td>\n",
       "      <td>0.986875</td>\n",
       "      <td>0.5560</td>\n",
       "    </tr>\n",
       "    <tr>\n",
       "      <th>7</th>\n",
       "      <td>[1.7116678630709647]</td>\n",
       "      <td>0.982495</td>\n",
       "      <td>0.5495</td>\n",
       "    </tr>\n",
       "    <tr>\n",
       "      <th>8</th>\n",
       "      <td>[1.5778338895440103]</td>\n",
       "      <td>0.975589</td>\n",
       "      <td>0.5430</td>\n",
       "    </tr>\n",
       "    <tr>\n",
       "      <th>9</th>\n",
       "      <td>[1.5465353992581368]</td>\n",
       "      <td>0.944386</td>\n",
       "      <td>0.5615</td>\n",
       "    </tr>\n",
       "    <tr>\n",
       "      <th>10</th>\n",
       "      <td>[1.61626892131567]</td>\n",
       "      <td>0.948060</td>\n",
       "      <td>0.5850</td>\n",
       "    </tr>\n",
       "    <tr>\n",
       "      <th>11</th>\n",
       "      <td>[1.6108183098435402]</td>\n",
       "      <td>0.906177</td>\n",
       "      <td>0.5755</td>\n",
       "    </tr>\n",
       "    <tr>\n",
       "      <th>12</th>\n",
       "      <td>[1.669055641502142]</td>\n",
       "      <td>0.890414</td>\n",
       "      <td>0.5745</td>\n",
       "    </tr>\n",
       "    <tr>\n",
       "      <th>13</th>\n",
       "      <td>[1.658261726796627]</td>\n",
       "      <td>0.906241</td>\n",
       "      <td>0.5845</td>\n",
       "    </tr>\n",
       "    <tr>\n",
       "      <th>14</th>\n",
       "      <td>[1.7189348363280297]</td>\n",
       "      <td>0.886755</td>\n",
       "      <td>0.5830</td>\n",
       "    </tr>\n",
       "  </tbody>\n",
       "</table>\n",
       "</div>"
      ],
      "text/plain": [
       "                     val     train     acc\n",
       "0    [1.195070844143629]  1.041893  0.5360\n",
       "1   [1.3940935591161252]  1.094646  0.5690\n",
       "2   [1.4975435910969972]  0.992466  0.5460\n",
       "3   [1.3699843916893006]  0.969821  0.5745\n",
       "4   [1.4847442761063576]  0.998617  0.5510\n",
       "5   [1.6594213886260987]  0.936941  0.5570\n",
       "6   [1.7852485501468183]  0.986875  0.5560\n",
       "7   [1.7116678630709647]  0.982495  0.5495\n",
       "8   [1.5778338895440103]  0.975589  0.5430\n",
       "9   [1.5465353992581368]  0.944386  0.5615\n",
       "10    [1.61626892131567]  0.948060  0.5850\n",
       "11  [1.6108183098435402]  0.906177  0.5755\n",
       "12   [1.669055641502142]  0.890414  0.5745\n",
       "13   [1.658261726796627]  0.906241  0.5845\n",
       "14  [1.7189348363280297]  0.886755  0.5830"
      ]
     },
     "execution_count": 89,
     "metadata": {},
     "output_type": "execute_result"
    }
   ],
   "source": [
    "results200 = pd.DataFrame({'val': xvalidate_loss, 'train':xtrain_loss, 'acc':xaccuracy})\n",
    "results200"
   ]
  },
  {
   "cell_type": "code",
   "execution_count": 172,
   "metadata": {},
   "outputs": [],
   "source": [
    "\n",
    "results100 = pd.DataFrame({'val': validate_loss, 'train':train_loss, 'acc':accuracy})\n",
    "results100"
   ]
  },
  {
   "cell_type": "code",
   "execution_count": 210,
   "metadata": {},
   "outputs": [],
   "source": [
    "\n",
    "results100.to_csv('results100.csv')"
   ]
  },
  {
   "cell_type": "code",
   "execution_count": null,
   "metadata": {},
   "outputs": [],
   "source": [
    "# http://forums.fast.ai/t/fast-ai-predict-array-for-nlp-classification/17180\n",
    "\n",
    "# df_pred = pd.read_csv(LM_PATH/'predict.csv', header=None, chunksize=chunksize)\n",
    "# tok_pred, pred_labels = get_all(df_pred, 1)\n",
    "# pred_ids = np.array([[stoi[o] for o in p] for p in tok_pred])\n"
   ]
  }
 ],
 "metadata": {
  "kernelspec": {
   "display_name": "Python 3",
   "language": "python",
   "name": "python3"
  },
  "language_info": {
   "codemirror_mode": {
    "name": "ipython",
    "version": 3
   },
   "file_extension": ".py",
   "mimetype": "text/x-python",
   "name": "python",
   "nbconvert_exporter": "python",
   "pygments_lexer": "ipython3",
   "version": "3.6.6"
  }
 },
 "nbformat": 4,
 "nbformat_minor": 2
}
