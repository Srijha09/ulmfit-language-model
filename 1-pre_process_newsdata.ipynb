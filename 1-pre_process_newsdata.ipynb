{
 "cells": [
  {
   "cell_type": "markdown",
   "metadata": {},
   "source": [
    "### Sentiment analysis on business news data\n",
    "\n",
    "Dataset \n",
    "16840 entries of business news\n",
    "\n",
    "in 5 categories by how negative/positive for given entity\n",
    "\n",
    "Entity is a company name, with given location within text. Can be several entities in single article.\n",
    "headline is also given.\n",
    "\n",
    "Data is available at http://puls.cs.helsinki.fi/static/polarity/index.html\n",
    "Supporting paper \"Benchmarks and models for entity-oriented polarity detection\" http://aclweb.org/anthology/N18-3016\n"
   ]
  },
  {
   "cell_type": "markdown",
   "metadata": {},
   "source": [
    "#### Ppreprocess data for NNs, save it still in textual form in chosen sizes/splits as:\n",
    "\n",
    "#### Language model training files: train, dev and test CSV under PATH LM_PATH\n",
    "#### Classifier training files: train, dev and test CSV under PATH CLAS_PATH"
   ]
  },
  {
   "cell_type": "code",
   "execution_count": null,
   "metadata": {
    "scrolled": true
   },
   "outputs": [],
   "source": [
    "import json\n",
    "import ast\n",
    "import pandas as pd\n",
    "import html\n",
    "import numpy as np\n",
    "from sklearn.model_selection import train_test_split\n",
    "\n",
    "import sys\n",
    "sys.path.append(\"../fastaiDL/fastai/courses/dl2\")\n",
    "from fastai.text import *"
   ]
  },
  {
   "cell_type": "code",
   "execution_count": 2,
   "metadata": {},
   "outputs": [
    {
     "name": "stdout",
     "output_type": "stream",
     "text": [
      "0.6\n"
     ]
    }
   ],
   "source": [
    "import fastai\n",
    "print(getattr(fastai, '__version__', 0.6))"
   ]
  },
  {
   "cell_type": "code",
   "execution_count": 3,
   "metadata": {},
   "outputs": [],
   "source": [
    "import warnings\n",
    "warnings.filterwarnings('ignore')"
   ]
  },
  {
   "cell_type": "code",
   "execution_count": 5,
   "metadata": {},
   "outputs": [],
   "source": [
    "DATA = 'data/'\n",
    "file = 'polarity_data.js' # business news\n",
    "datafile = DATA+file\n",
    "\n",
    "LM_PATH=Path('work/lm/')\n",
    "LM_PATH.mkdir(exist_ok=True)\n",
    "CLAS_PATH=Path('work/clas/')\n",
    "CLAS_PATH.mkdir(exist_ok=True)\n",
    "PATH=Path('.')\n",
    "CLASSES = ['veryneg', 'neg', 'neut', 'pos', 'very pos']\n",
    "\n",
    "#tags\n",
    "XBOB = ' xbob ' # beginning-of-body tag\n",
    "#ENTBEG = 'xentb '  # beginning-of-entity in text\n",
    "#ENTEND = ' xente'  # end of entity in text\n",
    "ENT =  'ENTITY '   # replace target entity in the text\n"
   ]
  },
  {
   "cell_type": "code",
   "execution_count": 6,
   "metadata": {},
   "outputs": [],
   "source": [
    "with open(datafile, encoding='utf-8') as data_file:\n",
    "    data = ast.literal_eval(data_file.read())\n",
    "df = pd.DataFrame.from_dict(data, orient='columns')    "
   ]
  },
  {
   "cell_type": "code",
   "execution_count": 7,
   "metadata": {},
   "outputs": [],
   "source": [
    "# extract headline start and end\n",
    "df = pd.concat( [df, df['headline'].apply(pd.Series)], axis=1)"
   ]
  },
  {
   "cell_type": "markdown",
   "metadata": {},
   "source": [
    "### Randomize (optional)"
   ]
  },
  {
   "cell_type": "markdown",
   "metadata": {},
   "source": [
    "np.random.seed(1)\n",
    "texts_idx = np.random.permutation(len(df))\n",
    "df = df.iloc[texts_idx]"
   ]
  },
  {
   "cell_type": "code",
   "execution_count": 68,
   "metadata": {},
   "outputs": [
    {
     "data": {
      "text/html": [
       "<div>\n",
       "<style scoped>\n",
       "    .dataframe tbody tr th:only-of-type {\n",
       "        vertical-align: middle;\n",
       "    }\n",
       "\n",
       "    .dataframe tbody tr th {\n",
       "        vertical-align: top;\n",
       "    }\n",
       "\n",
       "    .dataframe thead th {\n",
       "        text-align: right;\n",
       "    }\n",
       "</style>\n",
       "<table border=\"1\" class=\"dataframe\">\n",
       "  <thead>\n",
       "    <tr style=\"text-align: right;\">\n",
       "      <th></th>\n",
       "      <th>content</th>\n",
       "      <th>docnoId</th>\n",
       "      <th>end</th>\n",
       "      <th>entities</th>\n",
       "      <th>headline</th>\n",
       "      <th>start</th>\n",
       "      <th>url</th>\n",
       "      <th>content_ent</th>\n",
       "      <th>text_ent</th>\n",
       "      <th>text</th>\n",
       "      <th>label</th>\n",
       "      <th>label_binary</th>\n",
       "    </tr>\n",
       "  </thead>\n",
       "  <tbody>\n",
       "    <tr>\n",
       "      <th>0</th>\n",
       "      <td>20170201\\n0A21D5765ED3B8F51065D3CF7339371E\\nTe...</td>\n",
       "      <td>0A21D5765ED3B8F51065D3CF7339371E</td>\n",
       "      <td>91</td>\n",
       "      <td>{'entityId': 14123, 'name': 'Facebook', 'offse...</td>\n",
       "      <td>{'end': '91', 'start': '42'}</td>\n",
       "      <td>42</td>\n",
       "      <td>http://www.autoguide.com/auto-news/2017/02/tes...</td>\n",
       "      <td>Tesla is Now Officially More Than Just About C...</td>\n",
       "      <td>Tesla is Now Officially More Than Just About C...</td>\n",
       "      <td>Tesla is Now Officially More Than Just About C...</td>\n",
       "      <td>2</td>\n",
       "      <td>1</td>\n",
       "    </tr>\n",
       "    <tr>\n",
       "      <th>1</th>\n",
       "      <td>20170201\\n4BBD29849EF2018A3D34932EC4AD92AB\\nHe...</td>\n",
       "      <td>4BBD29849EF2018A3D34932EC4AD92AB</td>\n",
       "      <td>97</td>\n",
       "      <td>{'entityId': 10912, 'name': 'Aetna', 'offsets'...</td>\n",
       "      <td>{'end': '97', 'start': '42'}</td>\n",
       "      <td>42</td>\n",
       "      <td>http://uk.reuters.com/article/idUKL4N1FL20C?rp...</td>\n",
       "      <td>Health insurer ENTITY Aetna's quarterly profit...</td>\n",
       "      <td>Health insurer ENTITY Aetna's quarterly profit...</td>\n",
       "      <td>Health insurer Aetna's quarterly profit beats ...</td>\n",
       "      <td>4</td>\n",
       "      <td>1</td>\n",
       "    </tr>\n",
       "    <tr>\n",
       "      <th>2</th>\n",
       "      <td>20170201\\n80EA59EAB021503F49D4277EA2083662\\nTh...</td>\n",
       "      <td>80EA59EAB021503F49D4277EA2083662</td>\n",
       "      <td>94</td>\n",
       "      <td>{'entityId': 4054, 'name': 'Warwick Hotels &amp; R...</td>\n",
       "      <td>{'end': '94', 'start': '42'}</td>\n",
       "      <td>42</td>\n",
       "      <td>http://feedproxy.google.com/~r/bighospitality/...</td>\n",
       "      <td>The Capital Hotel sold to American hospitality...</td>\n",
       "      <td>The Capital Hotel sold to American hospitality...</td>\n",
       "      <td>The Capital Hotel sold to American hospitality...</td>\n",
       "      <td>4</td>\n",
       "      <td>1</td>\n",
       "    </tr>\n",
       "  </tbody>\n",
       "</table>\n",
       "</div>"
      ],
      "text/plain": [
       "                                             content  \\\n",
       "0  20170201\\n0A21D5765ED3B8F51065D3CF7339371E\\nTe...   \n",
       "1  20170201\\n4BBD29849EF2018A3D34932EC4AD92AB\\nHe...   \n",
       "2  20170201\\n80EA59EAB021503F49D4277EA2083662\\nTh...   \n",
       "\n",
       "                            docnoId end  \\\n",
       "0  0A21D5765ED3B8F51065D3CF7339371E  91   \n",
       "1  4BBD29849EF2018A3D34932EC4AD92AB  97   \n",
       "2  80EA59EAB021503F49D4277EA2083662  94   \n",
       "\n",
       "                                            entities  \\\n",
       "0  {'entityId': 14123, 'name': 'Facebook', 'offse...   \n",
       "1  {'entityId': 10912, 'name': 'Aetna', 'offsets'...   \n",
       "2  {'entityId': 4054, 'name': 'Warwick Hotels & R...   \n",
       "\n",
       "                       headline start  \\\n",
       "0  {'end': '91', 'start': '42'}    42   \n",
       "1  {'end': '97', 'start': '42'}    42   \n",
       "2  {'end': '94', 'start': '42'}    42   \n",
       "\n",
       "                                                 url  \\\n",
       "0  http://www.autoguide.com/auto-news/2017/02/tes...   \n",
       "1  http://uk.reuters.com/article/idUKL4N1FL20C?rp...   \n",
       "2  http://feedproxy.google.com/~r/bighospitality/...   \n",
       "\n",
       "                                         content_ent  \\\n",
       "0  Tesla is Now Officially More Than Just About C...   \n",
       "1  Health insurer ENTITY Aetna's quarterly profit...   \n",
       "2  The Capital Hotel sold to American hospitality...   \n",
       "\n",
       "                                            text_ent  \\\n",
       "0  Tesla is Now Officially More Than Just About C...   \n",
       "1  Health insurer ENTITY Aetna's quarterly profit...   \n",
       "2  The Capital Hotel sold to American hospitality...   \n",
       "\n",
       "                                                text  label  label_binary  \n",
       "0  Tesla is Now Officially More Than Just About C...      2             1  \n",
       "1  Health insurer Aetna's quarterly profit beats ...      4             1  \n",
       "2  The Capital Hotel sold to American hospitality...      4             1  "
      ]
     },
     "execution_count": 68,
     "metadata": {},
     "output_type": "execute_result"
    }
   ],
   "source": [
    "df[0:3]"
   ]
  },
  {
   "cell_type": "markdown",
   "metadata": {},
   "source": [
    "### Process text"
   ]
  },
  {
   "cell_type": "markdown",
   "metadata": {},
   "source": [
    "### Entities"
   ]
  },
  {
   "cell_type": "code",
   "execution_count": 8,
   "metadata": {},
   "outputs": [
    {
     "data": {
      "text/plain": [
       "0    [{'entityId': 14123, 'name': 'Facebook', 'offs...\n",
       "1    [{'entityId': 10912, 'name': 'Aetna', 'offsets...\n",
       "2    [{'entityId': 4054, 'name': 'Warwick Hotels & ...\n",
       "3    [{'entityId': 1897, 'name': 'Volkswagen', 'off...\n",
       "4    [{'entityId': 5350, 'name': 'Volkswagen', 'off...\n",
       "5    [{'entityId': 7737, 'name': 'Volkswagen', 'off...\n",
       "6    [{'entityId': 5094, 'name': 'Volkswagen', 'off...\n",
       "Name: entities, dtype: object"
      ]
     },
     "execution_count": 8,
     "metadata": {},
     "output_type": "execute_result"
    }
   ],
   "source": [
    "df.entities[0:7]"
   ]
  },
  {
   "cell_type": "code",
   "execution_count": 9,
   "metadata": {},
   "outputs": [
    {
     "data": {
      "text/plain": [
       "[{'entityId': 5094,\n",
       "  'name': 'Volkswagen',\n",
       "  'offsets': [{'end': 106, 'start': 96},\n",
       "   {'end': 162, 'start': 152},\n",
       "   {'end': 652, 'start': 650},\n",
       "   {'end': 410, 'start': 408},\n",
       "   {'end': 611, 'start': 609},\n",
       "   {'end': 760, 'start': 758},\n",
       "   {'end': 1074, 'start': 1072},\n",
       "   {'end': 1357, 'start': 1355},\n",
       "   {'end': 1425, 'start': 1423}],\n",
       "  'polarity': 0.0},\n",
       " {'entityId': 10458,\n",
       "  'name': 'Audi',\n",
       "  'offsets': [{'end': 1630, 'start': 1626}],\n",
       "  'polarity': 0.0}]"
      ]
     },
     "execution_count": 9,
     "metadata": {},
     "output_type": "execute_result"
    }
   ],
   "source": [
    "# articles may have several entities per single row\n",
    "# example of 2 entities on same article / row, Volkswaven and Audi\n",
    "df.entities[6]"
   ]
  },
  {
   "cell_type": "code",
   "execution_count": 10,
   "metadata": {},
   "outputs": [
    {
     "data": {
      "text/plain": [
       "content     20161106\\n2C39ABDDB47F3B7C32E9D668C6186EF2\\nGe...\n",
       "docnoId                      2C39ABDDB47F3B7C32E9D668C6186EF2\n",
       "entities    [{'entityId': 5094, 'name': 'Volkswagen', 'off...\n",
       "headline                        {'end': '125', 'start': '42'}\n",
       "url         http://news.google.com/news/url?sa=t&fd=R&ct2=...\n",
       "end                                                       125\n",
       "start                                                      42\n",
       "Name: 6, dtype: object"
      ]
     },
     "execution_count": 10,
     "metadata": {},
     "output_type": "execute_result"
    }
   ],
   "source": [
    "# Notice here the documents id - docnoId. We will extract this article to 2 separate rows, 1 for each entity\n",
    "df.iloc[6]"
   ]
  },
  {
   "cell_type": "code",
   "execution_count": 11,
   "metadata": {},
   "outputs": [],
   "source": [
    "# When Pandas Dataframe column may contain list as value, unpack the list and replicate new row for each item\n",
    "\n",
    "# https://stackoverflow.com/questions/32468402/how-to-explode-a-list-inside-a-dataframe-cell-into-separate-rows\n",
    "import copy\n",
    "\n",
    "def pandas_explode(df, column_to_explode):\n",
    "    \"\"\"\n",
    "    Similar to Hive's EXPLODE function, take a column with iterable elements, and flatten the iterable to one element \n",
    "    per observation in the output table\n",
    "\n",
    "    :param df: A dataframe to explod\n",
    "    :type df: pandas.DataFrame\n",
    "    :param column_to_explode: \n",
    "    :type column_to_explode: str\n",
    "    :return: An exploded data frame\n",
    "    :rtype: pandas.DataFrame\n",
    "    \"\"\"\n",
    "\n",
    "    # Create a list of new observations\n",
    "    new_observations = list()\n",
    "\n",
    "    # Iterate through existing observations\n",
    "    for row in df.to_dict(orient='records'):\n",
    "\n",
    "        # Take out the exploding iterable\n",
    "        explode_values = row[column_to_explode]\n",
    "        del row[column_to_explode]\n",
    "\n",
    "        # Create a new observation for every entry in the exploding iterable & add all of the other columns\n",
    "        for explode_value in explode_values:\n",
    "\n",
    "            # Deep copy existing observation\n",
    "            new_observation = copy.deepcopy(row)\n",
    "\n",
    "            # Add one (newly flattened) value from exploding iterable\n",
    "            new_observation[column_to_explode] = explode_value\n",
    "\n",
    "            # Add to the list of new observations\n",
    "            new_observations.append(new_observation)\n",
    "\n",
    "    # Create a DataFrame\n",
    "    return_df = pd.DataFrame(new_observations)\n",
    "\n",
    "    # Return\n",
    "    return return_df"
   ]
  },
  {
   "cell_type": "code",
   "execution_count": 12,
   "metadata": {},
   "outputs": [],
   "source": [
    "def markEntity(row):\n",
    "    '''Mark entities in text by adding ENT-Tag.\n",
    "    Also make entity names similar \"Volkswagen\", \"VW\" etc to single: \"VW\"\n",
    "    '''\n",
    "    \n",
    "    content = row.content\n",
    "    \n",
    "    # a list of dictionaries type: { end, start}\n",
    "    offset_list = row.entities['offsets']    \n",
    "    \n",
    "    # sort it from hight to low by \n",
    "    offset_list = sorted(offset_list, key=itemgetter('end'), reverse=True)\n",
    "    #offset_list    \n",
    "    \n",
    "    # replace different forms of entity with same \"Volkswagen\", \"VW\"\n",
    "    name = row.entities['name']   \n",
    "    \n",
    "    # for each appearance of entity\n",
    "    for loc in offset_list:\n",
    "        end = loc['end']\n",
    "        start = loc['start']\n",
    "    \n",
    "        #print(end)\n",
    "        #print(start)\n",
    "    \n",
    "        #name = content[start:end]\n",
    "        #print(name)\n",
    "        content = content[:start] + ENT +name + content[end:]\n",
    "    return content"
   ]
  },
  {
   "cell_type": "code",
   "execution_count": 13,
   "metadata": {},
   "outputs": [],
   "source": [
    "# just make entity names similar \"Volkswagen\", \"VW\", but don't add ENT tag.\n",
    "def markNotEntity(row):\n",
    "    '''Make entity names similar \"Volkswagen\", \"VW\" etc to single: \"VW\"\n",
    "       No adding of ENT-tag\n",
    "    '''\n",
    "        \n",
    "    content = row.content\n",
    "    \n",
    "    # a list of dictionaries type: { end, start}\n",
    "    offset_list = row.entities['offsets']    \n",
    "    \n",
    "    # sort it from hight to low by \n",
    "    offset_list = sorted(offset_list, key=itemgetter('end'), reverse=True)\n",
    "    #offset_list    \n",
    "    \n",
    "    # replace different forms of entity with same \"Volkswagen\", \"VW\"\n",
    "    name = row.entities['name']   \n",
    "    \n",
    "    # for each appearance of entity\n",
    "    for loc in offset_list:\n",
    "        end = loc['end']\n",
    "        start = loc['start']\n",
    "    \n",
    "        #print(end)\n",
    "        #print(start)\n",
    "    \n",
    "        #name = content[start:end]\n",
    "        #print(name)\n",
    "        content = content[:start] +name + content[end:]\n",
    "    return content"
   ]
  },
  {
   "cell_type": "code",
   "execution_count": 14,
   "metadata": {},
   "outputs": [
    {
     "name": "stdout",
     "output_type": "stream",
     "text": [
      "16840\n",
      "19864\n"
     ]
    }
   ],
   "source": [
    "# extract entities, each to own row\n",
    "print(len(df))\n",
    "new = pandas_explode(df, 'entities'); print(len(new))"
   ]
  },
  {
   "cell_type": "code",
   "execution_count": 15,
   "metadata": {},
   "outputs": [
    {
     "data": {
      "text/plain": [
       "content     20161106\\n2C39ABDDB47F3B7C32E9D668C6186EF2\\nGe...\n",
       "docnoId                      2C39ABDDB47F3B7C32E9D668C6186EF2\n",
       "end                                                       125\n",
       "entities    {'entityId': 5094, 'name': 'Volkswagen', 'offs...\n",
       "headline                        {'end': '125', 'start': '42'}\n",
       "start                                                      42\n",
       "url         http://news.google.com/news/url?sa=t&fd=R&ct2=...\n",
       "Name: 6, dtype: object"
      ]
     },
     "execution_count": 15,
     "metadata": {},
     "output_type": "execute_result"
    }
   ],
   "source": [
    "# we now have 2 rows with same doc. One for each entity name\n",
    "new.iloc[6]"
   ]
  },
  {
   "cell_type": "code",
   "execution_count": 16,
   "metadata": {},
   "outputs": [
    {
     "data": {
      "text/plain": [
       "content     20161106\\n2C39ABDDB47F3B7C32E9D668C6186EF2\\nGe...\n",
       "docnoId                      2C39ABDDB47F3B7C32E9D668C6186EF2\n",
       "end                                                       125\n",
       "entities    {'entityId': 10458, 'name': 'Audi', 'offsets':...\n",
       "headline                        {'end': '125', 'start': '42'}\n",
       "start                                                      42\n",
       "url         http://news.google.com/news/url?sa=t&fd=R&ct2=...\n",
       "Name: 7, dtype: object"
      ]
     },
     "execution_count": 16,
     "metadata": {},
     "output_type": "execute_result"
    }
   ],
   "source": [
    "new.iloc[7]"
   ]
  },
  {
   "cell_type": "code",
   "execution_count": 17,
   "metadata": {},
   "outputs": [],
   "source": [
    "# new[new.docnoId=='2C39ABDDB47F3B7C32E9D668C6186EF2']"
   ]
  },
  {
   "cell_type": "code",
   "execution_count": 18,
   "metadata": {},
   "outputs": [],
   "source": [
    "df = new"
   ]
  },
  {
   "cell_type": "code",
   "execution_count": 19,
   "metadata": {},
   "outputs": [],
   "source": [
    "# Mark entities - replace target entity with ENT-tag\n",
    "df['content_ent'] = df.apply(lambda row: markEntity(row), axis=1)\n",
    "# cut docnoId away from beginning - first 41\n",
    "df.content_ent = df.apply(lambda row: row['content_ent'][42:], axis=1)\n",
    "\n",
    "df['text_ent'] = df['content_ent']"
   ]
  },
  {
   "cell_type": "code",
   "execution_count": 20,
   "metadata": {},
   "outputs": [],
   "source": [
    "df['text'] = df.content"
   ]
  },
  {
   "cell_type": "code",
   "execution_count": 21,
   "metadata": {},
   "outputs": [],
   "source": [
    "# OPTIONAL\n",
    "# Only equalize entity-names - no ENT tag\n",
    "#df['text'] = df.apply(lambda row: markNotEntity(row), axis=1)"
   ]
  },
  {
   "cell_type": "code",
   "execution_count": 22,
   "metadata": {},
   "outputs": [],
   "source": [
    "df['text'] = df.apply(lambda row: row['text'][42:], axis=1)"
   ]
  },
  {
   "cell_type": "code",
   "execution_count": 23,
   "metadata": {},
   "outputs": [
    {
     "data": {
      "text/plain": [
       "'German prosecutors widen market manipulation probe to ENTITY Volkswagen chairman - Reuters\\nFRANKFURT German carmaker ENTITY Volkswagen (VOWG_p.DE) said on Sunday that German prosecutors had widened an investigation into suspected market manipulation to include supervisory board Chairman Hans Dieter Poetsch.\\nThe investigation, which relates to Poetsch\\'s time as finance chief of ENTITY Volkswagen, is the latest fallout from the carmaker\\'s admission last year that it cheated on diesel emissions tests.\\nThe prosecutor\\'s office in Braunschweig first announced the probe in June, targeting former ENTITY Volkswagen Chief Executive Martin Winterkorn and ENTITY Volkswagen brand chief Herbert Diess for suspected market manipulation related to the carmaker\\'s emissions scandal.\\nENTITY Volkswagen has admitted that it installed software that deactivated pollution controls on more than 11 million diesel vehicles sold worldwide, rattling its global business, damaging its reputation and prompting the departure of CEO Winterkorn.\\nThe prosecutor\\'s office said in June that its probe centered on evidence that ENTITY Volkswagen\\'s duty to disclose possible financial damage from the emissions test cheating may have arisen before Sept. 22, 2015, when the carmaker publicly admitted its wrongdoing.\\n\"Based on a thorough examination by internal and internal legal experts, the company reaffirms its belief that ENTITY Volkswagen\\'s management fulfilled its duties to inform the capital market,\" ENTITY Volkswagen said on Sunday.\\nIt said the company and Poetsch would fully support the prosecutor\\'s office in its investigation.\\nSeparately, Bild am Sonntag reported that a U.S. regulator had found software in some Audi vehicles that lowered their carbon dioxide emissions if it detected they were being used under test conditions.\\n(Reporting by Maria Sheahan; editing by Andrea Shalal and Adrian Croft)'"
      ]
     },
     "execution_count": 23,
     "metadata": {},
     "output_type": "execute_result"
    }
   ],
   "source": [
    "df.text_ent[6]"
   ]
  },
  {
   "cell_type": "code",
   "execution_count": 24,
   "metadata": {},
   "outputs": [
    {
     "data": {
      "text/plain": [
       "'German prosecutors widen market manipulation probe to Volkswagen chairman - Reuters\\nFRANKFURT German carmaker Volkswagen (VOWG_p.DE) said on Sunday that German prosecutors had widened an investigation into suspected market manipulation to include supervisory board Chairman Hans Dieter Poetsch.\\nThe investigation, which relates to Poetsch\\'s time as finance chief of VW, is the latest fallout from the carmaker\\'s admission last year that it cheated on diesel emissions tests.\\nThe prosecutor\\'s office in Braunschweig first announced the probe in June, targeting former VW Chief Executive Martin Winterkorn and VW brand chief Herbert Diess for suspected market manipulation related to the carmaker\\'s emissions scandal.\\nVW has admitted that it installed software that deactivated pollution controls on more than 11 million diesel vehicles sold worldwide, rattling its global business, damaging its reputation and prompting the departure of CEO Winterkorn.\\nThe prosecutor\\'s office said in June that its probe centered on evidence that VW\\'s duty to disclose possible financial damage from the emissions test cheating may have arisen before Sept. 22, 2015, when the carmaker publicly admitted its wrongdoing.\\n\"Based on a thorough examination by internal and internal legal experts, the company reaffirms its belief that VW\\'s management fulfilled its duties to inform the capital market,\" VW said on Sunday.\\nIt said the company and Poetsch would fully support the prosecutor\\'s office in its investigation.\\nSeparately, Bild am Sonntag reported that a U.S. regulator had found software in some Audi vehicles that lowered their carbon dioxide emissions if it detected they were being used under test conditions.\\n(Reporting by Maria Sheahan; editing by Andrea Shalal and Adrian Croft)'"
      ]
     },
     "execution_count": 24,
     "metadata": {},
     "output_type": "execute_result"
    }
   ],
   "source": [
    "df.text[6]"
   ]
  },
  {
   "cell_type": "code",
   "execution_count": 25,
   "metadata": {},
   "outputs": [],
   "source": [
    "#extract headline\n",
    "#df['newsheadline'] = df.apply(lambda row: row['content_ent'][int(row['start']):int(row['end']) + len(ENT)], axis=1)\n",
    "\n",
    "# entity might not be in headline! then cant increase length by entity\n",
    "# or could be n times\n",
    "#df.iloc[2].newsheadline\n",
    "\n",
    "# When marking entities - cut headline away, take len, process it, take len and put back. \n",
    "# Update end of headline parameter?"
   ]
  },
  {
   "cell_type": "code",
   "execution_count": 26,
   "metadata": {},
   "outputs": [],
   "source": [
    "#df.iloc[100].content"
   ]
  },
  {
   "cell_type": "code",
   "execution_count": 27,
   "metadata": {},
   "outputs": [],
   "source": [
    "#df.iloc[100].content_ent"
   ]
  },
  {
   "cell_type": "code",
   "execution_count": 37,
   "metadata": {},
   "outputs": [],
   "source": [
    "# extract body of news article, \"end\" is end of headline within the text\n",
    "#df['newsbody'] = df.apply(lambda row: row['content'][int(row['end'])+1:], axis=1) # +1 index is to skip \\n\n",
    "\n",
    "# label/label of entity \n",
    "df['label'] = df.apply(lambda row: row['entities']['polarity'], axis=1)\n",
    "\n",
    "# change labels to integers\n",
    "df.loc[df.label == 1, 'label'] = 4\n",
    "df.loc[df.label == 0.7, 'label'] = 3\n",
    "df.loc[df.label == 0.5, 'label'] = 2\n",
    "df.loc[df.label == 0.3, 'label'] = 1\n",
    "df.loc[df.label == 0, 'label'] = 0\n",
    "df.loc[df.label == \"contradiction\", 'label'] = 5"
   ]
  },
  {
   "cell_type": "code",
   "execution_count": 38,
   "metadata": {},
   "outputs": [],
   "source": [
    "# add BINARY LABELS: negative vs (positive + neutral)  \n",
    "# very neg and neg (0 and 1) -> 0\n",
    "# 2,3 and 4 -> 1\n",
    "df['label_binary'] = df.apply(lambda row: int(not(row['label']<=1)), axis=1)"
   ]
  },
  {
   "cell_type": "code",
   "execution_count": 39,
   "metadata": {},
   "outputs": [],
   "source": [
    "# if label 'int' hist dont work: ValueError: num must be 1 <= num <= 0, not 1\n",
    "# if numpy.int64, it works"
   ]
  },
  {
   "cell_type": "code",
   "execution_count": 40,
   "metadata": {},
   "outputs": [
    {
     "data": {
      "text/plain": [
       "numpy.int64"
      ]
     },
     "execution_count": 40,
     "metadata": {},
     "output_type": "execute_result"
    }
   ],
   "source": [
    "type(df.iloc[0].label)"
   ]
  },
  {
   "cell_type": "code",
   "execution_count": 41,
   "metadata": {},
   "outputs": [
    {
     "data": {
      "text/plain": [
       "3877"
      ]
     },
     "execution_count": 41,
     "metadata": {},
     "output_type": "execute_result"
    }
   ],
   "source": [
    "sum(df['label']==4)"
   ]
  },
  {
   "cell_type": "code",
   "execution_count": 42,
   "metadata": {},
   "outputs": [
    {
     "data": {
      "text/html": [
       "<div>\n",
       "<style scoped>\n",
       "    .dataframe tbody tr th:only-of-type {\n",
       "        vertical-align: middle;\n",
       "    }\n",
       "\n",
       "    .dataframe tbody tr th {\n",
       "        vertical-align: top;\n",
       "    }\n",
       "\n",
       "    .dataframe thead th {\n",
       "        text-align: right;\n",
       "    }\n",
       "</style>\n",
       "<table border=\"1\" class=\"dataframe\">\n",
       "  <thead>\n",
       "    <tr style=\"text-align: right;\">\n",
       "      <th></th>\n",
       "      <th>content</th>\n",
       "      <th>docnoId</th>\n",
       "      <th>end</th>\n",
       "      <th>entities</th>\n",
       "      <th>headline</th>\n",
       "      <th>start</th>\n",
       "      <th>url</th>\n",
       "      <th>content_ent</th>\n",
       "      <th>text_ent</th>\n",
       "      <th>text</th>\n",
       "      <th>label</th>\n",
       "      <th>label_binary</th>\n",
       "    </tr>\n",
       "  </thead>\n",
       "  <tbody>\n",
       "    <tr>\n",
       "      <th>0</th>\n",
       "      <td>20170201\\n0A21D5765ED3B8F51065D3CF7339371E\\nTe...</td>\n",
       "      <td>0A21D5765ED3B8F51065D3CF7339371E</td>\n",
       "      <td>91</td>\n",
       "      <td>{'entityId': 14123, 'name': 'Facebook', 'offse...</td>\n",
       "      <td>{'end': '91', 'start': '42'}</td>\n",
       "      <td>42</td>\n",
       "      <td>http://www.autoguide.com/auto-news/2017/02/tes...</td>\n",
       "      <td>Tesla is Now Officially More Than Just About C...</td>\n",
       "      <td>Tesla is Now Officially More Than Just About C...</td>\n",
       "      <td>Tesla is Now Officially More Than Just About C...</td>\n",
       "      <td>2</td>\n",
       "      <td>1</td>\n",
       "    </tr>\n",
       "    <tr>\n",
       "      <th>1</th>\n",
       "      <td>20170201\\n4BBD29849EF2018A3D34932EC4AD92AB\\nHe...</td>\n",
       "      <td>4BBD29849EF2018A3D34932EC4AD92AB</td>\n",
       "      <td>97</td>\n",
       "      <td>{'entityId': 10912, 'name': 'Aetna', 'offsets'...</td>\n",
       "      <td>{'end': '97', 'start': '42'}</td>\n",
       "      <td>42</td>\n",
       "      <td>http://uk.reuters.com/article/idUKL4N1FL20C?rp...</td>\n",
       "      <td>Health insurer ENTITY Aetna's quarterly profit...</td>\n",
       "      <td>Health insurer ENTITY Aetna's quarterly profit...</td>\n",
       "      <td>Health insurer Aetna's quarterly profit beats ...</td>\n",
       "      <td>4</td>\n",
       "      <td>1</td>\n",
       "    </tr>\n",
       "    <tr>\n",
       "      <th>2</th>\n",
       "      <td>20170201\\n80EA59EAB021503F49D4277EA2083662\\nTh...</td>\n",
       "      <td>80EA59EAB021503F49D4277EA2083662</td>\n",
       "      <td>94</td>\n",
       "      <td>{'entityId': 4054, 'name': 'Warwick Hotels &amp; R...</td>\n",
       "      <td>{'end': '94', 'start': '42'}</td>\n",
       "      <td>42</td>\n",
       "      <td>http://feedproxy.google.com/~r/bighospitality/...</td>\n",
       "      <td>The Capital Hotel sold to American hospitality...</td>\n",
       "      <td>The Capital Hotel sold to American hospitality...</td>\n",
       "      <td>The Capital Hotel sold to American hospitality...</td>\n",
       "      <td>4</td>\n",
       "      <td>1</td>\n",
       "    </tr>\n",
       "  </tbody>\n",
       "</table>\n",
       "</div>"
      ],
      "text/plain": [
       "                                             content  \\\n",
       "0  20170201\\n0A21D5765ED3B8F51065D3CF7339371E\\nTe...   \n",
       "1  20170201\\n4BBD29849EF2018A3D34932EC4AD92AB\\nHe...   \n",
       "2  20170201\\n80EA59EAB021503F49D4277EA2083662\\nTh...   \n",
       "\n",
       "                            docnoId end  \\\n",
       "0  0A21D5765ED3B8F51065D3CF7339371E  91   \n",
       "1  4BBD29849EF2018A3D34932EC4AD92AB  97   \n",
       "2  80EA59EAB021503F49D4277EA2083662  94   \n",
       "\n",
       "                                            entities  \\\n",
       "0  {'entityId': 14123, 'name': 'Facebook', 'offse...   \n",
       "1  {'entityId': 10912, 'name': 'Aetna', 'offsets'...   \n",
       "2  {'entityId': 4054, 'name': 'Warwick Hotels & R...   \n",
       "\n",
       "                       headline start  \\\n",
       "0  {'end': '91', 'start': '42'}    42   \n",
       "1  {'end': '97', 'start': '42'}    42   \n",
       "2  {'end': '94', 'start': '42'}    42   \n",
       "\n",
       "                                                 url  \\\n",
       "0  http://www.autoguide.com/auto-news/2017/02/tes...   \n",
       "1  http://uk.reuters.com/article/idUKL4N1FL20C?rp...   \n",
       "2  http://feedproxy.google.com/~r/bighospitality/...   \n",
       "\n",
       "                                         content_ent  \\\n",
       "0  Tesla is Now Officially More Than Just About C...   \n",
       "1  Health insurer ENTITY Aetna's quarterly profit...   \n",
       "2  The Capital Hotel sold to American hospitality...   \n",
       "\n",
       "                                            text_ent  \\\n",
       "0  Tesla is Now Officially More Than Just About C...   \n",
       "1  Health insurer ENTITY Aetna's quarterly profit...   \n",
       "2  The Capital Hotel sold to American hospitality...   \n",
       "\n",
       "                                                text  label  label_binary  \n",
       "0  Tesla is Now Officially More Than Just About C...      2             1  \n",
       "1  Health insurer Aetna's quarterly profit beats ...      4             1  \n",
       "2  The Capital Hotel sold to American hospitality...      4             1  "
      ]
     },
     "execution_count": 42,
     "metadata": {},
     "output_type": "execute_result"
    }
   ],
   "source": [
    "df.head(3)"
   ]
  },
  {
   "cell_type": "markdown",
   "metadata": {},
   "source": [
    "### Plot distribution of classes"
   ]
  },
  {
   "cell_type": "code",
   "execution_count": 43,
   "metadata": {},
   "outputs": [
    {
     "data": {
      "text/plain": [
       "array([[<matplotlib.axes._subplots.AxesSubplot object at 0x7f71a7d18860>]], dtype=object)"
      ]
     },
     "execution_count": 43,
     "metadata": {},
     "output_type": "execute_result"
    },
    {
     "data": {
      "image/png": "[encoded data removed]",
      "text/plain": [
       "<Figure size 432x288 with 1 Axes>"
      ]
     },
     "metadata": {},
     "output_type": "display_data"
    }
   ],
   "source": [
    "# if Value error, repeat label assigment above to turn field from int to to numpy.int64\n",
    "df.hist(column='label')"
   ]
  },
  {
   "cell_type": "markdown",
   "metadata": {},
   "source": [
    "### Plot as binary classes"
   ]
  },
  {
   "cell_type": "code",
   "execution_count": 44,
   "metadata": {},
   "outputs": [
    {
     "data": {
      "text/plain": [
       "array([[<matplotlib.axes._subplots.AxesSubplot object at 0x7f71a83c6fd0>]], dtype=object)"
      ]
     },
     "execution_count": 44,
     "metadata": {},
     "output_type": "execute_result"
    },
    {
     "data": {
      "image/png": "[encoded data removed]",
      "text/plain": [
       "<Figure size 432x288 with 1 Axes>"
      ]
     },
     "metadata": {},
     "output_type": "display_data"
    }
   ],
   "source": [
    "df.hist(column='label_binary')"
   ]
  },
  {
   "cell_type": "code",
   "execution_count": 46,
   "metadata": {},
   "outputs": [
    {
     "data": {
      "text/plain": [
       "{'entityId': 10912,\n",
       " 'name': 'Aetna',\n",
       " 'offsets': [{'end': 62, 'start': 57},\n",
       "  {'end': 130, 'start': 113},\n",
       "  {'end': 122, 'start': 113},\n",
       "  {'end': 747, 'start': 742},\n",
       "  {'end': 924, 'start': 919},\n",
       "  {'end': 1485, 'start': 1480},\n",
       "  {'end': 1785, 'start': 1780},\n",
       "  {'end': 1988, 'start': 1983},\n",
       "  {'end': 2453, 'start': 2448},\n",
       "  {'end': 2648, 'start': 2643},\n",
       "  {'end': 2884, 'start': 2879},\n",
       "  {'end': 2999, 'start': 2994},\n",
       "  {'end': 3460, 'start': 3455}],\n",
       " 'polarity': 1.0}"
      ]
     },
     "execution_count": 46,
     "metadata": {},
     "output_type": "execute_result"
    }
   ],
   "source": [
    "# OBS\n",
    "# 2 entities can overlap\n",
    "# df.content_ent[1]\n",
    "# Aetna inc : Aetna and Aetna Inc\n",
    "\n",
    "# replacing different froms with same, becomes: insurer ENTITY Aetnatna : aetnatna\n",
    "# starting same location:\n",
    "#'Aetna Inc (AET.N)'\n",
    "#'Aetna Inc'\n",
    "df.iloc[1].entities"
   ]
  },
  {
   "cell_type": "code",
   "execution_count": 47,
   "metadata": {},
   "outputs": [
    {
     "data": {
      "text/plain": [
       "'Aetna Inc (AET.N)'"
      ]
     },
     "execution_count": 47,
     "metadata": {},
     "output_type": "execute_result"
    }
   ],
   "source": [
    "df.content[1][113:130]"
   ]
  },
  {
   "cell_type": "code",
   "execution_count": 48,
   "metadata": {},
   "outputs": [
    {
     "data": {
      "text/plain": [
       "'Aetna Inc'"
      ]
     },
     "execution_count": 48,
     "metadata": {},
     "output_type": "execute_result"
    }
   ],
   "source": [
    "df.content[1][113:122]"
   ]
  },
  {
   "cell_type": "code",
   "execution_count": 49,
   "metadata": {},
   "outputs": [
    {
     "data": {
      "text/plain": [
       "'20170201\\n4BBD29849EF2018A3D34932EC4AD92AB\\nHealth insurer Aetna\\'s quarterly profit beats estimates\\nHealth insurer Aetna Inc (AET.N) said on Tuesday it lost more money than expected on the Obamacare individual insurance plans, one of the main pillars of the Affordable Care Act that President Donald Trump is working to \"repeal and replace.\"\\nAetna Chief Executive Officer Mark Bertolini also predicted years of transition in that individual insurance business but said it presents opportunities as new products are developed that appeal to younger and healthier people.\\nBertolini said the company is weighing how to proceed after a federal court ruled last week against its $34 billion deal for Humana Inc (HUM.N) on antitrust grounds. He said Aetna, the No. 3 U.S. health insurer, may decide to appeal or there could be a deal extension, which it will announce before the current Humana agreement\\'s end date of Feb. 15.\\nAetna, along with UnitedHealth Group Inc (UNH.N), has largely exited the individual business for 2017, but has remained on exchanges in four states. It has 240,000 customers in individual plans and said it expects to post a loss again this year on the business.\\nBertolini said in an interview that the Hartford, Connecticut, company will not enter any new markets with exchange Obamacare plans in 2018, and will decide in the next few months if it will re-enter Delaware, Iowa, Nebraska and Virginia, where it now sells these plans.\\nLike many insurers, he said Aetna feels structural changes are needed to account for the higher medical costs of participants in the Obamacare exchange market for individuals. He said the company is talking to lawmakers and regulators about how to make these changes as Trump and Republicans consider new legislation and rules.\\nAetna said it lost $450 million on the Obamacare business in 2016, including $100 million more than expected during the fourth quarter. The company expects lower losses in 2017.\\nHUMANA STILL IN QUESTION\\nAetna said it was still deciding how to proceed on Humana, but analysts said they thought it was unlikely a deal would go forward.\\n\"Investors would want to know if they are extending the agreement or not. Or if they are appealing or not,\" Leerink Partners analyst Ana Gupte said. \"In some ways I think investors don\\'t want any appeal. They want an accelerated share repurchase and then to just move on.\"\\nThe U.S. Justice Department filed a lawsuit in July to block Aetna\\'s purchase of Humana and Anthem Inc\\'s (ANTM.N) $54 billion deal to buy Cigna Corp (CI.N), saying they would raise prices. There has been no ruling on Anthem\\'s deal yet.\\nEarlier on Tuesday, Aetna said fourth-quarter net profit fell to $139 million, or 39 cents per share, from $321 million, or 91 cents per share, a year earlier. That included a $215 million expense for a voluntary early retirement program.\\nExcluding items, Aetna earned $1.63 per share, above the analysts\\' average estimate of $1.44, according to Thomson Reuters I/B/E/S.\\nAetna\\'s medical benefit ratio, the percent of premiums spent on claims, rose to 82.1 percent from 81.9 percent. The lower that ratio, the more the insurer profits. The ACA mandates the level be no lower than 80 percent.\\nTotal revenue rose about 5 percent to $15.73 billion, but missed the analysts\\' average estimate of $15.86 billion.\\nThe company said it expected 2017 operating earnings of at least $8.55 per share. Analysts\\' on average were estimating $8.79.\\nAetna shares were up 0.5 percent at $117.25 on Tuesday afternoon.\\n(Reporting by Caroline Humer in New York and Ankur Banerjee in Bengaluru; Editing by Lisa Von Ahn and Matthew Lewis)'"
      ]
     },
     "execution_count": 49,
     "metadata": {},
     "output_type": "execute_result"
    }
   ],
   "source": [
    "df.content[1]"
   ]
  },
  {
   "cell_type": "code",
   "execution_count": 50,
   "metadata": {},
   "outputs": [],
   "source": [
    "def exportCSV(this_df, path, trainsize, devsize, testsize=0, desc=''):\n",
    "    ''' Save train, dev and test data as CSV, with given size'''\n",
    "\n",
    "    dev_start = trainsize\n",
    "    #devsize  = 3000\n",
    "\n",
    "    trainfile = 'train'+str(trainsize)+desc+'.csv'\n",
    "    devfile = 'test_of'+str(trainsize)+desc+'.csv'\n",
    "    testfile= 'final_test'+str(trainsize)+desc+'.csv'\n",
    "        \n",
    "\n",
    "    # turn into lists\n",
    "    texts = this_df['text'].tolist()\n",
    "    labels = this_df['label'].tolist(); assert len(texts)==len(labels)  \n",
    "    \n",
    "    train_texts =   texts[0:trainsize]\n",
    "    train_labels = labels[0:trainsize]\n",
    "\n",
    "    dev_texts =   texts[dev_start: dev_start+devsize]\n",
    "    dev_labels = labels[dev_start: dev_start+devsize]\n",
    "\n",
    "    if testsize >0:\n",
    "        test_texts =   texts[trainsize+devsize :]\n",
    "        test_labels = labels[trainsize+devsize :]\n",
    "    \n",
    "    \n",
    "    # to DataFrame\n",
    "    col_names = ['labels','text']\n",
    "    df_train = pd.DataFrame({'text':train_texts, 'labels':train_labels}, columns=col_names)\n",
    "    df_validate = pd.DataFrame({'text':dev_texts, 'labels':dev_labels}, columns=col_names)\n",
    "    if testsize >0:\n",
    "        df_test = pd.DataFrame({'text':test_texts, 'labels':test_labels}, columns=col_names)    \n",
    "\n",
    "    # to Disk\n",
    "    df_train.to_csv(path/trainfile, header=False, index=False)\n",
    "    df_validate.to_csv(path/devfile, header=False, index=False)\n",
    "    if testsize >0:\n",
    "        df_test.to_csv(path/testfile, header=False, index=False)\n",
    "    \n",
    "    assert(len(train_texts)== trainsize)\n",
    "    assert(len(dev_texts)== devsize)    "
   ]
  },
  {
   "cell_type": "code",
   "execution_count": 51,
   "metadata": {},
   "outputs": [],
   "source": [
    "def randomize(df, seed):\n",
    "    np.random.seed(seed)\n",
    "    texts_idx = np.random.permutation(len(df))\n",
    "    df = df.iloc[texts_idx]    \n",
    "    return df"
   ]
  },
  {
   "cell_type": "markdown",
   "metadata": {},
   "source": [
    "### Save Language Model data under {PATH} {LM_PATH}"
   ]
  },
  {
   "cell_type": "code",
   "execution_count": 52,
   "metadata": {},
   "outputs": [
    {
     "data": {
      "text/plain": [
       "16840"
      ]
     },
     "execution_count": 52,
     "metadata": {},
     "output_type": "execute_result"
    }
   ],
   "source": [
    "lm_df = df.copy()\n",
    "lm_df = randomize(lm_df, seed=1)\n",
    "lm_df.drop_duplicates(['docnoId'], keep='first', inplace=True)\n",
    "lm_df.label=0 # no labels for LM\n",
    "len(lm_df)"
   ]
  },
  {
   "cell_type": "markdown",
   "metadata": {},
   "source": [
    "#### Truncate - optional"
   ]
  },
  {
   "cell_type": "code",
   "execution_count": 53,
   "metadata": {},
   "outputs": [
    {
     "data": {
      "text/plain": [
       "<matplotlib.axes._subplots.AxesSubplot at 0x7f71a7cc5f28>"
      ]
     },
     "execution_count": 53,
     "metadata": {},
     "output_type": "execute_result"
    },
    {
     "data": {
      "image/png": "[encoded data removed]",
      "text/plain": [
       "<Figure size 432x288 with 1 Axes>"
      ]
     },
     "metadata": {},
     "output_type": "display_data"
    }
   ],
   "source": [
    "lm_df['text'].map(len).hist()"
   ]
  },
  {
   "cell_type": "code",
   "execution_count": 54,
   "metadata": {},
   "outputs": [
    {
     "data": {
      "text/plain": [
       "13780"
      ]
     },
     "execution_count": 54,
     "metadata": {},
     "output_type": "execute_result"
    }
   ],
   "source": [
    "longest = lm_df['text'].map(len).max()\n",
    "longest"
   ]
  },
  {
   "cell_type": "code",
   "execution_count": 55,
   "metadata": {},
   "outputs": [],
   "source": [
    "# Longest is 13.8k characters. From plot we see that truncating to 8k characters only cuts away minimally."
   ]
  },
  {
   "cell_type": "code",
   "execution_count": 56,
   "metadata": {},
   "outputs": [
    {
     "data": {
      "text/plain": [
       "8000"
      ]
     },
     "execution_count": 56,
     "metadata": {},
     "output_type": "execute_result"
    }
   ],
   "source": [
    "maxlen = 8000\n",
    "lm_df['text'] = lm_df.apply(lambda row: row['text'][0:maxlen], axis=1 )\n",
    "lm_df['text'].map(len).max()"
   ]
  },
  {
   "cell_type": "markdown",
   "metadata": {},
   "source": [
    "#### Save training data for LM, max len, from which 2000 to dev."
   ]
  },
  {
   "cell_type": "code",
   "execution_count": 57,
   "metadata": {},
   "outputs": [],
   "source": [
    "#Save training data for LM, max len, from which 2000 to dev.\n",
    "# no entity marking\n",
    "trnsz = len(lm_df)\n",
    "exportCSV(lm_df, path=LM_PATH, trainsize=trnsz-2000, devsize=2000)  "
   ]
  },
  {
   "cell_type": "markdown",
   "metadata": {},
   "source": [
    "### Save Classifier data under {PATH} {CLAS_PATH}"
   ]
  },
  {
   "cell_type": "code",
   "execution_count": 58,
   "metadata": {},
   "outputs": [],
   "source": [
    "# OPTIONAL - add target entity name in start of each article\n",
    "# df.newsheadline = df.apply(lambda row: row.entities['name']+' '+row['newsheadline'], axis=1)"
   ]
  },
  {
   "cell_type": "code",
   "execution_count": 59,
   "metadata": {},
   "outputs": [
    {
     "data": {
      "text/plain": [
       "19864"
      ]
     },
     "execution_count": 59,
     "metadata": {},
     "output_type": "execute_result"
    }
   ],
   "source": [
    "cl_df = df.copy()\n",
    "len(cl_df)"
   ]
  },
  {
   "cell_type": "code",
   "execution_count": 60,
   "metadata": {},
   "outputs": [
    {
     "data": {
      "text/plain": [
       "(19718, 146)"
      ]
     },
     "execution_count": 60,
     "metadata": {},
     "output_type": "execute_result"
    }
   ],
   "source": [
    "# Remove label \"contradictory\"\n",
    "contra = cl_df[cl_df['label']==5]\n",
    "cl_df = cl_df[cl_df['label']!=5]\n",
    "\n",
    "len(cl_df), len(contra)\n",
    "# 16697  143\n",
    "\n",
    "# 143 or 146???\n",
    "# (19718, 146) does 146 have duplicates in it"
   ]
  },
  {
   "cell_type": "code",
   "execution_count": 61,
   "metadata": {},
   "outputs": [
    {
     "data": {
      "text/plain": [
       "'Tesla is Now Officially More Than Just About Cars\\nTesla has dropped the word “Motors” from its name.\\nThe company has been working on home energy products for quite some time now, but it’s the acquisition of SolarCity Corp. that solidified the name change. Now known as just Tesla, Inc., the company is moving beyond its original goal of manufacturing electric vehicles and focusing on its role as an energy company.\\nThe name change has been hinted over the last few months, with Tesla also dropping Motors from its ENTITY Facebook page as well as its official website’s URL.\\nSEE ALSO: Tesla Model S Falls Short of IIHS Top Safety Pick Rating\\nTesla acquired SolarCity late last year, a solar power company also founded by Elon Musk’s cousins. Musk acted as chairman of the board for SolarCity. In terms of Tesla’s energy storage products, the company unveiled its second-generation Powerwall battery storage device for home use last year, in addition to its Powerpack 2.0 commercial energy storage solution. It plans to create solar roof panels that look like ordinary roof tiles and hopes to begin shipping those to customers later this year.\\n[Source: Automotive News]\\nDiscuss this story on our Tesla Forum'"
      ]
     },
     "execution_count": 61,
     "metadata": {},
     "output_type": "execute_result"
    }
   ],
   "source": [
    "cl_df.text_ent[0]"
   ]
  },
  {
   "cell_type": "markdown",
   "metadata": {},
   "source": [
    "### exportCSV always takes field text - not text_ent!"
   ]
  },
  {
   "cell_type": "code",
   "execution_count": 62,
   "metadata": {},
   "outputs": [
    {
     "name": "stdout",
     "output_type": "stream",
     "text": [
      "19718\n"
     ]
    }
   ],
   "source": [
    "cl_df = randomize(cl_df, seed=1)\n",
    "#cl_df = procData(cl_df, entity=True, truncate=4000, classifier=True)\n",
    "\n",
    "max_len= len(cl_df) #19864\n",
    "print(max_len)\n",
    "dev_sz=2000\n",
    "test_sz=2000\n",
    "\n",
    "cl_df.text = cl_df.text_ent\n",
    "\n",
    "exportCSV(cl_df,path=CLAS_PATH, trainsize=max_len-dev_sz-test_sz, devsize=2000, testsize=2000, desc=\"entity\")"
   ]
  },
  {
   "cell_type": "code",
   "execution_count": 63,
   "metadata": {},
   "outputs": [],
   "source": [
    "#(CLAS_PATH/'classes.txt').open('w').writelines(f'{o}\\n' for o in CLASSES)"
   ]
  },
  {
   "cell_type": "code",
   "execution_count": 64,
   "metadata": {},
   "outputs": [],
   "source": [
    "#cl_df2 = procData(df, entity=False, truncate=4000, classifier=True)\n",
    "#cl_df2 = randomize(cl_df2, seed=1)\n",
    "#trainsizes = [16000]\n",
    "#for size in trainsizes:\n",
    "#    exportCSV(cl_df, path=CLAS_PATH, trainsize=size, devsize=2000, desc=\"noentity\")"
   ]
  },
  {
   "cell_type": "code",
   "execution_count": null,
   "metadata": {},
   "outputs": [],
   "source": []
  }
 ],
 "metadata": {
  "kernelspec": {
   "display_name": "Python 3",
   "language": "python",
   "name": "python3"
  },
  "language_info": {
   "codemirror_mode": {
    "name": "ipython",
    "version": 3
   },
   "file_extension": ".py",
   "mimetype": "text/x-python",
   "name": "python",
   "nbconvert_exporter": "python",
   "pygments_lexer": "ipython3",
   "version": "3.6.6"
  }
 },
 "nbformat": 4,
 "nbformat_minor": 2
}
