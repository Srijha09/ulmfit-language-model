{
 "cells": [
  {
   "cell_type": "code",
   "execution_count": null,
   "metadata": {},
   "outputs": [],
   "source": [
    "# http://forums.fast.ai/t/load-ulmfit-model/17209"
   ]
  },
  {
   "cell_type": "code",
   "execution_count": null,
   "metadata": {},
   "outputs": [],
   "source": [
    "import pandas as pd\n",
    "import numpy as np\n",
    "import sys\n",
    "import html\n",
    "\n",
    "# Fast-ai path\n",
    "import sys\n",
    "sys.path.append(\"../fastaiDL/fastai/courses/dl2\")\n",
    "from fastai.text import *"
   ]
  },
  {
   "cell_type": "code",
   "execution_count": 9,
   "metadata": {},
   "outputs": [],
   "source": [
    "import warnings\n",
    "warnings.filterwarnings('ignore')"
   ]
  },
  {
   "cell_type": "code",
   "execution_count": 2,
   "metadata": {},
   "outputs": [],
   "source": [
    "from sklearn.metrics import confusion_matrix"
   ]
  },
  {
   "cell_type": "code",
   "execution_count": 3,
   "metadata": {},
   "outputs": [],
   "source": [
    "# our own file with functions\n",
    "from data_helpers import *"
   ]
  },
  {
   "cell_type": "code",
   "execution_count": 4,
   "metadata": {},
   "outputs": [],
   "source": [
    "# For Tokenizing\n",
    "def fixup(x):\n",
    "    x = x.replace('#39;', \"'\").replace('amp;', '&').replace('#146;', \"'\").replace(\n",
    "        'nbsp;', ' ').replace('#36;', '$').replace('\\\\n', \"\\n\").replace('quot;', \"'\").replace(\n",
    "        '<br />', \"\\n\").replace('\\\\\"', '\"').replace('<unk>','u_n').replace(' @.@ ','.').replace(\n",
    "        ' @-@ ','-').replace('\\\\', ' \\\\ ')\n",
    "    return re1.sub(' ', html.unescape(x))\n",
    "\n",
    "def get_texts(df, n_lbls=1):\n",
    "    labels = df.iloc[:,range(n_lbls)].values.astype(np.int64)\n",
    "    texts = f'\\n{BOS} {FLD} 1 ' + df[n_lbls].astype(str)\n",
    "    for i in range(n_lbls+1, len(df.columns)): texts += f' {FLD} {i-n_lbls} ' + df[i].astype(str)\n",
    "    texts = list(texts.apply(fixup).values)\n",
    "\n",
    "    tok = Tokenizer().proc_all_mp(partition_by_cores(texts))\n",
    "    return tok, list(labels)\n",
    "\n",
    "def get_all(df, n_lbls):\n",
    "    tok, labels = [], []\n",
    "    for i, r in enumerate(df):\n",
    "        print(i)\n",
    "        tok_, labels_ = get_texts(r, n_lbls)\n",
    "        tok += tok_;\n",
    "        labels += labels_\n",
    "    return tok, labels"
   ]
  },
  {
   "cell_type": "code",
   "execution_count": 5,
   "metadata": {},
   "outputs": [],
   "source": [
    "def plot_confusion_matrix(cm, classes, normalize=False, title='Confusion matrix', cmap=plt.cm.Blues):\n",
    "    \"\"\"\n",
    "    This function prints and plots the confusion matrix.\n",
    "    Normalization can be applied by setting `normalize=True`.\n",
    "    (This function is copied from the scikit docs.)\n",
    "    \"\"\"\n",
    "    plt.figure()\n",
    "    plt.imshow(cm, interpolation='nearest', cmap=cmap)\n",
    "    plt.title(title)\n",
    "    plt.colorbar()\n",
    "    tick_marks = np.arange(len(classes))\n",
    "    plt.xticks(tick_marks, classes, rotation=45)\n",
    "    plt.yticks(tick_marks, classes)\n",
    "\n",
    "    if normalize:\n",
    "        cm = cm.astype('float') / cm.sum(axis=1)[:, np.newaxis]\n",
    "    print(cm)\n",
    "    thresh = cm.max() / 2.\n",
    "    for i, j in itertools.product(range(cm.shape[0]), range(cm.shape[1])):\n",
    "        plt.text(j, i, cm[i, j], horizontalalignment=\"center\", color=\"white\" if cm[i, j] > thresh else \"black\")\n",
    "\n",
    "    plt.tight_layout()\n",
    "    plt.ylabel('True label')\n",
    "    plt.xlabel('Predicted label')"
   ]
  },
  {
   "cell_type": "code",
   "execution_count": 6,
   "metadata": {},
   "outputs": [],
   "source": [
    "PATH=Path('.')\n",
    "CLAS_PATH=Path('work/clas/')\n",
    "LM_PATH = Path('work/lm/')"
   ]
  },
  {
   "cell_type": "code",
   "execution_count": 10,
   "metadata": {},
   "outputs": [
    {
     "name": "stdout",
     "output_type": "stream",
     "text": [
      "0\n"
     ]
    }
   ],
   "source": [
    "#targetfile = 'final_test.csv'\n",
    "#targetfile = 'test2000.csv'\n",
    "\n",
    "targetfile = 'final_test15718entity.csv'\n",
    "\n",
    "itos_path =  Path('work/saved/lm_fulldata_noent/itos.pkl')\n",
    "\n",
    "model_file = 'clas_2_Classifier_fullLM_full'\n",
    "model_fileh5= Path('work/saved/lm_fulldata_noent/clas_2_Classifier_fullLM_full.h5')\n",
    "\n",
    "\n",
    "# Tokenize\n",
    "chunksize=24000\n",
    "BOS = 'xbos'  # beginning-of-sentence tag\n",
    "FLD = 'xfld'  # data field tag\n",
    "df_test = pd.read_csv(CLAS_PATH/targetfile, header=None, chunksize=chunksize)\n",
    "\n",
    "tokens_test, test_labels = get_all(df_test, 1)\n",
    "\n",
    "(CLAS_PATH/'tmp').mkdir(exist_ok=True)\n",
    "np.save(CLAS_PATH/'tmp'/'tok_test.npy', tokens_test)\n",
    "np.save(CLAS_PATH/'tmp'/'test_labels.npy', test_labels)"
   ]
  },
  {
   "cell_type": "code",
   "execution_count": 11,
   "metadata": {},
   "outputs": [
    {
     "data": {
      "text/plain": [
       "'final_test15718entity.csv'"
      ]
     },
     "execution_count": 11,
     "metadata": {},
     "output_type": "execute_result"
    }
   ],
   "source": [
    "targetfile"
   ]
  },
  {
   "cell_type": "code",
   "execution_count": 13,
   "metadata": {},
   "outputs": [
    {
     "data": {
      "text/html": [
       "<div>\n",
       "<style scoped>\n",
       "    .dataframe tbody tr th:only-of-type {\n",
       "        vertical-align: middle;\n",
       "    }\n",
       "\n",
       "    .dataframe tbody tr th {\n",
       "        vertical-align: top;\n",
       "    }\n",
       "\n",
       "    .dataframe thead th {\n",
       "        text-align: right;\n",
       "    }\n",
       "</style>\n",
       "<table border=\"1\" class=\"dataframe\">\n",
       "  <thead>\n",
       "    <tr style=\"text-align: right;\">\n",
       "      <th></th>\n",
       "      <th>0</th>\n",
       "      <th>1</th>\n",
       "    </tr>\n",
       "  </thead>\n",
       "  <tbody>\n",
       "    <tr>\n",
       "      <th>0</th>\n",
       "      <td>4</td>\n",
       "      <td>ENTITY Samsung Electronics Q4 operating profit...</td>\n",
       "    </tr>\n",
       "    <tr>\n",
       "      <th>1</th>\n",
       "      <td>0</td>\n",
       "      <td>Deutsche Bank Records Said to Show Silver Rigg...</td>\n",
       "    </tr>\n",
       "    <tr>\n",
       "      <th>2</th>\n",
       "      <td>0</td>\n",
       "      <td>ENTITY Toshiba Warns Solvency In Jeopardy Afte...</td>\n",
       "    </tr>\n",
       "    <tr>\n",
       "      <th>3</th>\n",
       "      <td>0</td>\n",
       "      <td>ENTITY Apple acts on iPhone battery troubles\\n...</td>\n",
       "    </tr>\n",
       "    <tr>\n",
       "      <th>4</th>\n",
       "      <td>4</td>\n",
       "      <td>ENTITY Apple Music claims 20m paying subscribe...</td>\n",
       "    </tr>\n",
       "    <tr>\n",
       "      <th>5</th>\n",
       "      <td>0</td>\n",
       "      <td>Valeant sells $2B in assets to begin paying do...</td>\n",
       "    </tr>\n",
       "  </tbody>\n",
       "</table>\n",
       "</div>"
      ],
      "text/plain": [
       "   0                                                  1\n",
       "0  4  ENTITY Samsung Electronics Q4 operating profit...\n",
       "1  0  Deutsche Bank Records Said to Show Silver Rigg...\n",
       "2  0  ENTITY Toshiba Warns Solvency In Jeopardy Afte...\n",
       "3  0  ENTITY Apple acts on iPhone battery troubles\\n...\n",
       "4  4  ENTITY Apple Music claims 20m paying subscribe...\n",
       "5  0  Valeant sells $2B in assets to begin paying do..."
      ]
     },
     "execution_count": 13,
     "metadata": {},
     "output_type": "execute_result"
    }
   ],
   "source": [
    "# sanity check - text is readable and classes numbered\n",
    "df_test2 = pd.read_csv(CLAS_PATH/targetfile, header=None)\n",
    "df_test2.head(6)"
   ]
  },
  {
   "cell_type": "code",
   "execution_count": 14,
   "metadata": {},
   "outputs": [
    {
     "data": {
      "text/plain": [
       "'ENTITY Samsung Electronics Q4 operating profit jumps 50.2% despite Note 7 debacle\\nSeoul:\\nElectronics\\' profits leaped in the fourth quarter, it said on Tuesday, despite the humiliating\\nrecall that hammered the reputation of the world\\'s largest\\nmaker.\\nThe South Korean tech giant took another blow when prosecutors began investigating its involvement in a corruption scandal, which has seen the country\\'s president impeached, and sought the arrest of the firm\\'s de facto leader Lee Jae-Yong.\\nIn a statement, the group\\'s flagship subsidiary ENTITY Samsung Electronics said it posted operating profits of 9.22 trillion won (US$7.9 billion) during the October to December period, up 50.2% year-on-year. Net profits for the quarter were 7.09 trillion won, up 120%.\\nEarnings were “driven by the components businesses, mainly the memory business and the display panel segment\", it said, with the stronger US dollar also boosting profits.\\nAnalysts say memory chip prices have been driven up by stronger demand as Chinese smartphone makers release\\nwith high resolu tion cameras and bigger storage in a bid to catch up with ENTITY Samsung Electronics and Apple. As the market leader in multiple segments ENTITY Samsung Electronics\\'s own chip division “is the biggest benefactor\", said Tom Kang, research director at Counterpoint Technology.\\nENTITY Samsung Electronics said it expected “huge growth“ in the sector, and looking forward to 2017, Greg Roh, an analyst at HMC Investment Securities, told AFP: “We are expecting ENTITY Samsung Electronics to post record-high profits this year on the back of rising chip prices.\"\\nENTITY Samsung Electronics was forced to discontinue the Galaxy Note 7 in October after a chaotic recall that saw replacement devices also catching fire.'"
      ]
     },
     "execution_count": 14,
     "metadata": {},
     "output_type": "execute_result"
    }
   ],
   "source": [
    "df_test2.iloc[0][1]"
   ]
  },
  {
   "cell_type": "code",
   "execution_count": 15,
   "metadata": {},
   "outputs": [
    {
     "data": {
      "text/plain": [
       "'ENTITY Boeingeing Stock Is Losing Altitude — Abort!\\nENTITY Boeing appears to be on the verge of a technical breakdown, which would end a five-month uptrend for the Dow Jones Industrial Average stalwart as it continues to test support at its 20-day moving average.\\nThe stochastic indicator has already flashed a sell signal, falling out of an overbought condition after setting a lower high. Momentum is waning.\\nWatch for a break of the 50-day moving average after the company reports results on Jan. 25 before the market. Analysts are looking for earnings of $2.33 per share on revenues of $23.1 billion.\\nThe company was recently initiated with an “underperform” rating by analysts at RBC Capital Markets, citing a historical relationship between the company’s profit margins and the average age of its production platforms. According to analyst Matthew McConnell:\\n“We believe new commercial platforms create margin pressure due to higher unit production costs in initial accounting blocks, engineering and supply chain risks when ramping up new programs, and slowing production and pricing pressure on high margin legacy platforms in advance of new launches, among other factors.”\\nThe recent share price rise has disconnected from this relationship, which has driven nearly all the price increase ENTITY Boeing has enjoyed for some time now.\\nOther headwinds include a lowering of F-35 costs by Lockheed Martin Corporation (NYSE:LMT), lowering the chances President Trump looks to ENTITY Boeing to provide an F/A-18-based alternative, as well as the risk that a tightening of trade terms will jeopardize ENTITY Boeing’s overseas sales.\\nI have recommended the Feb $157.50 ENTITY Boeing puts to Edge Pro subscribers.\\nAnthony Mirhaydari is founder of the Edge and Edge Pro investment advisory newsletters. A two-week and four-week free trial offer has been extended to InvestorPlace readers.'"
      ]
     },
     "execution_count": 15,
     "metadata": {},
     "output_type": "execute_result"
    }
   ],
   "source": [
    "df_test2.iloc[213][1]"
   ]
  },
  {
   "cell_type": "code",
   "execution_count": 16,
   "metadata": {},
   "outputs": [
    {
     "data": {
      "text/plain": [
       "(2000, 2000)"
      ]
     },
     "execution_count": 16,
     "metadata": {},
     "output_type": "execute_result"
    }
   ],
   "source": [
    "# saving and loading these changes structure from list to np.ndarray\n",
    "tokens_test = np.load(CLAS_PATH/'tmp'/'tok_test.npy')\n",
    "len(tokens_test), len(test_labels)"
   ]
  },
  {
   "cell_type": "code",
   "execution_count": 17,
   "metadata": {},
   "outputs": [],
   "source": [
    "#tokens_test[0]"
   ]
  },
  {
   "cell_type": "code",
   "execution_count": 18,
   "metadata": {},
   "outputs": [],
   "source": [
    "# String-to-integer \n",
    "\n",
    "#itos = pickle.load((LM_PATH/'tmp'/'itos.pkl').open('rb'))\n",
    "#itos_path = Path('work/saved/lm_fulldata_entity/itosMax.pkl')\n",
    "itos = pickle.load((itos_path).open('rb'))\n",
    "\n",
    "stoi = collections.defaultdict(lambda:0, {v:k for k,v in enumerate(itos)})\n",
    "vocsize = len(itos)\n",
    "\n",
    "test_clas = np.array([[stoi[o] for o in p] for p in tokens_test])\n",
    "#??\n",
    "test_clas = np.expand_dims(test_clas, axis=1)\n",
    "\n",
    "np.save(CLAS_PATH/'tmp'/'test_ids.npy', test_clas)"
   ]
  },
  {
   "cell_type": "code",
   "execution_count": 19,
   "metadata": {},
   "outputs": [],
   "source": [
    "test_clas = np.load(CLAS_PATH/'tmp'/'test_ids.npy')\n",
    "test_clas = np.squeeze(test_clas) \n",
    "test_labels = np.squeeze(np.load(CLAS_PATH/'tmp'/'test_labels.npy'))\n",
    "n_class=int(test_labels.max())+1"
   ]
  },
  {
   "cell_type": "code",
   "execution_count": 20,
   "metadata": {},
   "outputs": [
    {
     "data": {
      "text/plain": [
       "2000"
      ]
     },
     "execution_count": 20,
     "metadata": {},
     "output_type": "execute_result"
    }
   ],
   "source": [
    "len(test_labels)"
   ]
  },
  {
   "cell_type": "code",
   "execution_count": 21,
   "metadata": {},
   "outputs": [],
   "source": [
    "bs = 14\n",
    "#build TextDataSet\n",
    "test_dataset = TextDataset(test_clas, test_labels)\n",
    "\n",
    "# build sortSampler\n",
    "test_sampler = SortSampler(test_clas, key=lambda x: len(test_clas[x]))\n",
    "\n",
    "# build DataLoader\n",
    "# shuffle mixes labels wrongly\n",
    "#test_loader = DataLoader(test_dataset, bs, transpose=True, num_workers=1, pad_idx=1, sampler=test_sampler)\n",
    "\n",
    "test_loader = DataLoader(test_dataset, bs, transpose=True, num_workers=1, pad_idx=1, \n",
    "                         sampler=None, shuffle=False)\n",
    "\n",
    "# build TextData\n",
    "# TextData or fastai.nlp were not used when training mdoel\n",
    "from fastai.nlp import TextData\n",
    "md = TextData(PATH, None, test_loader)"
   ]
  },
  {
   "cell_type": "code",
   "execution_count": 22,
   "metadata": {},
   "outputs": [],
   "source": [
    "# Build classifier - EXACTLY SAME PARAMETERS AS USED WHEN TRAINING!\n",
    "from functools import partial\n",
    "from fastai.learner import optim\n",
    "#opt_fn = partial(optim.Adam, betas=(0.8, 0.99))\n",
    "#bptt = 70     # back propogation through time\n",
    "#em_sz = 400   # size of embeddings\n",
    "#nhiddenu = 1150     # size of hidden\n",
    "#nlayers = 3        # number of layers\n",
    "\n",
    "bptt,em_sz,nhiddenu,nlayers = 70,400,1150,3\n",
    "vocsize = len(itos)\n",
    "optim_fn = partial(optim.Adam, betas=(0.8, 0.99))\n",
    "\n",
    "bs = 40\n",
    "\n",
    "dps = np.array([0.4, 0.5, 0.05, 0.3, 0.1])\n",
    "\n",
    "model = get_rnn_classifier(bptt, 20*70, n_class, vocsize, emb_sz=em_sz, n_hid=nhiddenu, n_layers=nlayers, pad_token=1,\n",
    "          layers=[em_sz*3, 50, n_class], drops=[dps[4], 0.1],\n",
    "          dropouti=dps[0], wdrop=dps[1], dropoute=dps[2], dropouth=dps[3])\n",
    "\n",
    "learner = RNN_Learner(\n",
    "    data=md,\n",
    "    models=TextModel(to_gpu(model)),    \n",
    "    opt_fn=optim_fn\n",
    ")"
   ]
  },
  {
   "cell_type": "code",
   "execution_count": null,
   "metadata": {},
   "outputs": [],
   "source": [
    "# load MODEL - saved weights\n",
    "\n",
    "#model_file = Path('work/saved/lm_fulldata_entity/clas_2_Classifier_ent_full_full')\n",
    "#model_fileh5= Path('work/saved/lm_fulldata_entity/clas_2_Classifier_ent_full_full.h5')\n",
    "\n",
    "import torch\n",
    "from os.path import join\n",
    "#loaded_weights = torch.load(join(PATH, \"models/\"+modelfile))\n",
    "#learner.load(modelfile2)\n",
    "\n",
    "loaded_weights = torch.load(model_fileh5)\n",
    "learner.load(model_file)\n",
    "\n",
    "# confirmed that the new parameters match those of the loaded model\n",
    "for k,v in loaded_weights.items():\n",
    "    #print(k, np.all(v == learner.model.state_dict()[k]))\n",
    "    assert( np.all(v == learner.model.state_dict()[k]))"
   ]
  },
  {
   "cell_type": "code",
   "execution_count": 35,
   "metadata": {},
   "outputs": [],
   "source": [
    "# try high for faster\n",
    "bs=14 \n",
    "bs = 130"
   ]
  },
  {
   "cell_type": "markdown",
   "metadata": {},
   "source": [
    "### Get predictions"
   ]
  },
  {
   "cell_type": "code",
   "execution_count": 36,
   "metadata": {},
   "outputs": [],
   "source": [
    "# predict_with_targs gives both predictions and true Labels\n",
    "# preds_dist is yhat as softmax, preds is real labels\n",
    "\n",
    "preds_dist, true_labels = learner.predict_with_targs()\n",
    "#preds_dist, preds = learner.predict_with_targs(is_test=True, use_swa=False) "
   ]
  },
  {
   "cell_type": "code",
   "execution_count": 37,
   "metadata": {},
   "outputs": [],
   "source": [
    "# highest class from softmax\n",
    "yhat = np.argmax(preds_dist, axis=1)"
   ]
  },
  {
   "cell_type": "code",
   "execution_count": 38,
   "metadata": {},
   "outputs": [
    {
     "data": {
      "text/plain": [
       "array([1, 0, 0, 1, 1, 1, 4, 1, 3, 3])"
      ]
     },
     "execution_count": 38,
     "metadata": {},
     "output_type": "execute_result"
    }
   ],
   "source": [
    "yhat[0:10]"
   ]
  },
  {
   "cell_type": "markdown",
   "metadata": {},
   "source": [
    "#### Total examples, nr correctly predicted, percentage correctly predicted"
   ]
  },
  {
   "cell_type": "code",
   "execution_count": 39,
   "metadata": {},
   "outputs": [
    {
     "name": "stdout",
     "output_type": "stream",
     "text": [
      "2000\n",
      "1686\n",
      "0.843\n"
     ]
    }
   ],
   "source": [
    "print(len(test_labels))\n",
    "print(sum(yhat==true_labels))\n",
    "print(sum(yhat==true_labels) / len(true_labels))"
   ]
  },
  {
   "cell_type": "markdown",
   "metadata": {},
   "source": [
    "### Confusion matrix of mis-predicted"
   ]
  },
  {
   "cell_type": "code",
   "execution_count": 42,
   "metadata": {},
   "outputs": [
    {
     "name": "stdout",
     "output_type": "stream",
     "text": [
      "[[500  85   0   5   2]\n",
      " [ 17 338   0   6   4]\n",
      " [  5  17  11   8   0]\n",
      " [  1  53   1 560  24]\n",
      " [  9  39   0  38 277]]\n"
     ]
    },
    {
     "data": {
      "image/png": "[encoded data removed]",
      "text/plain": [
       "<Figure size 432x288 with 2 Axes>"
      ]
     },
     "metadata": {},
     "output_type": "display_data"
    }
   ],
   "source": [
    "from sklearn.metrics import confusion_matrix\n",
    "cm = confusion_matrix(true_labels, yhat)\n",
    "CLASSES = ['veryneg', 'neg', 'neut', 'pos', 'very pos']\n",
    "plot_confusion_matrix(cm, CLASSES)"
   ]
  },
  {
   "cell_type": "markdown",
   "metadata": {},
   "source": [
    "### Error analysis"
   ]
  },
  {
   "cell_type": "code",
   "execution_count": 43,
   "metadata": {},
   "outputs": [],
   "source": [
    "def softmax(x):\n",
    "    \"\"\"Compute softmax values for each sets of scores in x.\"\"\"\n",
    "    e_x = np.exp(x - np.max(x))\n",
    "    return e_x / e_x.sum()"
   ]
  },
  {
   "cell_type": "code",
   "execution_count": 44,
   "metadata": {},
   "outputs": [
    {
     "data": {
      "text/plain": [
       "array([0.28343, 0.62961, 0.00828, 0.04405, 0.03463], dtype=float32)"
      ]
     },
     "execution_count": 44,
     "metadata": {},
     "output_type": "execute_result"
    }
   ],
   "source": [
    "softmax(preds_dist[0])"
   ]
  },
  {
   "cell_type": "code",
   "execution_count": 45,
   "metadata": {},
   "outputs": [],
   "source": [
    "df_preds = pd.DataFrame(preds_dist)\n",
    "probs = df_preds.apply(softmax, axis=1)"
   ]
  },
  {
   "cell_type": "code",
   "execution_count": null,
   "metadata": {},
   "outputs": [],
   "source": [
    "probs[0:5]"
   ]
  },
  {
   "cell_type": "markdown",
   "metadata": {},
   "source": [
    "#### Find items with biggest difference in True label and predicted"
   ]
  },
  {
   "cell_type": "code",
   "execution_count": 48,
   "metadata": {},
   "outputs": [],
   "source": [
    "# SIZE of error - |pred class - true class|\n",
    "error_amounts = pd.DataFrame( abs(yhat - true_labels) )\n",
    "#error_amounts[0:4]"
   ]
  },
  {
   "cell_type": "markdown",
   "metadata": {},
   "source": [
    "#### Biggest error is 4, either True Class 0, predicted 4, or opposite. There are 11 such examples "
   ]
  },
  {
   "cell_type": "code",
   "execution_count": 49,
   "metadata": {},
   "outputs": [
    {
     "name": "stdout",
     "output_type": "stream",
     "text": [
      "4\n"
     ]
    },
    {
     "data": {
      "text/plain": [
       "11"
      ]
     },
     "execution_count": 49,
     "metadata": {},
     "output_type": "execute_result"
    }
   ],
   "source": [
    "max = int(error_amounts.max())\n",
    "print(max)\n",
    "sum(error_amounts[0]==max)"
   ]
  },
  {
   "cell_type": "code",
   "execution_count": 64,
   "metadata": {},
   "outputs": [],
   "source": [
    "idx_max = error_amounts[0]==4"
   ]
  },
  {
   "cell_type": "code",
   "execution_count": 65,
   "metadata": {},
   "outputs": [
    {
     "data": {
      "text/plain": [
       "149     True\n",
       "213     True\n",
       "532     True\n",
       "608     True\n",
       "887     True\n",
       "1037    True\n",
       "1148    True\n",
       "1266    True\n",
       "1568    True\n",
       "1616    True\n",
       "1770    True\n",
       "Name: 0, dtype: bool"
      ]
     },
     "execution_count": 65,
     "metadata": {},
     "output_type": "execute_result"
    }
   ],
   "source": [
    "# Their id:s\n",
    "idx_max[idx_max==True]"
   ]
  },
  {
   "cell_type": "markdown",
   "metadata": {},
   "source": [
    "#### As articles are integers, int marking each word, to read them we need to turn ints back to words"
   ]
  },
  {
   "cell_type": "code",
   "execution_count": 53,
   "metadata": {},
   "outputs": [],
   "source": [
    "# single\n",
    "# [itos[o] for o in test_clas[0]]\n",
    "\n",
    "# whole array\n",
    "articles = np.array( [  [itos[o] for o in article] for article in test_clas ] )"
   ]
  },
  {
   "cell_type": "code",
   "execution_count": 55,
   "metadata": {},
   "outputs": [
    {
     "data": {
      "text/plain": [
       "['\\n',\n",
       " 'xbos',\n",
       " 'xfld',\n",
       " '1',\n",
       " 't_up',\n",
       " 'entity',\n",
       " 'tyson',\n",
       " 'foods',\n",
       " 'quarterly',\n",
       " 'profit',\n",
       " 'jumps',\n",
       " '28.6',\n",
       " '%',\n",
       " '\\n ',\n",
       " 't_up',\n",
       " 'entity',\n",
       " 'tyson',\n",
       " 'foods',\n",
       " ',',\n",
       " 'the',\n",
       " 'biggest',\n",
       " 'u.s',\n",
       " '.',\n",
       " 'meat',\n",
       " 'processor',\n",
       " ',',\n",
       " 'reported',\n",
       " 'a',\n",
       " '28.6',\n",
       " 'percent',\n",
       " 'rise',\n",
       " 'in',\n",
       " 'quarterly',\n",
       " 'profit',\n",
       " ',',\n",
       " 'helped',\n",
       " 'by',\n",
       " 'higher',\n",
       " 'exports',\n",
       " 'of',\n",
       " 'beef',\n",
       " 'and',\n",
       " 'pork',\n",
       " 'and',\n",
       " 'lower',\n",
       " 'livestock',\n",
       " 'costs',\n",
       " '.',\n",
       " '\\n',\n",
       " 'net',\n",
       " 'income',\n",
       " 'attributable',\n",
       " 'to',\n",
       " 't_up',\n",
       " 'entity',\n",
       " 'tyson',\n",
       " 'foods',\n",
       " 'rose',\n",
       " 'to',\n",
       " '$',\n",
       " '593',\n",
       " 'million',\n",
       " ',',\n",
       " 'or',\n",
       " '$',\n",
       " '1.59',\n",
       " 'per',\n",
       " 'share',\n",
       " ',',\n",
       " 'in',\n",
       " 'the',\n",
       " 'first',\n",
       " 'quarter',\n",
       " 'ended',\n",
       " 'dec',\n",
       " '.',\n",
       " '31',\n",
       " ',',\n",
       " 'from',\n",
       " '$',\n",
       " '461',\n",
       " 'million',\n",
       " ',',\n",
       " 'or',\n",
       " '$',\n",
       " '1.15',\n",
       " 'per',\n",
       " 'share',\n",
       " ',',\n",
       " 'a',\n",
       " 'year',\n",
       " 'earlier',\n",
       " '.',\n",
       " '\\n',\n",
       " 'sales',\n",
       " 'rose',\n",
       " 'marginally',\n",
       " 'to',\n",
       " '$',\n",
       " '9.18',\n",
       " 'billion',\n",
       " 'from',\n",
       " '$',\n",
       " '9.15',\n",
       " 'billion',\n",
       " '.',\n",
       " '\\n ',\n",
       " 't_up',\n",
       " 'entity',\n",
       " 'tyson',\n",
       " 'foods',\n",
       " \"'s\",\n",
       " 'shares',\n",
       " 'were',\n",
       " 'up',\n",
       " '7.8',\n",
       " 'percent',\n",
       " 'at',\n",
       " '$',\n",
       " '70.50',\n",
       " 'in',\n",
       " 'premarket',\n",
       " 'trading',\n",
       " 'on',\n",
       " 'monday',\n",
       " '.',\n",
       " '\\n',\n",
       " '(',\n",
       " 'reporting',\n",
       " 'by',\n",
       " 'sruthi',\n",
       " 'ramakrishnan',\n",
       " 'in',\n",
       " 'bengaluru',\n",
       " ';',\n",
       " 'editing',\n",
       " 'by',\n",
       " 'sriraj',\n",
       " 'kalluvila',\n",
       " ')']"
      ]
     },
     "execution_count": 55,
     "metadata": {},
     "output_type": "execute_result"
    }
   ],
   "source": [
    "test = articles[idx_max]\n",
    "test[0]"
   ]
  },
  {
   "cell_type": "code",
   "execution_count": null,
   "metadata": {},
   "outputs": [],
   "source": []
  },
  {
   "cell_type": "code",
   "execution_count": 57,
   "metadata": {},
   "outputs": [],
   "source": [
    "def asText(text):\n",
    "    ''' given sentence of integers return sentence of words responding those integers'''\n",
    "    text2 = [itos[o] for o in text] # integers to words\n",
    "    text3 = ' '.join(word for word in text2) # join list of words to one string\n",
    "    return text3"
   ]
  },
  {
   "cell_type": "code",
   "execution_count": 58,
   "metadata": {},
   "outputs": [
    {
     "data": {
      "text/plain": [
       "'\\n xbos xfld 1 t_up entity samsung electronics q4 operating profit jumps 50.2 % despite note 7 debacle \\n seoul : \\n electronics \\' profits leaped in the fourth quarter , it said on tuesday , despite the humiliating \\n recall that hammered the reputation of the world \\'s largest \\n maker . \\n the south korean tech giant took another blow when prosecutors began investigating its involvement in a corruption scandal , which has seen the country \\'s president impeached , and sought the arrest of the firm \\'s de facto leader lee jae - yong . \\n in a statement , the group \\'s flagship subsidiary t_up entity samsung electronics said it posted operating profits of 9.22 trillion won ( us$7.9 billion ) during the october to december period , up 50.2 % year - on - year . net profits for the quarter were 7.09 trillion won , up 120 % . \\n earnings were “ driven by the components businesses , mainly the memory business and the display panel segment \" , it said , with the stronger us dollar also boosting profits . \\n analysts say memory chip prices have been driven up by stronger demand as chinese smartphone makers release \\n with high ENTITY ENTITY cameras and bigger storage in a bid to catch up with t_up entity samsung electronics and apple . as the market leader in multiple segments t_up entity samsung electronics \\'s own chip division “ is the biggest benefactor \" , said tom kang , research director at counterpoint technology . \\n  t_up entity samsung electronics said it expected “ huge growth “ in the sector , and looking forward to 2017 , greg roh , an analyst at t_up hmc investment securities , told t_up afp : “ we are expecting t_up entity samsung electronics to post record - high profits this year on the back of rising chip prices . \" \\n  t_up entity samsung electronics was forced to discontinue the galaxy note 7 in october after a chaotic recall that saw replacement devices also catching fire .'"
      ]
     },
     "execution_count": 58,
     "metadata": {},
     "output_type": "execute_result"
    }
   ],
   "source": [
    "asText(test_clas[0])"
   ]
  },
  {
   "cell_type": "code",
   "execution_count": 44,
   "metadata": {},
   "outputs": [
    {
     "data": {
      "text/plain": [
       "'\\n xbos xfld 1 t_up entity samsung electronics q4 operating profit jumps 50.2 % despite note 7 debacle \\n seoul : \\n electronics \\' profits leaped in the fourth quarter , it said on tuesday , despite the humiliating \\n recall that hammered the reputation of the world \\'s largest \\n maker . \\n the south korean tech giant took another blow when prosecutors began investigating its involvement in a corruption scandal , which has seen the country \\'s president impeached , and sought the arrest of the firm \\'s de facto leader lee jae - yong . \\n in a statement , the group \\'s flagship subsidiary t_up entity samsung electronics said it posted operating profits of 9.22 trillion won ( us$7.9 billion ) during the october to december period , up 50.2 % year - on - year . net profits for the quarter were 7.09 trillion won , up 120 % . \\n earnings were “ driven by the components businesses , mainly the memory business and the display panel segment \" , it said , with the stronger us dollar also boosting profits . \\n analysts say memory chip prices have been driven up by stronger demand as chinese smartphone makers release \\n with high ENTITY ENTITY cameras and bigger storage in a bid to catch up with t_up entity samsung electronics and apple . as the market leader in multiple segments t_up entity samsung electronics \\'s own chip division “ is the biggest benefactor \" , said tom kang , research director at counterpoint technology . \\n  t_up entity samsung electronics said it expected “ huge growth “ in the sector , and looking forward to 2017 , greg roh , an analyst at t_up hmc investment securities , told t_up afp : “ we are expecting t_up entity samsung electronics to post record - high profits this year on the back of rising chip prices . \" \\n  t_up entity samsung electronics was forced to discontinue the galaxy note 7 in october after a chaotic recall that saw replacement devices also catching fire .'"
      ]
     },
     "execution_count": 44,
     "metadata": {},
     "output_type": "execute_result"
    }
   ],
   "source": [
    "# single article\n",
    "' '.join(word for word in articles[0])"
   ]
  },
  {
   "cell_type": "code",
   "execution_count": 59,
   "metadata": {},
   "outputs": [],
   "source": [
    "# whole array\n",
    "articles2 = [ ' '.join(word for word in row) for row in articles ]"
   ]
  },
  {
   "cell_type": "code",
   "execution_count": 79,
   "metadata": {},
   "outputs": [
    {
     "data": {
      "text/plain": [
       "\"\\n xbos xfld 1 t_up entity tyson foods quarterly profit jumps 28.6 % \\n  t_up entity tyson foods , the biggest u.s . meat processor , reported a 28.6 percent rise in quarterly profit , helped by higher exports of beef and pork and lower livestock costs . \\n net income attributable to t_up entity tyson foods rose to $ 593 million , or $ 1.59 per share , in the first quarter ended dec . 31 , from $ 461 million , or $ 1.15 per share , a year earlier . \\n sales rose marginally to $ 9.18 billion from $ 9.15 billion . \\n  t_up entity tyson foods 's shares were up 7.8 percent at $ 70.50 in premarket trading on monday . \\n ( reporting by sruthi ramakrishnan in bengaluru ; editing by sriraj kalluvila )\""
      ]
     },
     "execution_count": 79,
     "metadata": {},
     "output_type": "execute_result"
    }
   ],
   "source": [
    "articles2[149]"
   ]
  },
  {
   "cell_type": "code",
   "execution_count": 74,
   "metadata": {},
   "outputs": [
    {
     "data": {
      "text/plain": [
       "list"
      ]
     },
     "execution_count": 74,
     "metadata": {},
     "output_type": "execute_result"
    }
   ],
   "source": [
    "type(articles2)"
   ]
  },
  {
   "cell_type": "code",
   "execution_count": 75,
   "metadata": {},
   "outputs": [],
   "source": [
    "art = pd.DataFrame(articles2)"
   ]
  },
  {
   "cell_type": "code",
   "execution_count": 76,
   "metadata": {},
   "outputs": [
    {
     "data": {
      "text/html": [
       "<div>\n",
       "<style scoped>\n",
       "    .dataframe tbody tr th:only-of-type {\n",
       "        vertical-align: middle;\n",
       "    }\n",
       "\n",
       "    .dataframe tbody tr th {\n",
       "        vertical-align: top;\n",
       "    }\n",
       "\n",
       "    .dataframe thead th {\n",
       "        text-align: right;\n",
       "    }\n",
       "</style>\n",
       "<table border=\"1\" class=\"dataframe\">\n",
       "  <thead>\n",
       "    <tr style=\"text-align: right;\">\n",
       "      <th></th>\n",
       "      <th>0</th>\n",
       "    </tr>\n",
       "  </thead>\n",
       "  <tbody>\n",
       "    <tr>\n",
       "      <th>149</th>\n",
       "      <td>\\n xbos xfld 1 t_up entity tyson foods quarter...</td>\n",
       "    </tr>\n",
       "    <tr>\n",
       "      <th>213</th>\n",
       "      <td>\\n xbos xfld 1 t_up entity ENTITY stock is los...</td>\n",
       "    </tr>\n",
       "    <tr>\n",
       "      <th>532</th>\n",
       "      <td>\\n xbos xfld 1 t_up entity samsung electronics...</td>\n",
       "    </tr>\n",
       "    <tr>\n",
       "      <th>608</th>\n",
       "      <td>\\n xbos xfld 1 supreme court favors t_up entit...</td>\n",
       "    </tr>\n",
       "    <tr>\n",
       "      <th>887</th>\n",
       "      <td>\\n xbos xfld 1 t_up entity samsung electronics...</td>\n",
       "    </tr>\n",
       "    <tr>\n",
       "      <th>1037</th>\n",
       "      <td>\\n xbos xfld 1 u.s . supreme court leaves gap ...</td>\n",
       "    </tr>\n",
       "    <tr>\n",
       "      <th>1148</th>\n",
       "      <td>\\n xbos xfld 1 t_up entity aetna , inc . beats...</td>\n",
       "    </tr>\n",
       "    <tr>\n",
       "      <th>1266</th>\n",
       "      <td>\\n xbos xfld 1 what investors did n’t like abo...</td>\n",
       "    </tr>\n",
       "    <tr>\n",
       "      <th>1568</th>\n",
       "      <td>\\n xbos xfld 1 t_up entity twitter finally hir...</td>\n",
       "    </tr>\n",
       "    <tr>\n",
       "      <th>1616</th>\n",
       "      <td>\\n xbos xfld 1 t_up entity samsung electronics...</td>\n",
       "    </tr>\n",
       "    <tr>\n",
       "      <th>1770</th>\n",
       "      <td>\\n xbos xfld 1 why t_up entity qualcomm stock ...</td>\n",
       "    </tr>\n",
       "  </tbody>\n",
       "</table>\n",
       "</div>"
      ],
      "text/plain": [
       "                                                      0\n",
       "149   \\n xbos xfld 1 t_up entity tyson foods quarter...\n",
       "213   \\n xbos xfld 1 t_up entity ENTITY stock is los...\n",
       "532   \\n xbos xfld 1 t_up entity samsung electronics...\n",
       "608   \\n xbos xfld 1 supreme court favors t_up entit...\n",
       "887   \\n xbos xfld 1 t_up entity samsung electronics...\n",
       "1037  \\n xbos xfld 1 u.s . supreme court leaves gap ...\n",
       "1148  \\n xbos xfld 1 t_up entity aetna , inc . beats...\n",
       "1266  \\n xbos xfld 1 what investors did n’t like abo...\n",
       "1568  \\n xbos xfld 1 t_up entity twitter finally hir...\n",
       "1616  \\n xbos xfld 1 t_up entity samsung electronics...\n",
       "1770  \\n xbos xfld 1 why t_up entity qualcomm stock ..."
      ]
     },
     "execution_count": 76,
     "metadata": {},
     "output_type": "execute_result"
    }
   ],
   "source": [
    "# Pick those articles where biggest differnece between True and predicted label\n",
    "art[idx_max]"
   ]
  },
  {
   "cell_type": "code",
   "execution_count": 77,
   "metadata": {},
   "outputs": [
    {
     "data": {
      "text/plain": [
       "array([0, 4, 0, 0, 4, 0, 0, 0, 0, 0, 0])"
      ]
     },
     "execution_count": 77,
     "metadata": {},
     "output_type": "execute_result"
    }
   ],
   "source": [
    "yhat[idx_max]"
   ]
  },
  {
   "cell_type": "code",
   "execution_count": 78,
   "metadata": {},
   "outputs": [
    {
     "data": {
      "text/plain": [
       "array([4, 0, 4, 4, 0, 4, 4, 4, 4, 4, 4])"
      ]
     },
     "execution_count": 78,
     "metadata": {},
     "output_type": "execute_result"
    }
   ],
   "source": [
    "true_labels[idx_max]"
   ]
  },
  {
   "cell_type": "code",
   "execution_count": 80,
   "metadata": {},
   "outputs": [
    {
     "data": {
      "text/plain": [
       "\"\\n xbos xfld 1 t_up entity tyson foods quarterly profit jumps 28.6 % \\n  t_up entity tyson foods , the biggest u.s . meat processor , reported a 28.6 percent rise in quarterly profit , helped by higher exports of beef and pork and lower livestock costs . \\n net income attributable to t_up entity tyson foods rose to $ 593 million , or $ 1.59 per share , in the first quarter ended dec . 31 , from $ 461 million , or $ 1.15 per share , a year earlier . \\n sales rose marginally to $ 9.18 billion from $ 9.15 billion . \\n  t_up entity tyson foods 's shares were up 7.8 percent at $ 70.50 in premarket trading on monday . \\n ( reporting by sruthi ramakrishnan in bengaluru ; editing by sriraj kalluvila )\""
      ]
     },
     "execution_count": 80,
     "metadata": {},
     "output_type": "execute_result"
    }
   ],
   "source": [
    "art[0][149]"
   ]
  },
  {
   "cell_type": "code",
   "execution_count": 81,
   "metadata": {},
   "outputs": [
    {
     "data": {
      "text/plain": [
       "'\\n xbos xfld 1 t_up entity ENTITY stock is losing altitude — abort ! \\n  t_up entity boeing appears to be on the verge of a technical breakdown , which would end a five - month uptrend for the dow jones industrial average stalwart as it continues to test support at its 20-day moving average . \\n the ENTITY indicator has already flashed a sell signal , falling out of an overbought condition after setting a lower high . momentum is waning . \\n watch for a break of the 50-day moving average after the company reports results on jan . 25 before the market . analysts are looking for earnings of $ 2.33 per share on revenues of $ 23.1 billion . \\n the company was recently initiated with an “ underperform ” rating by analysts at t_up rbc capital markets , citing a historical relationship between the company ’s profit margins and the average age of its production platforms . according to analyst matthew mcconnell : \\n “ we believe new commercial platforms create margin pressure due to higher unit production costs in initial accounting blocks , engineering and supply chain risks when ramping up new programs , and slowing production and pricing pressure on high margin legacy platforms in advance of new launches , among other factors . ” \\n the recent share price rise has disconnected from this relationship , which has driven nearly all the price increase t_up entity boeing has enjoyed for some time now . \\n other headwinds include a lowering of f-35 costs by lockheed martin corporation ( t_up nyse : t_up lmt ) , lowering the chances president trump looks to t_up entity boeing to provide an f / ENTITY alternative , as well as the risk that a tightening of trade terms will jeopardize t_up entity boeing ’s overseas sales . \\n i have recommended the feb $ ENTITY t_up entity boeing puts to edge pro subscribers . \\n anthony ENTITY is founder of the edge and edge pro investment advisory newsletters . a two - week and four - week free trial offer has been extended to investorplace readers .'"
      ]
     },
     "execution_count": 81,
     "metadata": {},
     "output_type": "execute_result"
    }
   ],
   "source": [
    "art[0][213]"
   ]
  },
  {
   "cell_type": "code",
   "execution_count": null,
   "metadata": {},
   "outputs": [],
   "source": []
  }
 ],
 "metadata": {
  "kernelspec": {
   "display_name": "Python 3",
   "language": "python",
   "name": "python3"
  },
  "language_info": {
   "codemirror_mode": {
    "name": "ipython",
    "version": 3
   },
   "file_extension": ".py",
   "mimetype": "text/x-python",
   "name": "python",
   "nbconvert_exporter": "python",
   "pygments_lexer": "ipython3",
   "version": "3.6.6"
  }
 },
 "nbformat": 4,
 "nbformat_minor": 2
}
